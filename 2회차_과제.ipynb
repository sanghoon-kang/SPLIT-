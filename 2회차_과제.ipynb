{
  "nbformat": 4,
  "nbformat_minor": 0,
  "metadata": {
    "colab": {
      "name": "2회차 과제",
      "version": "0.3.2",
      "provenance": [],
      "collapsed_sections": [],
      "include_colab_link": true
    },
    "kernelspec": {
      "name": "python3",
      "display_name": "Python 3"
    }
  },
  "cells": [
    {
      "cell_type": "markdown",
      "metadata": {
        "id": "view-in-github",
        "colab_type": "text"
      },
      "source": [
        "<a href=\"https://colab.research.google.com/github/young950814/SPLIT-/blob/master/2%ED%9A%8C%EC%B0%A8_%EA%B3%BC%EC%A0%9C.ipynb\" target=\"_parent\"><img src=\"https://colab.research.google.com/assets/colab-badge.svg\" alt=\"Open In Colab\"/></a>"
      ]
    },
    {
      "metadata": {
        "id": "wype49b0sCEh",
        "colab_type": "code",
        "colab": {}
      },
      "cell_type": "code",
      "source": [
        "#[4-1, 1]\n",
        "def is_odd (num):\n",
        "  if num%2==0:\n",
        "    return \"{0}은/는 짝수입니다.\".format(num)\n",
        "  elif num%2==1:\n",
        "    return \"{0}은/는 홀수입니다.\".format(num)\n",
        "  else:\n",
        "    return \"자연수가 아닙니다.\"\n",
        "\n"
      ],
      "execution_count": 0,
      "outputs": []
    },
    {
      "metadata": {
        "id": "kcbExU7NESl_",
        "colab_type": "code",
        "colab": {}
      },
      "cell_type": "code",
      "source": [
        "#[4-1, 2]\n",
        "\n",
        "def mean (*args):\n",
        "  result=0\n",
        "  for i in args:\n",
        "    result+=i\n",
        "  return result/len(args)\n",
        "\n",
        "# *를 풀면 개별 요소가 아니라 튜플인듯?"
      ],
      "execution_count": 0,
      "outputs": []
    },
    {
      "metadata": {
        "id": "mF-4yQ4-3Fe9",
        "colab_type": "code",
        "colab": {}
      },
      "cell_type": "code",
      "source": [
        "#[4-1, 3]\n",
        "\n",
        "def gugudan(n):\n",
        "  for i in range(1,10):\n",
        "    print(n*i)\n"
      ],
      "execution_count": 0,
      "outputs": []
    },
    {
      "metadata": {
        "id": "ICU3LQWs3g8E",
        "colab_type": "code",
        "outputId": "ecad8280-a1ea-4ba8-e529-6b161c8eb2f4",
        "colab": {
          "base_uri": "https://localhost:8080/",
          "height": 35
        }
      },
      "cell_type": "code",
      "source": [
        "#[4-1, 4]\n",
        "\n",
        "def fib(n):\n",
        "  if n==0:\n",
        "    return 0\n",
        "  elif n==1:\n",
        "    return 0\n",
        "  elif n>1:\n",
        "    return fib(n-1) + fib(n-2)\n",
        "  \n",
        "fib(1)\n",
        "fib(0)\n",
        "fib(1)\n",
        "\n",
        "## 해설에서는  elif를 안 쓰는 데.... 차이가 무엇인지???\n",
        "  \n",
        "  "
      ],
      "execution_count": 0,
      "outputs": [
        {
          "output_type": "execute_result",
          "data": {
            "text/plain": [
              "0"
            ]
          },
          "metadata": {
            "tags": []
          },
          "execution_count": 19
        }
      ]
    },
    {
      "metadata": {
        "id": "NGd4rnJG5THG",
        "colab_type": "code",
        "colab": {}
      },
      "cell_type": "code",
      "source": [
        "#[4-1, 5]\n",
        "\n",
        "numbers = [1,2,3,4,5,6,7,8,9,10]\n",
        "\n",
        "myfunc = lambda numbers : [number for number in numbers if number >5] \n",
        "\n",
        "\n",
        "#myfunc = lambda numbers:[number for number in numbers if number > 5]\n",
        "#myfunc([2,3,4,5,6,7,8])\n"
      ],
      "execution_count": 0,
      "outputs": []
    },
    {
      "metadata": {
        "id": "GKJkREWl6ueN",
        "colab_type": "code",
        "outputId": "eb5407d8-67b0-4b53-d566-2c09f191b1ff",
        "colab": {
          "base_uri": "https://localhost:8080/",
          "height": 71
        }
      },
      "cell_type": "code",
      "source": [
        "#[4-2, 1]\n",
        "\n",
        "input1 = input(\"첫번째 숫자를 입력하세요:\")\n",
        "input2 = input(\"두번째 숫자를 입력하세요:\")\n",
        "\n",
        "total = int(input1) + int(input2)\n",
        "print(\"두 수의 합은 %s 입니다\" % total)"
      ],
      "execution_count": 0,
      "outputs": [
        {
          "output_type": "stream",
          "text": [
            "첫번째 숫자를 입력하세요:3\n",
            "두번째 숫자를 입력하세요:6\n",
            "두 수의 합은 9 입니다\n"
          ],
          "name": "stdout"
        }
      ]
    },
    {
      "metadata": {
        "id": "sTpS_PJs7zVu",
        "colab_type": "code",
        "outputId": "9ad7bc03-7528-4ef4-a7be-8bf9e06423dc",
        "colab": {
          "base_uri": "https://localhost:8080/",
          "height": 53
        }
      },
      "cell_type": "code",
      "source": [
        "#[4-2, 2]\n",
        "args = input(\"숫자를 입력하세요: \")\n",
        "num = args.split(',')\n",
        "result=0\n",
        "for i in num:\n",
        "  result += int(i)\n",
        "print(result)\n"
      ],
      "execution_count": 0,
      "outputs": [
        {
          "output_type": "stream",
          "text": [
            "숫자를 입력하세요: 2,3\n",
            "5\n"
          ],
          "name": "stdout"
        }
      ]
    },
    {
      "metadata": {
        "id": "2BUhpq53-b19",
        "colab_type": "code",
        "colab": {}
      },
      "cell_type": "code",
      "source": [
        "#[4-2, 3]\n",
        "#3->콤마: 공백 더해짐"
      ],
      "execution_count": 0,
      "outputs": []
    },
    {
      "metadata": {
        "id": "DWD6OYqc-vyH",
        "colab_type": "code",
        "outputId": "38bdb7c9-4f0a-49a8-a654-ea1385481a76",
        "colab": {
          "base_uri": "https://localhost:8080/",
          "height": 197
        }
      },
      "cell_type": "code",
      "source": [
        "#[4-2, 4]\n",
        "\n",
        "num = input (\"숫자를 선택해 주세요: \")\n",
        "for i in range (1,10):\n",
        "  print (int(num)*i)\n",
        "    \n"
      ],
      "execution_count": 0,
      "outputs": [
        {
          "output_type": "stream",
          "text": [
            "숫자를 선택해 주세요: 2\n",
            "2\n",
            "4\n",
            "6\n",
            "8\n",
            "10\n",
            "12\n",
            "14\n",
            "16\n",
            "18\n"
          ],
          "name": "stdout"
        }
      ]
    },
    {
      "metadata": {
        "id": "ReyAzrdl_X40",
        "colab_type": "code",
        "outputId": "408a63ce-34cc-4ba8-9069-e211e668a59c",
        "colab": {
          "base_uri": "https://localhost:8080/",
          "height": 36
        }
      },
      "cell_type": "code",
      "source": [
        "#[4-3, 1]\n",
        "\n",
        "f1 = open('C:\\doit\\new_file.txt', 'w' )\n",
        "f1.write(\"Life is too short\")\n",
        "f1.close()\n",
        "f2 = open('C:\\doit\\new_file.txt', 'r')\n",
        "print(f2.read())\n",
        "\n",
        "##실제로 python_practice에 들어가면 아무것도 없는데 ㅠㅠㅠ"
      ],
      "execution_count": 0,
      "outputs": [
        {
          "output_type": "stream",
          "text": [
            "Life is too short\n"
          ],
          "name": "stdout"
        }
      ]
    },
    {
      "metadata": {
        "id": "LtQLHGoDR_cV",
        "colab_type": "code",
        "outputId": "9c6baabd-95d6-44e5-f701-df9464fb594d",
        "colab": {
          "base_uri": "https://localhost:8080/",
          "height": 92
        }
      },
      "cell_type": "code",
      "source": [
        "#[4-3, 2]\n",
        "\n",
        "f1= open('C:\\doit\\test.txt', 'a')\n",
        "f1.write(input(\"저장할 내용을 입력하세요: \"))\n",
        "f1.write('\\n')\n",
        "f1.close()\n",
        "f2= open('C:\\doit\\test.txt', 'r')\n",
        "print(f2.read())\n",
        "f2.close()"
      ],
      "execution_count": 0,
      "outputs": [
        {
          "output_type": "stream",
          "text": [
            "저장할 내용을 입력하세요: a\n",
            "dddddddd\n",
            "a\n",
            "\n"
          ],
          "name": "stdout"
        }
      ]
    },
    {
      "metadata": {
        "id": "HynfWrXgUNjH",
        "colab_type": "code",
        "colab": {}
      },
      "cell_type": "code",
      "source": [
        "#[4-3, 3]\n",
        "\n",
        "f=open('abc.txt', 'r')\n",
        "b=f.readlines()\n",
        "f.close\n",
        "\n",
        "c=reversed(b)\n",
        "f=open('abc.txt', 'w')\n",
        "for line in c:\n",
        "  line=line.strip()\n",
        "  f.write(line)\n",
        "  f.write('\\n')\n",
        "  \n",
        "f.close()"
      ],
      "execution_count": 0,
      "outputs": []
    },
    {
      "metadata": {
        "id": "SdP1aJaiVnFe",
        "colab_type": "code",
        "colab": {}
      },
      "cell_type": "code",
      "source": [
        "#[4-3, 4]\n",
        "\n",
        "f=open('test.txt', 'r')\n",
        "a=f.read()\n",
        "f.close()\n",
        "\n",
        "a.replace('java', 'python')\n",
        "\n",
        "f=open('test.txt', 'w')\n",
        "f.write(a)\n",
        "f.close"
      ],
      "execution_count": 0,
      "outputs": []
    },
    {
      "metadata": {
        "id": "vg7avQkoWQ-g",
        "colab_type": "code",
        "colab": {}
      },
      "cell_type": "code",
      "source": [
        "#[4-3, 4]\n",
        "\n",
        "f=open('sample.txt', 'r')\n",
        "a=f.readlines()\n",
        "f.close()\n",
        "\n",
        "for i in a:\n",
        "  result=0\n",
        "  result+=i\n",
        "  mean = result/len(a)\n",
        "  return mean\n",
        "\n",
        "f=open('result.txt', 'w')\n",
        "f.write(mean)\n",
        "f.close()"
      ],
      "execution_count": 0,
      "outputs": []
    },
    {
      "metadata": {
        "id": "gyxuYadJherC",
        "colab_type": "code",
        "outputId": "a94b649a-077e-4a8e-cebc-345ed6ff90ea",
        "colab": {
          "base_uri": "https://localhost:8080/",
          "height": 36
        }
      },
      "cell_type": "code",
      "source": [
        "#[5-1, 1]\n",
        "class Calculator ():\n",
        "  def __init__(self):\n",
        "      self.value = 0\n",
        "\n",
        "  def add(self, val):\n",
        "      self.value += val\n",
        "      return self.value\n",
        "        \n",
        "cal = Calculator()\n",
        "cal.add(3)\n",
        "cal.add(4)\n",
        "\n",
        "print(cal.value) "
      ],
      "execution_count": 0,
      "outputs": [
        {
          "output_type": "stream",
          "text": [
            "7\n"
          ],
          "name": "stdout"
        }
      ]
    },
    {
      "metadata": {
        "id": "-LtHEbx8jHV3",
        "colab_type": "code",
        "outputId": "c2f68d3c-3928-4f0f-d493-71dc6dd98cf1",
        "colab": {
          "base_uri": "https://localhost:8080/",
          "height": 36
        }
      },
      "cell_type": "code",
      "source": [
        "#[5-1, 2]\n",
        "class Calculator:\n",
        "  def __init__(self, init_value=0):\n",
        "      self.value = init_value\n",
        "\n",
        "  def add(self, value):\n",
        "      self.value += value\n",
        "      \n",
        "      \n",
        "cal = Calculator()\n",
        "cal.add(3)\n",
        "cal.add(4)\n",
        "\n",
        "print(cal.value)      \n",
        "\n",
        "# init_value가 지정되지 않아서 문제인듯..? 초기값이 없음."
      ],
      "execution_count": 0,
      "outputs": [
        {
          "output_type": "stream",
          "text": [
            "7\n"
          ],
          "name": "stdout"
        }
      ]
    },
    {
      "metadata": {
        "id": "ZX4fUX8-mx7X",
        "colab_type": "code",
        "outputId": "078190af-8a73-4eb7-c6ac-b44e8c3fbca7",
        "colab": {
          "base_uri": "https://localhost:8080/",
          "height": 36
        }
      },
      "cell_type": "code",
      "source": [
        "#[5-1, 3]\n",
        "\n",
        "class Calculator:\n",
        "  def __init__(self):\n",
        "      self.value = 0\n",
        "\n",
        "  def add(self, val):\n",
        "      self.value += val\n",
        "      \n",
        "class UpgradeCalculator(Calculator):\n",
        "  def __init__(self) :\n",
        "    Calculator.__init__(self)\n",
        "  def minus(self, val):\n",
        "    self.value -= val\n",
        "    \n",
        "cal = UpgradeCalculator()\n",
        "cal.add(10)\n",
        "cal.minus(7)\n",
        "\n",
        "print(cal.value)"
      ],
      "execution_count": 0,
      "outputs": [
        {
          "output_type": "stream",
          "text": [
            "3\n"
          ],
          "name": "stdout"
        }
      ]
    },
    {
      "metadata": {
        "id": "yUqOsMEZkznW",
        "colab_type": "code",
        "outputId": "4511577c-d2c2-4e32-ca6a-7faaa424a602",
        "colab": {
          "base_uri": "https://localhost:8080/",
          "height": 36
        }
      },
      "cell_type": "code",
      "source": [
        "#[5-1, 4]\n",
        "\n",
        "class Calculator:\n",
        "  def __init__(self):\n",
        "    self.value = 0\n",
        "\n",
        "  def add(self, val):\n",
        "    self.value += val\n",
        "      \n",
        "class MaxLimitCalculator(Calculator):\n",
        "  def __init__(self):\n",
        "    Calculator.__init__(self)\n",
        "    \n",
        "  def add(self, val):\n",
        "    self.value+=val\n",
        "    if self.value>100:\n",
        "      self.value=100\n",
        "    else:\n",
        "      self.value\n",
        "    \n",
        "cal = MaxLimitCalculator()\n",
        "cal.add(50)\n",
        "cal.add(60)\n",
        "\n",
        "print(cal.value) "
      ],
      "execution_count": 0,
      "outputs": [
        {
          "output_type": "stream",
          "text": [
            "100\n"
          ],
          "name": "stdout"
        }
      ]
    },
    {
      "metadata": {
        "id": "NSi7L9vsqUSz",
        "colab_type": "code",
        "outputId": "3dd23adb-9a21-4cec-d83c-3e523e5f9325",
        "colab": {
          "base_uri": "https://localhost:8080/",
          "height": 92
        }
      },
      "cell_type": "code",
      "source": [
        "# [5-1, 5]\n",
        "\n",
        "class Calculator:\n",
        "  def __init__(self, init_value):\n",
        "    self.value=init_value\n",
        "  def sum(self):\n",
        "    result=0\n",
        "    for i in self.value:\n",
        "      result += i\n",
        "    return result\n",
        "  def avg(self):\n",
        "    result=0\n",
        "    for i in self.value:\n",
        "      result += i\n",
        "      result = result/len(self.value)\n",
        "      return result\n",
        "\n",
        "\n",
        "cal1 = Calculator([1,2,3,4,5])\n",
        "print(cal1.sum())  # 15 출력\n",
        "print(cal1.avg())  # 3.0 출력\n",
        "cal2 = Calculator([6,7,8,9,10])\n",
        "print(cal2.sum())  # 40 출력\n",
        "print(cal2.avg())  # 8.0 출력\n"
      ],
      "execution_count": 0,
      "outputs": [
        {
          "output_type": "stream",
          "text": [
            "15\n",
            "0.2\n",
            "40\n",
            "1.2\n"
          ],
          "name": "stdout"
        }
      ]
    },
    {
      "metadata": {
        "id": "gRXDFWZosxqR",
        "colab_type": "code",
        "colab": {}
      },
      "cell_type": "code",
      "source": [
        "# 왜 명령 프롬프트로 모듈을 불러내는 것이 중요한지..? 무엇을 위한 것인지 잘 이해가 되지 않음\n",
        "\n",
        "# [5-2, 1]\n",
        "\n",
        "# sys.path.append를 이용해서 모듈이 저장된 디렉토리를 추가한다.\n",
        "\n",
        "import sys\n",
        "sys.path.append(\"C:\\doit\")\n",
        "import mymod\n",
        "\n",
        "# PYTHONPATH 환경 변수에 디렉토리를 저장한다.\n",
        "\n",
        "C:\\Users\\home>set PYTHONPATH=c:\\doit\n",
        "C:\\Users\\home>python\n",
        "import mymod\n",
        "\n",
        "## (해설) 현재 디렉토리를 이동한다.\n",
        "\n",
        "C:\\Users\\home>cd c:\\doit\n",
        "C:\\doit>python\n",
        "import mymod"
      ],
      "execution_count": 0,
      "outputs": []
    },
    {
      "metadata": {
        "id": "tDUPybgl9o06",
        "colab_type": "code",
        "colab": {}
      },
      "cell_type": "code",
      "source": [
        "#[5-2, 2]\n",
        "\n",
        "#mymod.py라는 파일을 작성한다고 치면.\n",
        "\n",
        "file=open('C:\\doit\\mymod.py', 'w')\n",
        "file.write('def my_sum(a,b): return a+b')\n",
        "file.close()\n",
        "\n",
        "#이래도 될까요...스트링이라 안되려나.."
      ],
      "execution_count": 0,
      "outputs": []
    },
    {
      "metadata": {
        "id": "vjqYqtOc-oNE",
        "colab_type": "code",
        "colab": {}
      },
      "cell_type": "code",
      "source": [
        "#[5-2, 3]\n",
        "\n",
        "def mysum(a, b):\n",
        "    return a+b\n",
        "\n",
        "# test\n",
        "if __name__ = \"__main__\"\n",
        "print(mysum(3, 7)) \n",
        "\n",
        "#나는 test code를 지우는 방식으로 했는데, 해설에서는 if __name__ = \"__main__\"을 추가해서, 메인에서 호출했을 때만 10이 프린트 되도록 함."
      ],
      "execution_count": 0,
      "outputs": []
    },
    {
      "metadata": {
        "id": "G4pKT9Ic_fwL",
        "colab_type": "code",
        "colab": {}
      },
      "cell_type": "code",
      "source": [
        "# [5-3, 1]\n",
        "\n",
        "import game\n",
        "game.sound.echo.echo_test()\n",
        "\n",
        "# import는 모듈을 불러들여야 한다. 이건 패키지 자체를 부르려 하고 있다."
      ],
      "execution_count": 0,
      "outputs": []
    },
    {
      "metadata": {
        "id": "u3PENshIBx5t",
        "colab_type": "code",
        "colab": {}
      },
      "cell_type": "code",
      "source": [
        "# [5-3, 2]\n",
        "\n",
        "import ..sound.echo.echo_test\n",
        "echo_test()"
      ],
      "execution_count": 0,
      "outputs": []
    },
    {
      "metadata": {
        "id": "DdXx99EIB_ys",
        "colab_type": "code",
        "outputId": "7c41770c-3081-48e6-f052-e28a474a24aa",
        "colab": {
          "base_uri": "https://localhost:8080/",
          "height": 36
        }
      },
      "cell_type": "code",
      "source": [
        "# [5-4, 1]\n",
        "\n",
        "\"a\" + '1'\n",
        "# TypeError의 발생->1을 스트링으로 만들자.\n",
        "\n",
        "a = [1, 2, 3] \n",
        "a[2]\n",
        "#IndexError의 발생"
      ],
      "execution_count": 0,
      "outputs": [
        {
          "output_type": "execute_result",
          "data": {
            "text/plain": [
              "3"
            ]
          },
          "metadata": {
            "tags": []
          },
          "execution_count": 5
        }
      ]
    },
    {
      "metadata": {
        "id": "V5DdxZ1dD2Ei",
        "colab_type": "code",
        "outputId": "ff517a2d-2415-468b-c20f-07c56ba42210",
        "colab": {
          "base_uri": "https://localhost:8080/",
          "height": 36
        }
      },
      "cell_type": "code",
      "source": [
        "# [5-4, 2]\n",
        "\n",
        "a = [1, 2, 3]\n",
        "\n",
        "try:\n",
        "  result = a[-3]\n",
        "except:\n",
        "  print(\"error\")\n",
        "else:\n",
        "  print(\"no error\")\n",
        "  \n",
        "  # -3 자리에는 1이 있음 (맨 뒤에서 세 번째 요소)->error가 없으므로 no error의 출력.\n"
      ],
      "execution_count": 0,
      "outputs": [
        {
          "output_type": "stream",
          "text": [
            "no error\n"
          ],
          "name": "stdout"
        }
      ]
    },
    {
      "metadata": {
        "id": "2OPyS1_AEQvJ",
        "colab_type": "code",
        "outputId": "a4ee1198-141e-4bc6-b2d3-98237ee5179e",
        "colab": {
          "base_uri": "https://localhost:8080/",
          "height": 36
        }
      },
      "cell_type": "code",
      "source": [
        "# [5-4, 3]\n",
        "\n",
        "result = 3\n",
        "\n",
        "try:\n",
        "  result += 1\n",
        "except:\n",
        "  result += 2\n",
        "else:\n",
        "  result += 3\n",
        "finally:\n",
        "  result += 4\n",
        "\n",
        "print(result)\n",
        "\n",
        "# 에러가 없으므로, else와 finally만 실행된다. 따라서, 3+1+3+4=11 출력."
      ],
      "execution_count": 0,
      "outputs": [
        {
          "output_type": "stream",
          "text": [
            "11\n"
          ],
          "name": "stdout"
        }
      ]
    },
    {
      "metadata": {
        "id": "aGhPq8eAEiMm",
        "colab_type": "code",
        "outputId": "60ed0494-b6a4-43c8-ac5e-9154feb2022b",
        "colab": {
          "base_uri": "https://localhost:8080/",
          "height": 36
        }
      },
      "cell_type": "code",
      "source": [
        "# [5-4, 4]\n",
        "\n",
        "result = 0\n",
        "try:\n",
        "  [1, 2, 3][3]\n",
        "  \"a\"+1\n",
        "  4 / 0\n",
        "except TypeError:\n",
        "  result += 1\n",
        "except ZeroDivisionError:\n",
        "  result += 2\n",
        "except IndexError:\n",
        "  result += 3\n",
        "else:\n",
        "  result += 4\n",
        "finally:\n",
        "  result += 5\n",
        "\n",
        "print(result)\n",
        "\n",
        "# IndexError가 먼저 발생하므로, 3 더하고, finally의 5를 더해서 8 출력."
      ],
      "execution_count": 0,
      "outputs": [
        {
          "output_type": "stream",
          "text": [
            "8\n"
          ],
          "name": "stdout"
        }
      ]
    },
    {
      "metadata": {
        "id": "QDg3Ri6wEw_Z",
        "colab_type": "code",
        "outputId": "2c32053a-8a42-4a4e-9b6c-5e22f14cb360",
        "colab": {
          "base_uri": "https://localhost:8080/",
          "height": 36
        }
      },
      "cell_type": "code",
      "source": [
        "# [5-5, 1]\n",
        "\n",
        "all([1, 2, abs(-3)-3])\n",
        "# abs는 절댓값->[1,2,0]->모두 True. 따라서 True.\n",
        "\n",
        "chr(ord('a')) == 'a'\n",
        "#ord는 chr과 반대임. 따라서 'a'->아스키값->'a'로 돌아올 것. 따라서 True."
      ],
      "execution_count": 0,
      "outputs": [
        {
          "output_type": "execute_result",
          "data": {
            "text/plain": [
              "True"
            ]
          },
          "metadata": {
            "tags": []
          },
          "execution_count": 11
        }
      ]
    },
    {
      "metadata": {
        "id": "vCNOaIfUFi6g",
        "colab_type": "code",
        "outputId": "3fe454db-b455-4ae1-b4d6-6cc5a5981a3b",
        "colab": {
          "base_uri": "https://localhost:8080/",
          "height": 36
        }
      },
      "cell_type": "code",
      "source": [
        "# [5-5, 2]\n",
        "a={}\n",
        "for i, letter in enumerate(['a', 'b', 'c']):\n",
        "  a[i]=letter\n",
        "  \n",
        "print(a)"
      ],
      "execution_count": 0,
      "outputs": [
        {
          "output_type": "stream",
          "text": [
            "{0: 'a', 1: 'b', 2: 'c'}\n"
          ],
          "name": "stdout"
        }
      ]
    },
    {
      "metadata": {
        "id": "vjQBi8fzGTwD",
        "colab_type": "code",
        "outputId": "9f3c2f0b-1eb7-4ec4-bd56-141de02f2cd7",
        "colab": {
          "base_uri": "https://localhost:8080/",
          "height": 36
        }
      },
      "cell_type": "code",
      "source": [
        "# [5-5, 3]\n",
        "#func = lambda a : for i in a if i<0 a.pop(i)\n",
        "\n",
        "\n",
        "#print(list(filter(func,[1, -2, 3, -5, 8, -3])))\n",
        "\n",
        "print(list(filter(lambda x:x>0, [1,-2,3,-5,8,-3])))"
      ],
      "execution_count": 0,
      "outputs": [
        {
          "output_type": "stream",
          "text": [
            "[1, 3, 8]\n"
          ],
          "name": "stdout"
        }
      ]
    },
    {
      "metadata": {
        "id": "_eycJXtDIOQi",
        "colab_type": "code",
        "outputId": "9f855db5-84a0-4d78-adf2-1d2d9fcb4624",
        "colab": {
          "base_uri": "https://localhost:8080/",
          "height": 36
        }
      },
      "cell_type": "code",
      "source": [
        "#[5-5, 4]\n",
        "\n",
        "int('0xea', 16)"
      ],
      "execution_count": 0,
      "outputs": [
        {
          "output_type": "execute_result",
          "data": {
            "text/plain": [
              "234"
            ]
          },
          "metadata": {
            "tags": []
          },
          "execution_count": 22
        }
      ]
    },
    {
      "metadata": {
        "id": "aWk_UYuOIg1y",
        "colab_type": "code",
        "outputId": "412e93d1-1f50-4b1d-8f43-237b602efc57",
        "colab": {
          "base_uri": "https://localhost:8080/",
          "height": 36
        }
      },
      "cell_type": "code",
      "source": [
        "#[5-5, 5]\n",
        "\n",
        "print(list(map(lambda x : x*3, [1,2,3,4])))"
      ],
      "execution_count": 0,
      "outputs": [
        {
          "output_type": "stream",
          "text": [
            "[3, 6, 9, 12]\n"
          ],
          "name": "stdout"
        }
      ]
    },
    {
      "metadata": {
        "id": "do9bkawxI_qj",
        "colab_type": "code",
        "outputId": "dd03b4b7-2e3e-45e9-fed1-82bc350ca4bf",
        "colab": {
          "base_uri": "https://localhost:8080/",
          "height": 36
        }
      },
      "cell_type": "code",
      "source": [
        "#[5-5, 6]\n",
        "\n",
        "a=[-8, 2, 7, 5, -3, 5, 0, 1]\n",
        "max(a) + min(a)"
      ],
      "execution_count": 0,
      "outputs": [
        {
          "output_type": "execute_result",
          "data": {
            "text/plain": [
              "-1"
            ]
          },
          "metadata": {
            "tags": []
          },
          "execution_count": 27
        }
      ]
    },
    {
      "metadata": {
        "id": "hrenvvuZJKip",
        "colab_type": "code",
        "outputId": "19d25d36-9cd0-4813-debd-4709d03b5d38",
        "colab": {
          "base_uri": "https://localhost:8080/",
          "height": 36
        }
      },
      "cell_type": "code",
      "source": [
        "#[5-5, 7]\n",
        "\n",
        "round(17 / 3, 4)"
      ],
      "execution_count": 0,
      "outputs": [
        {
          "output_type": "execute_result",
          "data": {
            "text/plain": [
              "5.6667"
            ]
          },
          "metadata": {
            "tags": []
          },
          "execution_count": 29
        }
      ]
    },
    {
      "metadata": {
        "id": "6oHIXUAJJmWY",
        "colab_type": "code",
        "outputId": "6efba56f-1e22-4196-a835-65bd6aa7ab66",
        "colab": {
          "base_uri": "https://localhost:8080/",
          "height": 36
        }
      },
      "cell_type": "code",
      "source": [
        "#[5-5, 8]\n",
        "\n",
        "list(zip ([1, 2, 3, 4], ['a','b','c','d']))"
      ],
      "execution_count": 0,
      "outputs": [
        {
          "output_type": "execute_result",
          "data": {
            "text/plain": [
              "[(1, 'a'), (2, 'b'), (3, 'c'), (4, 'd')]"
            ]
          },
          "metadata": {
            "tags": []
          },
          "execution_count": 34
        }
      ]
    },
    {
      "metadata": {
        "id": "M6IgGO5RKA1n",
        "colab_type": "code",
        "colab": {}
      },
      "cell_type": "code",
      "source": [
        "#[5-6, 1]\n",
        "\n",
        "import sys\n",
        "a=sys.arg[1:]\n",
        "\n",
        "for i in a:\n",
        "  result=0\n",
        "  result+=int(i)\n",
        "  return result\n",
        "\n",
        "  "
      ],
      "execution_count": 0,
      "outputs": []
    },
    {
      "metadata": {
        "id": "qkYnninTMlqR",
        "colab_type": "code",
        "colab": {}
      },
      "cell_type": "code",
      "source": [
        "#[5-6, 2]\n",
        "\n",
        "import os\n",
        "os.chdir(C:\\doit)\n",
        "a = os.popen(\"dir\")\n",
        "print(a.read())"
      ],
      "execution_count": 0,
      "outputs": []
    },
    {
      "metadata": {
        "id": "Uop4PS0mNabR",
        "colab_type": "code",
        "colab": {}
      },
      "cell_type": "code",
      "source": [
        "#[5-6, 3]\n",
        "\n",
        "import glob\n",
        "glob.glob(\"C:\\doit\\*.py\")"
      ],
      "execution_count": 0,
      "outputs": []
    },
    {
      "metadata": {
        "id": "qNiI7QB1NxEn",
        "colab_type": "code",
        "outputId": "e2f1b6e2-d4d8-4aee-f7ce-8b3577df18b2",
        "colab": {
          "base_uri": "https://localhost:8080/",
          "height": 36
        }
      },
      "cell_type": "code",
      "source": [
        "#[5-6, 4]\n",
        "\n",
        "import time\n",
        "a=time.strftime(\"%Y/%m/%d %H:%M:%S\")\n",
        "print(a)"
      ],
      "execution_count": 0,
      "outputs": [
        {
          "output_type": "stream",
          "text": [
            "2018/12/23 08:42:37\n"
          ],
          "name": "stdout"
        }
      ]
    },
    {
      "metadata": {
        "id": "lY0WMSm_Ow5b",
        "colab_type": "code",
        "outputId": "312ace75-9cf8-4337-c4ac-fd94a6922588",
        "colab": {
          "base_uri": "https://localhost:8080/",
          "height": 36
        }
      },
      "cell_type": "code",
      "source": [
        "#[5-6, 5]\n",
        "\n",
        "import random\n",
        "a=[]\n",
        "count=6\n",
        "while count>0:\n",
        "  count-=1\n",
        "  a.append(random.randint(1,45))\n",
        "a\n"
      ],
      "execution_count": 0,
      "outputs": [
        {
          "output_type": "execute_result",
          "data": {
            "text/plain": [
              "[43, 32, 19, 19, 12, 29]"
            ]
          },
          "metadata": {
            "tags": []
          },
          "execution_count": 41
        }
      ]
    },
    {
      "metadata": {
        "id": "F4_pJ8EHPunH",
        "colab_type": "code",
        "outputId": "180fff87-ef06-4871-beb2-6cc52ab711d1",
        "colab": {
          "base_uri": "https://localhost:8080/",
          "height": 73
        }
      },
      "cell_type": "code",
      "source": [
        "#[5-6, 6]\n",
        "\n",
        "from collections import namedtuple\n",
        "\n",
        "Student = namedtuple(\"Student\", [\"name\", \"age\"])\n",
        "a = Student(\"홍길동\", 30)             \n",
        "print(a.name)\n",
        "print(a.age)\n",
        "print(a)"
      ],
      "execution_count": 0,
      "outputs": [
        {
          "output_type": "stream",
          "text": [
            "홍길동\n",
            "30\n",
            "Student(name='홍길동', age=30)\n"
          ],
          "name": "stdout"
        }
      ]
    }
  ]
}