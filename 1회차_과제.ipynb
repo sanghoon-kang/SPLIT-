{
  "nbformat": 4,
  "nbformat_minor": 0,
  "metadata": {
    "colab": {
      "name": "1회차 과제",
      "version": "0.3.2",
      "provenance": [],
      "collapsed_sections": [],
      "include_colab_link": true
    },
    "kernelspec": {
      "name": "python3",
      "display_name": "Python 3"
    }
  },
  "cells": [
    {
      "cell_type": "markdown",
      "metadata": {
        "id": "view-in-github",
        "colab_type": "text"
      },
      "source": [
        "<a href=\"https://colab.research.google.com/github/young950814/SPLIT-/blob/%EA%B3%BC%EC%A0%9C/1%ED%9A%8C%EC%B0%A8_%EA%B3%BC%EC%A0%9C.ipynb\" target=\"_parent\"><img src=\"https://colab.research.google.com/assets/colab-badge.svg\" alt=\"Open In Colab\"/></a>"
      ]
    },
    {
      "metadata": {
        "id": "_1Ow816bp4Im",
        "colab_type": "code",
        "outputId": "ab54b68f-930e-4ad6-d3cd-c06eb2938ac3",
        "colab": {
          "base_uri": "https://localhost:8080/",
          "height": 36
        }
      },
      "cell_type": "code",
      "source": [
        "# [2-1 문제1]\n",
        "a=80\n",
        "b=75\n",
        "c=33\n",
        "d=a+b+c\n",
        "d/3\n",
        "# 62.666666666666664"
      ],
      "execution_count": 0,
      "outputs": [
        {
          "output_type": "execute_result",
          "data": {
            "text/plain": [
              "62.666666666666664"
            ]
          },
          "metadata": {
            "tags": []
          },
          "execution_count": 1
        }
      ]
    },
    {
      "metadata": {
        "id": "iLENUbm0rBeU",
        "colab_type": "code",
        "outputId": "4ab49f74-fbe8-4dcb-e322-80f78d16d62c",
        "colab": {
          "base_uri": "https://localhost:8080/",
          "height": 36
        }
      },
      "cell_type": "code",
      "source": [
        "# [2-1 문제2]\n",
        "17//3"
      ],
      "execution_count": 0,
      "outputs": [
        {
          "output_type": "execute_result",
          "data": {
            "text/plain": [
              "5"
            ]
          },
          "metadata": {
            "tags": []
          },
          "execution_count": 2
        }
      ]
    },
    {
      "metadata": {
        "id": "VB2ah-MXrRXK",
        "colab_type": "code",
        "outputId": "f4cc887d-812c-4320-ec63-03cfaa31e862",
        "colab": {
          "base_uri": "https://localhost:8080/",
          "height": 36
        }
      },
      "cell_type": "code",
      "source": [
        "# [2-1 문제3]\n",
        "17%3"
      ],
      "execution_count": 0,
      "outputs": [
        {
          "output_type": "execute_result",
          "data": {
            "text/plain": [
              "2"
            ]
          },
          "metadata": {
            "tags": []
          },
          "execution_count": 3
        }
      ]
    },
    {
      "metadata": {
        "id": "ihV94ZyIrTxm",
        "colab_type": "code",
        "outputId": "b35ea547-4110-47ea-8498-c9a0753431aa",
        "colab": {
          "base_uri": "https://localhost:8080/",
          "height": 204
        }
      },
      "cell_type": "code",
      "source": [
        "# [2-1 문제 4]\n",
        "# 10 이하의 양의 정수에 대해\n",
        "a=0\n",
        "while a<10:\n",
        "  a=a+1\n",
        "  if a%2==0:\n",
        "    print (\"even\")\n",
        "  else:\n",
        "    print (\"odd\")"
      ],
      "execution_count": 0,
      "outputs": [
        {
          "output_type": "stream",
          "text": [
            "odd\n",
            "even\n",
            "odd\n",
            "even\n",
            "odd\n",
            "even\n",
            "odd\n",
            "even\n",
            "odd\n",
            "even\n"
          ],
          "name": "stdout"
        }
      ]
    },
    {
      "metadata": {
        "id": "rpFpkleBsw2K",
        "colab_type": "code",
        "outputId": "8800957e-03d4-4832-e9b4-46744ab57496",
        "colab": {
          "base_uri": "https://localhost:8080/",
          "height": 36
        }
      },
      "cell_type": "code",
      "source": [
        "# [2-2 문제 1]\n",
        "'\"점프 투 파이썬\" 문제를 풀어보자'"
      ],
      "execution_count": 0,
      "outputs": [
        {
          "output_type": "execute_result",
          "data": {
            "text/plain": [
              "'\"점프 투 파이썬\" 문제를 풀어보자'"
            ]
          },
          "metadata": {
            "tags": []
          },
          "execution_count": 17
        }
      ]
    },
    {
      "metadata": {
        "id": "xYWKMvThtCIL",
        "colab_type": "code",
        "outputId": "44c505f5-8c35-4608-b496-337112c43d53",
        "colab": {
          "base_uri": "https://localhost:8080/",
          "height": 55
        }
      },
      "cell_type": "code",
      "source": [
        "# [2-2 문제2]\n",
        "\n",
        "multiline=\"\"\"Life is too short\n",
        "You need Python\"\"\"\n",
        "print(multiline)"
      ],
      "execution_count": 0,
      "outputs": [
        {
          "output_type": "stream",
          "text": [
            "Life is too short\n",
            "You need Python\n"
          ],
          "name": "stdout"
        }
      ]
    },
    {
      "metadata": {
        "id": "Bs4FBMpLtbRG",
        "colab_type": "code",
        "outputId": "e5d95e78-2ef9-42dc-b36c-8c55326ab038",
        "colab": {
          "base_uri": "https://localhost:8080/",
          "height": 36
        }
      },
      "cell_type": "code",
      "source": [
        "# [2-2 문제3]\n",
        "\"{0:>30}\".format(\"PYTHON\")"
      ],
      "execution_count": 0,
      "outputs": [
        {
          "output_type": "execute_result",
          "data": {
            "text/plain": [
              "'                        PYTHON'"
            ]
          },
          "metadata": {
            "tags": []
          },
          "execution_count": 22
        }
      ]
    },
    {
      "metadata": {
        "id": "EuD8WRgJuXov",
        "colab_type": "code",
        "outputId": "16652e96-df2a-413c-d439-988534efa72e",
        "colab": {
          "base_uri": "https://localhost:8080/",
          "height": 36
        }
      },
      "cell_type": "code",
      "source": [
        "# [2-2 문제4]\n",
        "a= \"881120-1068234\"\n",
        "a.split(\"-\")"
      ],
      "execution_count": 0,
      "outputs": [
        {
          "output_type": "execute_result",
          "data": {
            "text/plain": [
              "['881120', '1068234']"
            ]
          },
          "metadata": {
            "tags": []
          },
          "execution_count": 25
        }
      ]
    },
    {
      "metadata": {
        "id": "3b7wYP10utJe",
        "colab_type": "code",
        "outputId": "634d95c9-dc59-43d9-f1b7-79679906bb66",
        "colab": {
          "base_uri": "https://localhost:8080/",
          "height": 36
        }
      },
      "cell_type": "code",
      "source": [
        "# [2-2 문제5]\n",
        "pin = \"881120-1068234\"\n",
        "pin [7]"
      ],
      "execution_count": 0,
      "outputs": [
        {
          "output_type": "execute_result",
          "data": {
            "text/plain": [
              "'1'"
            ]
          },
          "metadata": {
            "tags": []
          },
          "execution_count": 26
        }
      ]
    },
    {
      "metadata": {
        "id": "ac_1C7dRu7VE",
        "colab_type": "code",
        "outputId": "b0e923e8-d95f-46b7-90d9-9ea57b49176b",
        "colab": {
          "base_uri": "https://localhost:8080/",
          "height": 36
        }
      },
      "cell_type": "code",
      "source": [
        "# [2-2 문제6]\n",
        "a=\"1980M1120\"\n",
        "a [:3]\n",
        "a [4]\n",
        "a [5:]\n",
        "a [4] + a [:3] + a [5:] "
      ],
      "execution_count": 0,
      "outputs": [
        {
          "output_type": "execute_result",
          "data": {
            "text/plain": [
              "'M1981120'"
            ]
          },
          "metadata": {
            "tags": []
          },
          "execution_count": 31
        }
      ]
    },
    {
      "metadata": {
        "id": "CDnv5kyqwXMN",
        "colab_type": "code",
        "outputId": "144abe60-e84a-44d7-cdc1-d86e2bb6d494",
        "colab": {
          "base_uri": "https://localhost:8080/",
          "height": 36
        }
      },
      "cell_type": "code",
      "source": [
        "# [2-2 문제7]\n",
        "a = \"Life is too short, you need python\"\n",
        "a.find('short')"
      ],
      "execution_count": 0,
      "outputs": [
        {
          "output_type": "execute_result",
          "data": {
            "text/plain": [
              "12"
            ]
          },
          "metadata": {
            "tags": []
          },
          "execution_count": 46
        }
      ]
    },
    {
      "metadata": {
        "id": "WPtKU5byyC84",
        "colab_type": "code",
        "outputId": "b2c3e9e0-1ad7-44f8-805c-05979c4448d2",
        "colab": {
          "base_uri": "https://localhost:8080/",
          "height": 36
        }
      },
      "cell_type": "code",
      "source": [
        "# [2-2 문제8]\n",
        "a= 'a:b:c:d'\n",
        "a.replace(':', '#')"
      ],
      "execution_count": 0,
      "outputs": [
        {
          "output_type": "execute_result",
          "data": {
            "text/plain": [
              "'a#b#c#d'"
            ]
          },
          "metadata": {
            "tags": []
          },
          "execution_count": 48
        }
      ]
    },
    {
      "metadata": {
        "id": "FEuRJwAIyX8O",
        "colab_type": "code",
        "outputId": "9910305a-4b6f-4bf0-d334-953fea55698b",
        "colab": {
          "base_uri": "https://localhost:8080/",
          "height": 36
        }
      },
      "cell_type": "code",
      "source": [
        "# [2-2 문제9]\n",
        "a= 'a:b:c:d'\n",
        "a= a.split(':')\n",
        "\"#\".join(a)"
      ],
      "execution_count": 0,
      "outputs": [
        {
          "output_type": "execute_result",
          "data": {
            "text/plain": [
              "'a#b#c#d'"
            ]
          },
          "metadata": {
            "tags": []
          },
          "execution_count": 51
        }
      ]
    },
    {
      "metadata": {
        "id": "_IgbobudyvM5",
        "colab_type": "code",
        "outputId": "531424d9-1fb3-4489-a3ff-c936c247febe",
        "colab": {
          "base_uri": "https://localhost:8080/",
          "height": 36
        }
      },
      "cell_type": "code",
      "source": [
        "# [2-3 문제1]\n",
        "a = ['Life', 'is', 'too', 'short', 'you', 'need', 'python']\n",
        "b = a [4] + ' ' + a [2]\n",
        "print (b)"
      ],
      "execution_count": 0,
      "outputs": [
        {
          "output_type": "stream",
          "text": [
            "you too\n"
          ],
          "name": "stdout"
        }
      ]
    },
    {
      "metadata": {
        "id": "Wp2Bofg4zT8D",
        "colab_type": "code",
        "outputId": "8232ba57-34a7-4c40-b3fc-3a666c995a71",
        "colab": {
          "base_uri": "https://localhost:8080/",
          "height": 36
        }
      },
      "cell_type": "code",
      "source": [
        "# [2-3 문제2]\n",
        "a=['Life', 'is', 'too', 'short']\n",
        "a [0] + ' ' + a[1] + ' '+  a[2] + ' ' + a[3]"
      ],
      "execution_count": 0,
      "outputs": [
        {
          "output_type": "execute_result",
          "data": {
            "text/plain": [
              "'Life is too short'"
            ]
          },
          "metadata": {
            "tags": []
          },
          "execution_count": 56
        }
      ]
    },
    {
      "metadata": {
        "id": "L6fXzxN3zre8",
        "colab_type": "code",
        "outputId": "1bb9c603-1475-4029-a0fe-f26fdb4fdda9",
        "colab": {
          "base_uri": "https://localhost:8080/",
          "height": 36
        }
      },
      "cell_type": "code",
      "source": [
        "# [2-3 문제3]\n",
        "a = [1, 2, 3]\n",
        "len(a)"
      ],
      "execution_count": 0,
      "outputs": [
        {
          "output_type": "execute_result",
          "data": {
            "text/plain": [
              "3"
            ]
          },
          "metadata": {
            "tags": []
          },
          "execution_count": 59
        }
      ]
    },
    {
      "metadata": {
        "id": "uWDC3m8XzmD0",
        "colab_type": "code",
        "outputId": "f2f28f1c-e35a-4afb-d838-3ece754914fa",
        "colab": {
          "base_uri": "https://localhost:8080/",
          "height": 55
        }
      },
      "cell_type": "code",
      "source": [
        "# [2-3 문제4]\n",
        "a = [1, 2, 3]\n",
        "a.append ([4,5])\n",
        "print (a)\n",
        "\n",
        "a = [1, 2, 3]\n",
        "a.extend ([4,5])\n",
        "print (a)"
      ],
      "execution_count": 0,
      "outputs": [
        {
          "output_type": "stream",
          "text": [
            "[1, 2, 3, [4, 5]]\n",
            "[1, 2, 3, 4, 5]\n"
          ],
          "name": "stdout"
        }
      ]
    },
    {
      "metadata": {
        "id": "CQ52mAOi0fSL",
        "colab_type": "code",
        "outputId": "8a13ea58-7295-4d02-b747-c98a0dac404d",
        "colab": {
          "base_uri": "https://localhost:8080/",
          "height": 36
        }
      },
      "cell_type": "code",
      "source": [
        "# [2-3 문제5]\n",
        "a=[1, 3, 5, 4, 2]\n",
        "a.sort(reverse=True)\n",
        "print(a)"
      ],
      "execution_count": 0,
      "outputs": [
        {
          "output_type": "stream",
          "text": [
            "[5, 4, 3, 2, 1]\n"
          ],
          "name": "stdout"
        }
      ]
    },
    {
      "metadata": {
        "id": "jaBEM6qo0qe6",
        "colab_type": "code",
        "outputId": "d8bdeaab-99b5-4b50-efe5-3eedb2d2a640",
        "colab": {
          "base_uri": "https://localhost:8080/",
          "height": 36
        }
      },
      "cell_type": "code",
      "source": [
        "# [2-3 문제6]\n",
        "a=[1, 2, 3, 4, 5]\n",
        "for i in a: \n",
        "  if i==2 or i==4:\n",
        "    a.remove(i)\n",
        "  \n",
        "print(a)"
      ],
      "execution_count": 0,
      "outputs": [
        {
          "output_type": "stream",
          "text": [
            "[1, 3, 5]\n"
          ],
          "name": "stdout"
        }
      ]
    },
    {
      "metadata": {
        "id": "xaClbAzh06Ih",
        "colab_type": "code",
        "outputId": "a3ff9d71-5f9d-476d-cfb0-1aa150ab5938",
        "colab": {
          "base_uri": "https://localhost:8080/",
          "height": 36
        }
      },
      "cell_type": "code",
      "source": [
        "# [2-4 문제1]\n",
        "t=(3,)\n",
        "print(t)"
      ],
      "execution_count": 0,
      "outputs": [
        {
          "output_type": "stream",
          "text": [
            "(3,)\n"
          ],
          "name": "stdout"
        }
      ]
    },
    {
      "metadata": {
        "id": "kAjAEEpG2d4U",
        "colab_type": "code",
        "colab": {}
      },
      "cell_type": "code",
      "source": [
        "# [2-4 문제2]: 튜플의 요소는 수정되지 않는다."
      ],
      "execution_count": 0,
      "outputs": []
    },
    {
      "metadata": {
        "id": "Wbko_LOz2wrv",
        "colab_type": "code",
        "outputId": "5d43e1c0-b067-4c99-c9bb-3eac3364a214",
        "colab": {
          "base_uri": "https://localhost:8080/",
          "height": 36
        }
      },
      "cell_type": "code",
      "source": [
        "# [2-4 문제3]\n",
        "t=(1,2,3)\n",
        "t + (4,)"
      ],
      "execution_count": 0,
      "outputs": [
        {
          "output_type": "execute_result",
          "data": {
            "text/plain": [
              "(1, 2, 3, 4)"
            ]
          },
          "metadata": {
            "tags": []
          },
          "execution_count": 86
        }
      ]
    },
    {
      "metadata": {
        "id": "SC50fQTB3KQ0",
        "colab_type": "code",
        "outputId": "acba6d8e-b5af-4919-923f-6c0536da76ed",
        "colab": {
          "base_uri": "https://localhost:8080/",
          "height": 36
        }
      },
      "cell_type": "code",
      "source": [
        "# [2-5 문제1]\n",
        "dict={'name':'홍길동', 'birth': '1128', 'age': '30'}\n",
        "print(dict)"
      ],
      "execution_count": 0,
      "outputs": [
        {
          "output_type": "stream",
          "text": [
            "{'name': '홍길동', 'birth': '1128', 'age': '30'}\n"
          ],
          "name": "stdout"
        }
      ]
    },
    {
      "metadata": {
        "id": "jMYCk18-4Fmm",
        "colab_type": "code",
        "outputId": "cb9b1a7f-7aa7-4581-d13c-98fd9212c0b1",
        "colab": {
          "base_uri": "https://localhost:8080/",
          "height": 35
        }
      },
      "cell_type": "code",
      "source": [
        "# [2-5 문제2]: Key에 list는 쓸 수 없다. \n",
        "a = {}\n",
        "\n",
        "a['name'] = 'python'\n",
        "a[('a',)] = 'python'\n",
        "a[250] = 'python'\n",
        "\n",
        "a\n",
        "# dict object not callable"
      ],
      "execution_count": 1,
      "outputs": [
        {
          "output_type": "execute_result",
          "data": {
            "text/plain": [
              "{('a',): 'python', 250: 'python', 'name': 'python'}"
            ]
          },
          "metadata": {
            "tags": []
          },
          "execution_count": 1
        }
      ]
    },
    {
      "metadata": {
        "id": "7iaopjHP5ySW",
        "colab_type": "code",
        "outputId": "80666e50-18de-44da-b0f2-7bb2e3164df9",
        "colab": {
          "base_uri": "https://localhost:8080/",
          "height": 36
        }
      },
      "cell_type": "code",
      "source": [
        "# [2-5 문제3]\n",
        "a = {'A':90, 'B':80, 'C':70}\n",
        "del a['B']\n",
        "a"
      ],
      "execution_count": 0,
      "outputs": [
        {
          "output_type": "execute_result",
          "data": {
            "text/plain": [
              "{'A': 90, 'C': 70}"
            ]
          },
          "metadata": {
            "tags": []
          },
          "execution_count": 102
        }
      ]
    },
    {
      "metadata": {
        "id": "2jSf73KS6CQH",
        "colab_type": "code",
        "outputId": "aeb96fc7-1e56-4e40-8d6f-7ccf8115b211",
        "colab": {
          "base_uri": "https://localhost:8080/",
          "height": 36
        }
      },
      "cell_type": "code",
      "source": [
        "# [2-5 문제4]\n",
        "a = {'A':90, 'B':80}\n",
        "a.get('C',70)"
      ],
      "execution_count": 0,
      "outputs": [
        {
          "output_type": "execute_result",
          "data": {
            "text/plain": [
              "70"
            ]
          },
          "metadata": {
            "tags": []
          },
          "execution_count": 111
        }
      ]
    },
    {
      "metadata": {
        "id": "RZlGaErg603k",
        "colab_type": "code",
        "outputId": "fc3c8f83-0850-4e71-a7c6-51b3f5f1d9da",
        "colab": {
          "base_uri": "https://localhost:8080/",
          "height": 36
        }
      },
      "cell_type": "code",
      "source": [
        "# [2-5 문제5]\n",
        "a = {'A':90, 'B':80, 'C':70}\n",
        "min(list(a.values()))"
      ],
      "execution_count": 0,
      "outputs": [
        {
          "output_type": "execute_result",
          "data": {
            "text/plain": [
              "70"
            ]
          },
          "metadata": {
            "tags": []
          },
          "execution_count": 116
        }
      ]
    },
    {
      "metadata": {
        "id": "SGtv3kvZ7PJm",
        "colab_type": "code",
        "outputId": "779e1bc7-9dac-4b42-8f96-526538319d5f",
        "colab": {
          "base_uri": "https://localhost:8080/",
          "height": 36
        }
      },
      "cell_type": "code",
      "source": [
        "# [2-5 문제6]\n",
        " a = {'A':90, 'B':80, 'C':70}\n",
        " list(a.items())"
      ],
      "execution_count": 0,
      "outputs": [
        {
          "output_type": "execute_result",
          "data": {
            "text/plain": [
              "[('A', 90), ('B', 80), ('C', 70)]"
            ]
          },
          "metadata": {
            "tags": []
          },
          "execution_count": 119
        }
      ]
    },
    {
      "metadata": {
        "id": "FAUH9UZ87i66",
        "colab_type": "code",
        "outputId": "a5e5d749-3b67-46e2-9afa-c08a033d1490",
        "colab": {
          "base_uri": "https://localhost:8080/",
          "height": 36
        }
      },
      "cell_type": "code",
      "source": [
        "# [2-6 문제1]\n",
        "set(['a', 'b', 'c'])"
      ],
      "execution_count": 0,
      "outputs": [
        {
          "output_type": "execute_result",
          "data": {
            "text/plain": [
              "{'a', 'b', 'c'}"
            ]
          },
          "metadata": {
            "tags": []
          },
          "execution_count": 121
        }
      ]
    },
    {
      "metadata": {
        "id": "bX9MK9p-70BB",
        "colab_type": "code",
        "outputId": "9321b051-41be-47e7-aa0b-6ded01a48948",
        "colab": {
          "base_uri": "https://localhost:8080/",
          "height": 36
        }
      },
      "cell_type": "code",
      "source": [
        "# [2-6 문제2]\n",
        "a = [1, 1, 1, 2, 2, 3, 3, 3, 4, 4, 5]\n",
        "set(a)"
      ],
      "execution_count": 0,
      "outputs": [
        {
          "output_type": "execute_result",
          "data": {
            "text/plain": [
              "{1, 2, 3, 4, 5}"
            ]
          },
          "metadata": {
            "tags": []
          },
          "execution_count": 124
        }
      ]
    },
    {
      "metadata": {
        "id": "mrNjwPzq8DFC",
        "colab_type": "code",
        "outputId": "548bce94-a264-42d0-e34e-a77e25311be8",
        "colab": {
          "base_uri": "https://localhost:8080/",
          "height": 36
        }
      },
      "cell_type": "code",
      "source": [
        "# [2-6 문제3]\n",
        "s1 = set(['a', 'b', 'c', 'd', 'e'])\n",
        "s2 = set(['c', 'd', 'e', 'f', 'g'])\n",
        "s1 - s2"
      ],
      "execution_count": 0,
      "outputs": [
        {
          "output_type": "execute_result",
          "data": {
            "text/plain": [
              "{'a', 'b'}"
            ]
          },
          "metadata": {
            "tags": []
          },
          "execution_count": 126
        }
      ]
    },
    {
      "metadata": {
        "id": "wGpaTfCg8SzZ",
        "colab_type": "code",
        "outputId": "ce8cffcc-1f0d-43ea-d5d1-66c8400b9ec3",
        "colab": {
          "base_uri": "https://localhost:8080/",
          "height": 36
        }
      },
      "cell_type": "code",
      "source": [
        "# [2-6 문제4]\n",
        "a = {1}\n",
        "a.remove(1)\n",
        "type(a)"
      ],
      "execution_count": 0,
      "outputs": [
        {
          "output_type": "execute_result",
          "data": {
            "text/plain": [
              "set()"
            ]
          },
          "metadata": {
            "tags": []
          },
          "execution_count": 133
        }
      ]
    },
    {
      "metadata": {
        "id": "xSBxhBDD9F_J",
        "colab_type": "code",
        "outputId": "ca606e7d-b267-4316-e81e-3cff7790c3e0",
        "colab": {
          "base_uri": "https://localhost:8080/",
          "height": 36
        }
      },
      "cell_type": "code",
      "source": [
        "# [2-6 문제5]\n",
        "a = {'a', 'b', 'c'}\n",
        "a.update(['d','e','f'])\n",
        "a"
      ],
      "execution_count": 0,
      "outputs": [
        {
          "output_type": "execute_result",
          "data": {
            "text/plain": [
              "{'a', 'b', 'c', 'd', 'e', 'f'}"
            ]
          },
          "metadata": {
            "tags": []
          },
          "execution_count": 137
        }
      ]
    },
    {
      "metadata": {
        "id": "WK2K9kcb9aX-",
        "colab_type": "code",
        "colab": {}
      },
      "cell_type": "code",
      "source": [
        "# [2-7 문제1]: false true true true"
      ],
      "execution_count": 0,
      "outputs": []
    },
    {
      "metadata": {
        "id": "9KWMCjBH9ulz",
        "colab_type": "code",
        "outputId": "33c14f2c-2cbc-4996-8a0f-8554498d696d",
        "colab": {
          "base_uri": "https://localhost:8080/",
          "height": 92
        }
      },
      "cell_type": "code",
      "source": [
        "# [2-7 문제2]\n",
        "a = \"python\"\n",
        "b = \"\"\n",
        "c = (1,2,3)\n",
        "d = 0\n",
        "\n",
        "print(bool(a))\n",
        "print(bool(b))\n",
        "print(bool(c))\n",
        "print(bool(d))"
      ],
      "execution_count": 0,
      "outputs": [
        {
          "output_type": "stream",
          "text": [
            "True\n",
            "False\n",
            "True\n",
            "False\n"
          ],
          "name": "stdout"
        }
      ]
    },
    {
      "metadata": {
        "id": "sVvHidQ1-SJS",
        "colab_type": "code",
        "outputId": "27b17dbe-f29a-40c7-8b0e-2cdf108740a7",
        "colab": {
          "base_uri": "https://localhost:8080/",
          "height": 55
        }
      },
      "cell_type": "code",
      "source": [
        "#[2-8 문제1]\n",
        "a = [1, 2, 3]\n",
        "b = [1, 2, 3]\n",
        "\n",
        "print(a is b)\n",
        "#동일한 개체는 아니지만 동일한 값을 가짐.\n",
        "print(a==b)\n"
      ],
      "execution_count": 0,
      "outputs": [
        {
          "output_type": "stream",
          "text": [
            "False\n",
            "True\n"
          ],
          "name": "stdout"
        }
      ]
    },
    {
      "metadata": {
        "id": "pBpd9k8C-neE",
        "colab_type": "code",
        "outputId": "1d73816e-12b3-4e43-f337-03203fcf5752",
        "colab": {
          "base_uri": "https://localhost:8080/",
          "height": 36
        }
      },
      "cell_type": "code",
      "source": [
        "#[2-8 문제2]\n",
        "a = [1, 2, 3]\n",
        "b = a\n",
        "a is b\n",
        "#동일한 객체"
      ],
      "execution_count": 0,
      "outputs": [
        {
          "output_type": "execute_result",
          "data": {
            "text/plain": [
              "True"
            ]
          },
          "metadata": {
            "tags": []
          },
          "execution_count": 147
        }
      ]
    },
    {
      "metadata": {
        "id": "UEE7fP8Y_R2V",
        "colab_type": "code",
        "outputId": "ca77b39b-b81c-4b61-9df4-92a8e6f0641e",
        "colab": {
          "base_uri": "https://localhost:8080/",
          "height": 36
        }
      },
      "cell_type": "code",
      "source": [
        "#[2-8 문제3]\n",
        "a = b = [1, 2, 3]\n",
        "a[1] = 4\n",
        "print(b)\n",
        "#a와 b가 같은 객체를 지시하고 있기 때문에 a의 객체를 변화시키면 b의 객체도 변화한다."
      ],
      "execution_count": 0,
      "outputs": [
        {
          "output_type": "stream",
          "text": [
            "[1, 4, 3]\n"
          ],
          "name": "stdout"
        }
      ]
    },
    {
      "metadata": {
        "id": "sVmEEQB4_gG2",
        "colab_type": "code",
        "outputId": "1140d07d-dc4c-4bd7-842d-c428965a5078",
        "colab": {
          "base_uri": "https://localhost:8080/",
          "height": 36
        }
      },
      "cell_type": "code",
      "source": [
        "#[2-8 문제4]\n",
        "a = [1, 2, 3]\n",
        "b = a[:]\n",
        "a is b\n",
        "#b는 a의 값과 같은 값의 리스트를 객체로 한다. 하지만 객체 자체는 다르므로, 동일한 것이라고 볼 수 없다.\n"
      ],
      "execution_count": 0,
      "outputs": [
        {
          "output_type": "execute_result",
          "data": {
            "text/plain": [
              "False"
            ]
          },
          "metadata": {
            "tags": []
          },
          "execution_count": 151
        }
      ]
    },
    {
      "metadata": {
        "id": "bCCg0l8k_uHh",
        "colab_type": "code",
        "outputId": "5259ab4f-f811-41ec-9036-8fc8fc63cc73",
        "colab": {
          "base_uri": "https://localhost:8080/",
          "height": 36
        }
      },
      "cell_type": "code",
      "source": [
        "#[2-8 문제5]\n",
        "a = [1, 2, 3]\n",
        "b = a[:]\n",
        "\n",
        "a[1] = 4\n",
        "print(b)\n",
        "\n",
        "#[1, 2, 3]->a와 b가 같은 객체를 가리키고 있지 않기 때문이다."
      ],
      "execution_count": 0,
      "outputs": [
        {
          "output_type": "stream",
          "text": [
            "[1, 2, 3]\n"
          ],
          "name": "stdout"
        }
      ]
    },
    {
      "metadata": {
        "id": "_b4cCFdcA2yV",
        "colab_type": "code",
        "outputId": "f0f6c456-5106-4818-a415-18b5e4c86c94",
        "colab": {
          "base_uri": "https://localhost:8080/",
          "height": 36
        }
      },
      "cell_type": "code",
      "source": [
        "#[2-8 문제6]\n",
        "a = [1, 2, 3]\n",
        "id(a)\n"
      ],
      "execution_count": 0,
      "outputs": [
        {
          "output_type": "execute_result",
          "data": {
            "text/plain": [
              "140133208053064"
            ]
          },
          "metadata": {
            "tags": []
          },
          "execution_count": 1
        }
      ]
    },
    {
      "metadata": {
        "id": "wp2xwGGN1WGW",
        "colab_type": "code",
        "outputId": "0168a66b-e6e5-43d5-e13e-d091585261ff",
        "colab": {
          "base_uri": "https://localhost:8080/",
          "height": 36
        }
      },
      "cell_type": "code",
      "source": [
        "a= a +[4,5]\n",
        "id(a)\n",
        "#다른 곳에 저장이 됨."
      ],
      "execution_count": 0,
      "outputs": [
        {
          "output_type": "execute_result",
          "data": {
            "text/plain": [
              "140133207634696"
            ]
          },
          "metadata": {
            "tags": []
          },
          "execution_count": 3
        }
      ]
    },
    {
      "metadata": {
        "id": "78csT-hN1bpM",
        "colab_type": "code",
        "outputId": "b40dfce5-4da5-4d7b-a177-c6d1c92cf548",
        "colab": {
          "base_uri": "https://localhost:8080/",
          "height": 36
        }
      },
      "cell_type": "code",
      "source": [
        "b=[1,2,3]\n",
        "id(b)"
      ],
      "execution_count": 0,
      "outputs": [
        {
          "output_type": "execute_result",
          "data": {
            "text/plain": [
              "140133207789512"
            ]
          },
          "metadata": {
            "tags": []
          },
          "execution_count": 12
        }
      ]
    },
    {
      "metadata": {
        "id": "3XQBLkD_1hih",
        "colab_type": "code",
        "outputId": "110fbf71-2aab-412a-828a-e84d844d57d0",
        "colab": {
          "base_uri": "https://localhost:8080/",
          "height": 36
        }
      },
      "cell_type": "code",
      "source": [
        "b.extend([4,5])\n",
        "id(b)\n",
        "#같은 곳에 저장이 됨."
      ],
      "execution_count": 0,
      "outputs": [
        {
          "output_type": "execute_result",
          "data": {
            "text/plain": [
              "140133207789512"
            ]
          },
          "metadata": {
            "tags": []
          },
          "execution_count": 13
        }
      ]
    },
    {
      "metadata": {
        "id": "iWALs5VL1k68",
        "colab_type": "code",
        "outputId": "0bd236a4-46c5-40fb-de85-d6652ffdde53",
        "colab": {
          "base_uri": "https://localhost:8080/",
          "height": 55
        }
      },
      "cell_type": "code",
      "source": [
        "#[2-8 문제7]\n",
        "a=[1,[2,3],4]\n",
        "b=a[:]\n",
        "a[1][0]=5\n",
        "print(a)\n",
        "print(b)"
      ],
      "execution_count": 0,
      "outputs": [
        {
          "output_type": "stream",
          "text": [
            "[1, [5, 3], 4]\n",
            "[1, [5, 3], 4]\n"
          ],
          "name": "stdout"
        }
      ]
    },
    {
      "metadata": {
        "id": "2vqO24_52k4F",
        "colab_type": "code",
        "outputId": "c54032e7-0353-45dc-a9e9-2345525eec8e",
        "colab": {
          "base_uri": "https://localhost:8080/",
          "height": 56
        }
      },
      "cell_type": "code",
      "source": [
        "\"\"\"b = a[:] 와 같이 copy하는 것은 얕은 copy(shallow copy)라고도 한다. \n",
        "그 이유는 위 예제에서 보는것과 같이 1 depth까지는 copy해 주지만 리스트가 포함하고 있는 2 depth 이상의 리스트는 copy 해 주지 못하기 때문이다. \n",
        "만약 객체가 포함하고 있는 객체마저 모두 copy하고 싶다면 다음처럼 깊은 copy(deep copy)를 사용해야 한다.\"\"\""
      ],
      "execution_count": 0,
      "outputs": [
        {
          "output_type": "execute_result",
          "data": {
            "text/plain": [
              "'b = a[:] 와 같이 copy하는 것은 얕은 copy(shallow copy)라고도 한다. \\n그 이유는 위 예제에서 보는것과 같이 1 depth까지는 copy해 주지만 리스트가 포함하고 있는 2 depth 이상의 리스트는 copy 해 주지 못하기 때문이다. \\n만약 객체가 포함하고 있는 객체마저 모두 copy하고 싶다면 다음처럼 깊은 copy(deep copy)를 사용해야 한다.'"
            ]
          },
          "metadata": {
            "tags": []
          },
          "execution_count": 15
        }
      ]
    },
    {
      "metadata": {
        "id": "e7Fjzm0C2-Kb",
        "colab_type": "code",
        "outputId": "b416b00b-9899-4dc4-f813-1e9d012f630b",
        "colab": {
          "base_uri": "https://localhost:8080/",
          "height": 36
        }
      },
      "cell_type": "code",
      "source": [
        "# [3-1 문제1]\n",
        "money = 5000\n",
        "card = False\n",
        "if card==True or money>=4000:\n",
        "  print('ride a cab')\n",
        "else: print ('walk')"
      ],
      "execution_count": 0,
      "outputs": [
        {
          "output_type": "stream",
          "text": [
            "ride a cab\n"
          ],
          "name": "stdout"
        }
      ]
    },
    {
      "metadata": {
        "id": "r4uS5i-k3jSm",
        "colab_type": "code",
        "outputId": "4a8f1e79-9b1f-4aca-c6f1-e145025ddd9d",
        "colab": {
          "base_uri": "https://localhost:8080/",
          "height": 36
        }
      },
      "cell_type": "code",
      "source": [
        "# [3-1 문제2]\n",
        "lucky_list = [1, 9, 23, 46]\n",
        "if 23 in lucky_list:\n",
        "  print ('야호')\n",
        "else: pass"
      ],
      "execution_count": 0,
      "outputs": [
        {
          "output_type": "stream",
          "text": [
            "야호\n"
          ],
          "name": "stdout"
        }
      ]
    },
    {
      "metadata": {
        "id": "jnLKJdIZ4ICI",
        "colab_type": "code",
        "outputId": "9be98d78-5b8c-43a6-a1b7-87675a2a5fe3",
        "colab": {
          "base_uri": "https://localhost:8080/",
          "height": 36
        }
      },
      "cell_type": "code",
      "source": [
        "# [3-1 문제3]\n",
        "no=2\n",
        "if no%2==0:\n",
        "  print('짝수')\n",
        "else:\n",
        "  print('홀수')"
      ],
      "execution_count": 0,
      "outputs": [
        {
          "output_type": "stream",
          "text": [
            "짝수\n"
          ],
          "name": "stdout"
        }
      ]
    },
    {
      "metadata": {
        "id": "PTTwDNJs4r26",
        "colab_type": "code",
        "outputId": "c61293da-cb5d-4e37-ff0f-597e275a455b",
        "colab": {
          "base_uri": "https://localhost:8080/",
          "height": 36
        }
      },
      "cell_type": "code",
      "source": [
        "# [3-1 문제4]\n",
        "info='나이:30,키:180'\n",
        "info=info.split(sep=',')\n",
        "info1=info[0].split(':')\n",
        "info2=info[1].split(':')\n",
        "age=info1[1]\n",
        "height=info2[1]\n",
        "if int(age)<30 and int(height)>=170:\n",
        "  print ('YES')\n",
        "else: print ('NO')"
      ],
      "execution_count": 0,
      "outputs": [
        {
          "output_type": "stream",
          "text": [
            "NO\n"
          ],
          "name": "stdout"
        }
      ]
    },
    {
      "metadata": {
        "id": "svgHwDT95H0n",
        "colab_type": "code",
        "outputId": "b9c60640-0685-4d41-ad6c-7cfc263da064",
        "colab": {
          "base_uri": "https://localhost:8080/",
          "height": 36
        }
      },
      "cell_type": "code",
      "source": [
        "# [3-1 문제5]\n",
        "a = \"Life is too short, you need python\"\n",
        "if 'wife' in a:\n",
        "    print('wife')\n",
        "elif 'python' in a and 'you' not in a:\n",
        "    print('python')\n",
        "elif 'shirt' not in a:\n",
        "    print('shirt')\n",
        "elif 'need' in a:\n",
        "    print('need')\n",
        "else:\n",
        "    print('none')"
      ],
      "execution_count": 0,
      "outputs": [
        {
          "output_type": "stream",
          "text": [
            "shirt\n"
          ],
          "name": "stdout"
        }
      ]
    },
    {
      "metadata": {
        "id": "NA2zUili7Miq",
        "colab_type": "code",
        "outputId": "582e2eaa-4559-4bef-b5f2-906b6055d89e",
        "colab": {
          "base_uri": "https://localhost:8080/",
          "height": 36
        }
      },
      "cell_type": "code",
      "source": [
        "# [3-2 문제1]\n",
        "a=0\n",
        "b=0\n",
        "while a<100:\n",
        "  a=a+1\n",
        "  b=b+a\n",
        "\n",
        "print(b)"
      ],
      "execution_count": 0,
      "outputs": [
        {
          "output_type": "stream",
          "text": [
            "5050\n"
          ],
          "name": "stdout"
        }
      ]
    },
    {
      "metadata": {
        "id": "dU35MElO7h5N",
        "colab_type": "code",
        "outputId": "d7418a00-426e-4706-b1c2-8dd9709f8a1e",
        "colab": {
          "base_uri": "https://localhost:8080/",
          "height": 36
        }
      },
      "cell_type": "code",
      "source": [
        "# [3-2 문제2]\n",
        "a=0\n",
        "b=0\n",
        "while a<1000:\n",
        "  a=a+1\n",
        "  if a%3==0:\n",
        "    b=b+a\n",
        "  else:\n",
        "    pass\n",
        "print(b)"
      ],
      "execution_count": 0,
      "outputs": [
        {
          "output_type": "stream",
          "text": [
            "166833\n"
          ],
          "name": "stdout"
        }
      ]
    },
    {
      "metadata": {
        "id": "KOetIInL7-Wl",
        "colab_type": "code",
        "outputId": "6484357e-1f79-46c3-a174-22c977ab71c5",
        "colab": {
          "base_uri": "https://localhost:8080/",
          "height": 36
        }
      },
      "cell_type": "code",
      "source": [
        "# [3-2 문제3]\n",
        "a=0\n",
        "A = [20, 55, 67, 82, 45, 33, 90, 87, 100, 25]\n",
        "while A:\n",
        "  mark=A.pop()\n",
        "  if mark >=50:\n",
        "    a=a+mark\n",
        "  else: pass\n",
        "  \n",
        "print(a)"
      ],
      "execution_count": 0,
      "outputs": [
        {
          "output_type": "stream",
          "text": [
            "481\n"
          ],
          "name": "stdout"
        }
      ]
    },
    {
      "metadata": {
        "id": "mJw1rOEm9DhS",
        "colab_type": "code",
        "outputId": "f1513379-8106-4284-9c30-d0eb2290459d",
        "colab": {
          "base_uri": "https://localhost:8080/",
          "height": 92
        }
      },
      "cell_type": "code",
      "source": [
        "# [3-2 문제4]\n",
        "a=0\n",
        "b='*'\n",
        "while a<4:\n",
        "  a=a+1\n",
        "  print(b*a)"
      ],
      "execution_count": 0,
      "outputs": [
        {
          "output_type": "stream",
          "text": [
            "*\n",
            "**\n",
            "***\n",
            "****\n"
          ],
          "name": "stdout"
        }
      ]
    },
    {
      "metadata": {
        "id": "tGQtP-Th9uu0",
        "colab_type": "code",
        "outputId": "5b2f9100-8c8a-40b0-f23c-d8f2e6ee1c92",
        "colab": {
          "base_uri": "https://localhost:8080/",
          "height": 92
        }
      },
      "cell_type": "code",
      "source": [
        "# [3-2 문제5]\n",
        "a=7\n",
        "space=0\n",
        "while a>0:\n",
        "  print(' '*space + '*'*a)\n",
        "  a-=2\n",
        "  space+=1"
      ],
      "execution_count": 0,
      "outputs": [
        {
          "output_type": "stream",
          "text": [
            "*******\n",
            " *****\n",
            "  ***\n",
            "   *\n"
          ],
          "name": "stdout"
        }
      ]
    },
    {
      "metadata": {
        "id": "nH_9ipOo_jUM",
        "colab_type": "code",
        "outputId": "cec9adb8-ee89-4593-a135-ddb3485fdd14",
        "colab": {
          "base_uri": "https://localhost:8080/",
          "height": 36
        }
      },
      "cell_type": "code",
      "source": [
        "# [3-3 문제1]\n",
        "a=0\n",
        "for i in range (1,101):\n",
        "  a=a+i\n",
        "print(a)\n"
      ],
      "execution_count": 0,
      "outputs": [
        {
          "output_type": "stream",
          "text": [
            "5050\n"
          ],
          "name": "stdout"
        }
      ]
    },
    {
      "metadata": {
        "id": "QKbpcCUCAFuL",
        "colab_type": "code",
        "outputId": "9af86be3-c2dd-46c7-ee40-6881171990bf",
        "colab": {
          "base_uri": "https://localhost:8080/",
          "height": 36
        }
      },
      "cell_type": "code",
      "source": [
        "# [3-3 문제2]\n",
        "a=0\n",
        "for i in range (1,1001):\n",
        "  if i%5==0:\n",
        "    a=a+i\n",
        "  else: pass\n",
        "print(a)"
      ],
      "execution_count": 0,
      "outputs": [
        {
          "output_type": "stream",
          "text": [
            "100500\n"
          ],
          "name": "stdout"
        }
      ]
    },
    {
      "metadata": {
        "id": "ccEpccoTAR2H",
        "colab_type": "code",
        "outputId": "5bff27f2-2070-4723-99e6-3aadde6e7eb7",
        "colab": {
          "base_uri": "https://localhost:8080/",
          "height": 36
        }
      },
      "cell_type": "code",
      "source": [
        "# [3-3 문제3]\n",
        "a=0\n",
        "A = [70, 60, 55, 75, 95, 90, 80, 80, 85, 100]\n",
        "for i in A:\n",
        "  a=a+i\n",
        "print(a/10)"
      ],
      "execution_count": 0,
      "outputs": [
        {
          "output_type": "stream",
          "text": [
            "79.0\n"
          ],
          "name": "stdout"
        }
      ]
    },
    {
      "metadata": {
        "id": "TXLfdIQKAp3o",
        "colab_type": "code",
        "outputId": "c32c6330-96c3-4fa2-c7df-9b5e5264cb45",
        "colab": {
          "base_uri": "https://localhost:8080/",
          "height": 92
        }
      },
      "cell_type": "code",
      "source": [
        "# [3-3 문제4]\n",
        "blood=['A', 'B', 'A', 'O', 'AB', 'AB', 'O', 'A', 'B', 'O', 'B', 'AB']\n",
        "a=0\n",
        "b=0\n",
        "c=0\n",
        "d=0\n",
        "for i in blood:\n",
        "  if i=='A':\n",
        "    a=a+1\n",
        "  elif i=='B':\n",
        "    b=b+1\n",
        "  elif i=='AB':\n",
        "    c=c+1\n",
        "  else: d=d+1\n",
        "\n",
        "print(a)\n",
        "print(b)\n",
        "print(c)\n",
        "print(d)"
      ],
      "execution_count": 0,
      "outputs": [
        {
          "output_type": "stream",
          "text": [
            "3\n",
            "3\n",
            "3\n",
            "3\n"
          ],
          "name": "stdout"
        }
      ]
    },
    {
      "metadata": {
        "id": "c0lSmyeQBRAr",
        "colab_type": "code",
        "outputId": "70a3f85e-1dfb-40ab-d2b4-e747179f14f0",
        "colab": {
          "base_uri": "https://localhost:8080/",
          "height": 36
        }
      },
      "cell_type": "code",
      "source": [
        "# [3-3 문제5]\n",
        "numbers = [1, 2, 3, 4, 5]\n",
        "\n",
        "result = [n*2 for n in numbers if n%2==1]\n",
        "print(result)"
      ],
      "execution_count": 0,
      "outputs": [
        {
          "output_type": "stream",
          "text": [
            "[2, 6, 10]\n"
          ],
          "name": "stdout"
        }
      ]
    },
    {
      "metadata": {
        "id": "4zSATJmBB393",
        "colab_type": "code",
        "outputId": "0e2a4408-82db-41b0-cf6d-8c0e116ab88f",
        "colab": {
          "base_uri": "https://localhost:8080/",
          "height": 55
        }
      },
      "cell_type": "code",
      "source": [
        "# [3-3 문제6]\n",
        "vowels='aeiou'\n",
        "sentence = 'Life is short you need python'\n",
        "result=[i for i in sentence if i not in vowels]\n",
        "print(result)\n",
        "''.join(result)"
      ],
      "execution_count": 0,
      "outputs": [
        {
          "output_type": "stream",
          "text": [
            "['L', 'f', ' ', 's', ' ', 's', 'h', 'r', 't', ' ', 'y', ' ', 'n', 'd', ' ', 'p', 'y', 't', 'h', 'n']\n"
          ],
          "name": "stdout"
        },
        {
          "output_type": "execute_result",
          "data": {
            "text/plain": [
              "'Lf s shrt y nd pythn'"
            ]
          },
          "metadata": {
            "tags": []
          },
          "execution_count": 71
        }
      ]
    }
  ]
}