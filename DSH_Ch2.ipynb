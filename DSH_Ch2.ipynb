{
  "nbformat": 4,
  "nbformat_minor": 0,
  "metadata": {
    "colab": {
      "name": "DSH Ch2",
      "version": "0.3.2",
      "provenance": [],
      "collapsed_sections": [],
      "include_colab_link": true
    },
    "kernelspec": {
      "name": "python3",
      "display_name": "Python 3"
    }
  },
  "cells": [
    {
      "cell_type": "markdown",
      "metadata": {
        "id": "view-in-github",
        "colab_type": "text"
      },
      "source": [
        "<a href=\"https://colab.research.google.com/github/young950814/SPLIT-/blob/master/DSH_Ch2.ipynb\" target=\"_parent\"><img src=\"https://colab.research.google.com/assets/colab-badge.svg\" alt=\"Open In Colab\"/></a>"
      ]
    },
    {
      "metadata": {
        "id": "1fPrjEkt3vOA",
        "colab_type": "code",
        "colab": {}
      },
      "cell_type": "code",
      "source": [
        "import numpy as np"
      ],
      "execution_count": 0,
      "outputs": []
    },
    {
      "metadata": {
        "id": "HZ8DkHtu3yQB",
        "colab_type": "code",
        "colab": {}
      },
      "cell_type": "code",
      "source": [
        "np?"
      ],
      "execution_count": 0,
      "outputs": []
    },
    {
      "metadata": {
        "id": "J_WzRSSK5n6E",
        "colab_type": "code",
        "outputId": "e0cb100c-7f54-4c18-8521-ff94553aaef3",
        "colab": {
          "base_uri": "https://localhost:8080/",
          "height": 36
        }
      },
      "cell_type": "code",
      "source": [
        "L = list(range(10))\n",
        "L"
      ],
      "execution_count": 0,
      "outputs": [
        {
          "output_type": "execute_result",
          "data": {
            "text/plain": [
              "[0, 1, 2, 3, 4, 5, 6, 7, 8, 9]"
            ]
          },
          "metadata": {
            "tags": []
          },
          "execution_count": 5
        }
      ]
    },
    {
      "metadata": {
        "id": "7LNhjMtw5skq",
        "colab_type": "code",
        "outputId": "73637c1d-21f2-4286-f22e-6a82416f9a5b",
        "colab": {
          "base_uri": "https://localhost:8080/",
          "height": 36
        }
      },
      "cell_type": "code",
      "source": [
        "type(L[0])"
      ],
      "execution_count": 0,
      "outputs": [
        {
          "output_type": "execute_result",
          "data": {
            "text/plain": [
              "int"
            ]
          },
          "metadata": {
            "tags": []
          },
          "execution_count": 7
        }
      ]
    },
    {
      "metadata": {
        "id": "V8T3uyq55wm_",
        "colab_type": "code",
        "outputId": "077114b1-2110-4247-eafb-d79453084b95",
        "colab": {
          "base_uri": "https://localhost:8080/",
          "height": 36
        }
      },
      "cell_type": "code",
      "source": [
        "L2 = [str(c) for c in L]\n",
        "L2"
      ],
      "execution_count": 0,
      "outputs": [
        {
          "output_type": "execute_result",
          "data": {
            "text/plain": [
              "['0', '1', '2', '3', '4', '5', '6', '7', '8', '9']"
            ]
          },
          "metadata": {
            "tags": []
          },
          "execution_count": 8
        }
      ]
    },
    {
      "metadata": {
        "id": "C8caU5r254yI",
        "colab_type": "code",
        "outputId": "e54beee2-3c49-47b2-ce3d-dd13f029ecd1",
        "colab": {
          "base_uri": "https://localhost:8080/",
          "height": 36
        }
      },
      "cell_type": "code",
      "source": [
        "import array\n",
        "L = list(range(10))\n",
        "A = array.array('i', L)\n",
        "A"
      ],
      "execution_count": 0,
      "outputs": [
        {
          "output_type": "execute_result",
          "data": {
            "text/plain": [
              "array('i', [0, 1, 2, 3, 4, 5, 6, 7, 8, 9])"
            ]
          },
          "metadata": {
            "tags": []
          },
          "execution_count": 10
        }
      ]
    },
    {
      "metadata": {
        "id": "42aNg7iL6hTT",
        "colab_type": "code",
        "outputId": "cb1bb64d-4e81-482c-d6ee-6697a5be5930",
        "colab": {
          "base_uri": "https://localhost:8080/",
          "height": 36
        }
      },
      "cell_type": "code",
      "source": [
        "np.array([1,4,2,5,3])"
      ],
      "execution_count": 0,
      "outputs": [
        {
          "output_type": "execute_result",
          "data": {
            "text/plain": [
              "array([1, 4, 2, 5, 3])"
            ]
          },
          "metadata": {
            "tags": []
          },
          "execution_count": 11
        }
      ]
    },
    {
      "metadata": {
        "id": "PN98ZsK261X1",
        "colab_type": "code",
        "outputId": "fcb81789-e73b-4e2c-c8a4-533d58e46157",
        "colab": {
          "base_uri": "https://localhost:8080/",
          "height": 36
        }
      },
      "cell_type": "code",
      "source": [
        "np.array([3.14, 2, 4, 5]) #float로 upcast됨"
      ],
      "execution_count": 0,
      "outputs": [
        {
          "output_type": "execute_result",
          "data": {
            "text/plain": [
              "array([3.14, 2.  , 4.  , 5.  ])"
            ]
          },
          "metadata": {
            "tags": []
          },
          "execution_count": 12
        }
      ]
    },
    {
      "metadata": {
        "id": "eGeJ0zrT7H7d",
        "colab_type": "code",
        "outputId": "858cb0d8-b46f-49e0-9e9c-bb3f3932a9db",
        "colab": {
          "base_uri": "https://localhost:8080/",
          "height": 36
        }
      },
      "cell_type": "code",
      "source": [
        "np.array([1, 2, 3, 4], dtype = 'float32')"
      ],
      "execution_count": 0,
      "outputs": [
        {
          "output_type": "execute_result",
          "data": {
            "text/plain": [
              "array([1., 2., 3., 4.], dtype=float32)"
            ]
          },
          "metadata": {
            "tags": []
          },
          "execution_count": 13
        }
      ]
    },
    {
      "metadata": {
        "id": "tX20-c7O7UJg",
        "colab_type": "code",
        "outputId": "e322024a-d461-40c2-e934-8425d1a5ce07",
        "colab": {
          "base_uri": "https://localhost:8080/",
          "height": 73
        }
      },
      "cell_type": "code",
      "source": [
        "np.array([range(i, i+3) for i in [2, 4, 6]])"
      ],
      "execution_count": 0,
      "outputs": [
        {
          "output_type": "execute_result",
          "data": {
            "text/plain": [
              "array([[2, 3, 4],\n",
              "       [4, 5, 6],\n",
              "       [6, 7, 8]])"
            ]
          },
          "metadata": {
            "tags": []
          },
          "execution_count": 14
        }
      ]
    },
    {
      "metadata": {
        "id": "LyfLQddVGi08",
        "colab_type": "code",
        "outputId": "91b77386-de57-4309-d199-013b729c871b",
        "colab": {
          "base_uri": "https://localhost:8080/",
          "height": 36
        }
      },
      "cell_type": "code",
      "source": [
        "np.zeros(10, dtype=int)"
      ],
      "execution_count": 0,
      "outputs": [
        {
          "output_type": "execute_result",
          "data": {
            "text/plain": [
              "array([0, 0, 0, 0, 0, 0, 0, 0, 0, 0])"
            ]
          },
          "metadata": {
            "tags": []
          },
          "execution_count": 16
        }
      ]
    },
    {
      "metadata": {
        "id": "vqJrrU1CGr9y",
        "colab_type": "code",
        "outputId": "8427825a-c05e-4b46-ed5e-25bc061e917b",
        "colab": {
          "base_uri": "https://localhost:8080/",
          "height": 73
        }
      },
      "cell_type": "code",
      "source": [
        "np.full((3,5), 3.14)"
      ],
      "execution_count": 0,
      "outputs": [
        {
          "output_type": "execute_result",
          "data": {
            "text/plain": [
              "array([[3.14, 3.14, 3.14, 3.14, 3.14],\n",
              "       [3.14, 3.14, 3.14, 3.14, 3.14],\n",
              "       [3.14, 3.14, 3.14, 3.14, 3.14]])"
            ]
          },
          "metadata": {
            "tags": []
          },
          "execution_count": 17
        }
      ]
    },
    {
      "metadata": {
        "id": "lCAJ4CTUGxz0",
        "colab_type": "code",
        "outputId": "0f53232a-3fe4-4c64-f9ca-aebe4844c606",
        "colab": {
          "base_uri": "https://localhost:8080/",
          "height": 36
        }
      },
      "cell_type": "code",
      "source": [
        "np.arange(0, 20, 2)"
      ],
      "execution_count": 0,
      "outputs": [
        {
          "output_type": "execute_result",
          "data": {
            "text/plain": [
              "array([ 0,  2,  4,  6,  8, 10, 12, 14, 16, 18])"
            ]
          },
          "metadata": {
            "tags": []
          },
          "execution_count": 18
        }
      ]
    },
    {
      "metadata": {
        "id": "Bza-tl-VG09w",
        "colab_type": "code",
        "outputId": "4bd56f54-d829-4485-d850-81a02cb5dcf6",
        "colab": {
          "base_uri": "https://localhost:8080/",
          "height": 36
        }
      },
      "cell_type": "code",
      "source": [
        "np.linspace(0, 1, 5)"
      ],
      "execution_count": 0,
      "outputs": [
        {
          "output_type": "execute_result",
          "data": {
            "text/plain": [
              "array([0.  , 0.25, 0.5 , 0.75, 1.  ])"
            ]
          },
          "metadata": {
            "tags": []
          },
          "execution_count": 19
        }
      ]
    },
    {
      "metadata": {
        "id": "MYluu_nlG9XH",
        "colab_type": "code",
        "outputId": "52d1fd59-23d5-4056-809d-734ad6ff51cb",
        "colab": {
          "base_uri": "https://localhost:8080/",
          "height": 73
        }
      },
      "cell_type": "code",
      "source": [
        "np.random.random((3,3))"
      ],
      "execution_count": 0,
      "outputs": [
        {
          "output_type": "execute_result",
          "data": {
            "text/plain": [
              "array([[0.00807917, 0.25419251, 0.1504336 ],\n",
              "       [0.9413745 , 0.39633623, 0.63286396],\n",
              "       [0.22242956, 0.11992767, 0.60711135]])"
            ]
          },
          "metadata": {
            "tags": []
          },
          "execution_count": 20
        }
      ]
    },
    {
      "metadata": {
        "id": "M3MLDeHpHBSk",
        "colab_type": "code",
        "outputId": "67e0edf9-4c9b-44dc-e5fd-7ca9f630ba20",
        "colab": {
          "base_uri": "https://localhost:8080/",
          "height": 73
        }
      },
      "cell_type": "code",
      "source": [
        "np.random.normal(0, 1, (3,3))"
      ],
      "execution_count": 0,
      "outputs": [
        {
          "output_type": "execute_result",
          "data": {
            "text/plain": [
              "array([[ 1.91761711, -1.38125797,  0.53444308],\n",
              "       [ 0.14114203,  0.35585007,  0.26814747],\n",
              "       [-1.47694707,  0.51077485, -2.49863899]])"
            ]
          },
          "metadata": {
            "tags": []
          },
          "execution_count": 21
        }
      ]
    },
    {
      "metadata": {
        "id": "MLJ17mpRHORJ",
        "colab_type": "code",
        "outputId": "673b93bb-df33-4dad-a1e3-b277454289db",
        "colab": {
          "base_uri": "https://localhost:8080/",
          "height": 73
        }
      },
      "cell_type": "code",
      "source": [
        "np.random.randint(0, 10, (3, 3))"
      ],
      "execution_count": 0,
      "outputs": [
        {
          "output_type": "execute_result",
          "data": {
            "text/plain": [
              "array([[6, 2, 6],\n",
              "       [0, 9, 5],\n",
              "       [4, 2, 9]])"
            ]
          },
          "metadata": {
            "tags": []
          },
          "execution_count": 22
        }
      ]
    },
    {
      "metadata": {
        "id": "4bjPOgDqHVFz",
        "colab_type": "code",
        "outputId": "950beae8-d50f-47b2-f61b-43a28d145187",
        "colab": {
          "base_uri": "https://localhost:8080/",
          "height": 73
        }
      },
      "cell_type": "code",
      "source": [
        "np.eye(3)"
      ],
      "execution_count": 0,
      "outputs": [
        {
          "output_type": "execute_result",
          "data": {
            "text/plain": [
              "array([[1., 0., 0.],\n",
              "       [0., 1., 0.],\n",
              "       [0., 0., 1.]])"
            ]
          },
          "metadata": {
            "tags": []
          },
          "execution_count": 23
        }
      ]
    },
    {
      "metadata": {
        "id": "jApElD1iHXWj",
        "colab_type": "code",
        "outputId": "11e2ac03-d595-4272-92ef-b4a476b0a310",
        "colab": {
          "base_uri": "https://localhost:8080/",
          "height": 36
        }
      },
      "cell_type": "code",
      "source": [
        "np.empty(3) #어디에 저장된 값인 것인지?"
      ],
      "execution_count": 0,
      "outputs": [
        {
          "output_type": "execute_result",
          "data": {
            "text/plain": [
              "array([1., 1., 1.])"
            ]
          },
          "metadata": {
            "tags": []
          },
          "execution_count": 24
        }
      ]
    },
    {
      "metadata": {
        "id": "MRDAyzyBHds6",
        "colab_type": "code",
        "outputId": "63832335-d2d7-425a-dab0-7934bd0005bb",
        "colab": {
          "base_uri": "https://localhost:8080/",
          "height": 36
        }
      },
      "cell_type": "code",
      "source": [
        "np.zeros(10, dtype='int16')"
      ],
      "execution_count": 0,
      "outputs": [
        {
          "output_type": "execute_result",
          "data": {
            "text/plain": [
              "array([0, 0, 0, 0, 0, 0, 0, 0, 0, 0], dtype=int16)"
            ]
          },
          "metadata": {
            "tags": []
          },
          "execution_count": 26
        }
      ]
    },
    {
      "metadata": {
        "id": "2vOr1qgXHrJk",
        "colab_type": "code",
        "outputId": "ac32863b-db1a-41b1-c0cf-05d1b62cf25c",
        "colab": {
          "base_uri": "https://localhost:8080/",
          "height": 36
        }
      },
      "cell_type": "code",
      "source": [
        "np.zeros(10, dtype=np.int16) #int16, 32, 64의 차이가 무엇인지? 그 데이터 종류에 저장된 숫자의 수가 더 많은 건가?"
      ],
      "execution_count": 0,
      "outputs": [
        {
          "output_type": "execute_result",
          "data": {
            "text/plain": [
              "array([0, 0, 0, 0, 0, 0, 0, 0, 0, 0], dtype=int16)"
            ]
          },
          "metadata": {
            "tags": []
          },
          "execution_count": 27
        }
      ]
    },
    {
      "metadata": {
        "id": "4f3vHL11H_Xy",
        "colab_type": "code",
        "colab": {}
      },
      "cell_type": "code",
      "source": [
        "np.random.seed(0)\n",
        "\n",
        "x1 = np.random.randint(10, size=6)\n",
        "x2 = np.random.randint(10, size=(3,4))\n",
        "x3 = np.random.randint(10, size=(3,4,5))"
      ],
      "execution_count": 0,
      "outputs": []
    },
    {
      "metadata": {
        "id": "8r6jV_GOJUgF",
        "colab_type": "code",
        "outputId": "5aabf776-2584-4489-8f32-736fc697235c",
        "colab": {
          "base_uri": "https://localhost:8080/",
          "height": 73
        }
      },
      "cell_type": "code",
      "source": [
        "print('x3 ndim: ', x3.ndim)\n",
        "print('x3 shape: ', x3.shape)\n",
        "print('x3 size: ', x3.size)"
      ],
      "execution_count": 0,
      "outputs": [
        {
          "output_type": "stream",
          "text": [
            "x3 ndim:  3\n",
            "x3 shape:  (3, 4, 5)\n",
            "x3 size:  60\n"
          ],
          "name": "stdout"
        }
      ]
    },
    {
      "metadata": {
        "id": "EwVBQtAhJy7D",
        "colab_type": "code",
        "outputId": "71c00579-b723-4e93-9977-e7ed4fa73b1c",
        "colab": {
          "base_uri": "https://localhost:8080/",
          "height": 36
        }
      },
      "cell_type": "code",
      "source": [
        "print('dtype: ', x3.dtype)"
      ],
      "execution_count": 0,
      "outputs": [
        {
          "output_type": "stream",
          "text": [
            "dtype:  int64\n"
          ],
          "name": "stdout"
        }
      ]
    },
    {
      "metadata": {
        "id": "jLIbo2ZZJ3UG",
        "colab_type": "code",
        "outputId": "54ef8e34-b9c7-442f-fc7d-f804c6228b6e",
        "colab": {
          "base_uri": "https://localhost:8080/",
          "height": 55
        }
      },
      "cell_type": "code",
      "source": [
        "print('itemsize: ', x3.itemsize, 'bytes')\n",
        "print('nbytes: ', x3.nbytes, 'bytes') #size*itemsize"
      ],
      "execution_count": 0,
      "outputs": [
        {
          "output_type": "stream",
          "text": [
            "itemsize:  8 bytes\n",
            "nbytes:  480 bytes\n"
          ],
          "name": "stdout"
        }
      ]
    },
    {
      "metadata": {
        "id": "517CsGGrKGCj",
        "colab_type": "code",
        "outputId": "0569de13-2055-4eae-fb80-66069353434a",
        "colab": {
          "base_uri": "https://localhost:8080/",
          "height": 36
        }
      },
      "cell_type": "code",
      "source": [
        "x1"
      ],
      "execution_count": 0,
      "outputs": [
        {
          "output_type": "execute_result",
          "data": {
            "text/plain": [
              "array([5, 0, 3, 3, 7, 9])"
            ]
          },
          "metadata": {
            "tags": []
          },
          "execution_count": 33
        }
      ]
    },
    {
      "metadata": {
        "id": "Z4HMqbzaKTIr",
        "colab_type": "code",
        "outputId": "768f7a81-82d9-4549-bad6-cbfdc2cd196d",
        "colab": {
          "base_uri": "https://localhost:8080/",
          "height": 36
        }
      },
      "cell_type": "code",
      "source": [
        "x1[0]"
      ],
      "execution_count": 0,
      "outputs": [
        {
          "output_type": "execute_result",
          "data": {
            "text/plain": [
              "5"
            ]
          },
          "metadata": {
            "tags": []
          },
          "execution_count": 34
        }
      ]
    },
    {
      "metadata": {
        "id": "AkvVo1-DKXjJ",
        "colab_type": "code",
        "outputId": "af5041a6-c3fc-4b36-bc31-0cc4bcb50824",
        "colab": {
          "base_uri": "https://localhost:8080/",
          "height": 36
        }
      },
      "cell_type": "code",
      "source": [
        "x1[4]"
      ],
      "execution_count": 0,
      "outputs": [
        {
          "output_type": "execute_result",
          "data": {
            "text/plain": [
              "7"
            ]
          },
          "metadata": {
            "tags": []
          },
          "execution_count": 35
        }
      ]
    },
    {
      "metadata": {
        "id": "bvMcGg10KYqQ",
        "colab_type": "code",
        "outputId": "b25dadfc-163d-48c2-9b10-7176eacc6f8a",
        "colab": {
          "base_uri": "https://localhost:8080/",
          "height": 36
        }
      },
      "cell_type": "code",
      "source": [
        "x1[-1]"
      ],
      "execution_count": 0,
      "outputs": [
        {
          "output_type": "execute_result",
          "data": {
            "text/plain": [
              "9"
            ]
          },
          "metadata": {
            "tags": []
          },
          "execution_count": 36
        }
      ]
    },
    {
      "metadata": {
        "id": "YlyGsx1nKcxb",
        "colab_type": "code",
        "outputId": "e54d3217-36fb-455d-b764-01dfd6a78412",
        "colab": {
          "base_uri": "https://localhost:8080/",
          "height": 36
        }
      },
      "cell_type": "code",
      "source": [
        "x1[-2]"
      ],
      "execution_count": 0,
      "outputs": [
        {
          "output_type": "execute_result",
          "data": {
            "text/plain": [
              "7"
            ]
          },
          "metadata": {
            "tags": []
          },
          "execution_count": 37
        }
      ]
    },
    {
      "metadata": {
        "id": "DoswK-T_KdoV",
        "colab_type": "code",
        "outputId": "a6503cd6-3249-4a48-bc1d-fba39df31604",
        "colab": {
          "base_uri": "https://localhost:8080/",
          "height": 73
        }
      },
      "cell_type": "code",
      "source": [
        "x2"
      ],
      "execution_count": 0,
      "outputs": [
        {
          "output_type": "execute_result",
          "data": {
            "text/plain": [
              "array([[3, 5, 2, 4],\n",
              "       [7, 6, 8, 8],\n",
              "       [1, 6, 7, 7]])"
            ]
          },
          "metadata": {
            "tags": []
          },
          "execution_count": 38
        }
      ]
    },
    {
      "metadata": {
        "id": "R_q8xijLKfLe",
        "colab_type": "code",
        "outputId": "ffe9bb72-5914-421c-b62a-9e00085c002a",
        "colab": {
          "base_uri": "https://localhost:8080/",
          "height": 36
        }
      },
      "cell_type": "code",
      "source": [
        "x2[1,0]"
      ],
      "execution_count": 0,
      "outputs": [
        {
          "output_type": "execute_result",
          "data": {
            "text/plain": [
              "7"
            ]
          },
          "metadata": {
            "tags": []
          },
          "execution_count": 39
        }
      ]
    },
    {
      "metadata": {
        "id": "00GMpX-LKh5H",
        "colab_type": "code",
        "outputId": "6defc1ee-d7aa-4822-81a6-e66447a75570",
        "colab": {
          "base_uri": "https://localhost:8080/",
          "height": 36
        }
      },
      "cell_type": "code",
      "source": [
        "x2[1,-1]"
      ],
      "execution_count": 0,
      "outputs": [
        {
          "output_type": "execute_result",
          "data": {
            "text/plain": [
              "8"
            ]
          },
          "metadata": {
            "tags": []
          },
          "execution_count": 41
        }
      ]
    },
    {
      "metadata": {
        "id": "2HdjtKG7Kpn5",
        "colab_type": "code",
        "outputId": "e2fa6033-b73d-4e40-defe-badd9b986f53",
        "colab": {
          "base_uri": "https://localhost:8080/",
          "height": 73
        }
      },
      "cell_type": "code",
      "source": [
        "x2[0,0] = 12\n",
        "x2"
      ],
      "execution_count": 0,
      "outputs": [
        {
          "output_type": "execute_result",
          "data": {
            "text/plain": [
              "array([[12,  5,  2,  4],\n",
              "       [ 7,  6,  8,  8],\n",
              "       [ 1,  6,  7,  7]])"
            ]
          },
          "metadata": {
            "tags": []
          },
          "execution_count": 43
        }
      ]
    },
    {
      "metadata": {
        "id": "pCQxGBjjKmmN",
        "colab_type": "code",
        "outputId": "f00e5109-e374-4315-fe1e-41805ad879a1",
        "colab": {
          "base_uri": "https://localhost:8080/",
          "height": 36
        }
      },
      "cell_type": "code",
      "source": [
        "x1[0] = 3.14\n",
        "x1"
      ],
      "execution_count": 0,
      "outputs": [
        {
          "output_type": "execute_result",
          "data": {
            "text/plain": [
              "array([3, 0, 3, 3, 7, 9])"
            ]
          },
          "metadata": {
            "tags": []
          },
          "execution_count": 44
        }
      ]
    },
    {
      "metadata": {
        "id": "ra0MfSUtK1sx",
        "colab_type": "code",
        "outputId": "0b939dce-187f-45df-f92f-2656998e7fd6",
        "colab": {
          "base_uri": "https://localhost:8080/",
          "height": 36
        }
      },
      "cell_type": "code",
      "source": [
        "x = np.arange(10)\n",
        "x"
      ],
      "execution_count": 0,
      "outputs": [
        {
          "output_type": "execute_result",
          "data": {
            "text/plain": [
              "array([0, 1, 2, 3, 4, 5, 6, 7, 8, 9])"
            ]
          },
          "metadata": {
            "tags": []
          },
          "execution_count": 46
        }
      ]
    },
    {
      "metadata": {
        "id": "hHGGY6QqLG_p",
        "colab_type": "code",
        "outputId": "24dd96c3-5b79-4cf6-ff8b-cad22f75db7a",
        "colab": {
          "base_uri": "https://localhost:8080/",
          "height": 36
        }
      },
      "cell_type": "code",
      "source": [
        "x[:5]"
      ],
      "execution_count": 0,
      "outputs": [
        {
          "output_type": "execute_result",
          "data": {
            "text/plain": [
              "array([0, 1, 2, 3, 4])"
            ]
          },
          "metadata": {
            "tags": []
          },
          "execution_count": 47
        }
      ]
    },
    {
      "metadata": {
        "id": "f1XUnzWKLJjb",
        "colab_type": "code",
        "outputId": "cbb1df1a-6690-4e4a-95a5-6c9be3abbc99",
        "colab": {
          "base_uri": "https://localhost:8080/",
          "height": 36
        }
      },
      "cell_type": "code",
      "source": [
        "x[5:]"
      ],
      "execution_count": 0,
      "outputs": [
        {
          "output_type": "execute_result",
          "data": {
            "text/plain": [
              "array([5, 6, 7, 8, 9])"
            ]
          },
          "metadata": {
            "tags": []
          },
          "execution_count": 48
        }
      ]
    },
    {
      "metadata": {
        "id": "jVEr-HkLLMdW",
        "colab_type": "code",
        "outputId": "f1ee182e-4580-48d5-d254-600acbcc391e",
        "colab": {
          "base_uri": "https://localhost:8080/",
          "height": 36
        }
      },
      "cell_type": "code",
      "source": [
        "x[4:7]"
      ],
      "execution_count": 0,
      "outputs": [
        {
          "output_type": "execute_result",
          "data": {
            "text/plain": [
              "array([4, 5, 6])"
            ]
          },
          "metadata": {
            "tags": []
          },
          "execution_count": 49
        }
      ]
    },
    {
      "metadata": {
        "id": "WKrcPnUBLQJZ",
        "colab_type": "code",
        "outputId": "41604908-98d0-478f-d8ab-eb7334e513a0",
        "colab": {
          "base_uri": "https://localhost:8080/",
          "height": 36
        }
      },
      "cell_type": "code",
      "source": [
        "x[::2]"
      ],
      "execution_count": 0,
      "outputs": [
        {
          "output_type": "execute_result",
          "data": {
            "text/plain": [
              "array([0, 2, 4, 6, 8])"
            ]
          },
          "metadata": {
            "tags": []
          },
          "execution_count": 50
        }
      ]
    },
    {
      "metadata": {
        "id": "icAPZEC1LRz4",
        "colab_type": "code",
        "outputId": "11c71793-81a4-422a-fd10-2287878bc111",
        "colab": {
          "base_uri": "https://localhost:8080/",
          "height": 36
        }
      },
      "cell_type": "code",
      "source": [
        "x[1::2]"
      ],
      "execution_count": 0,
      "outputs": [
        {
          "output_type": "execute_result",
          "data": {
            "text/plain": [
              "array([1, 3, 5, 7, 9])"
            ]
          },
          "metadata": {
            "tags": []
          },
          "execution_count": 51
        }
      ]
    },
    {
      "metadata": {
        "id": "n3nTBGGsLU2x",
        "colab_type": "code",
        "outputId": "e9ebb255-0ed7-4a2d-e520-aaae84711420",
        "colab": {
          "base_uri": "https://localhost:8080/",
          "height": 36
        }
      },
      "cell_type": "code",
      "source": [
        "x[::-1]"
      ],
      "execution_count": 0,
      "outputs": [
        {
          "output_type": "execute_result",
          "data": {
            "text/plain": [
              "array([9, 8, 7, 6, 5, 4, 3, 2, 1, 0])"
            ]
          },
          "metadata": {
            "tags": []
          },
          "execution_count": 52
        }
      ]
    },
    {
      "metadata": {
        "id": "CdQ7s0chLY0-",
        "colab_type": "code",
        "outputId": "0978b910-ef1a-4b21-fced-091134649d56",
        "colab": {
          "base_uri": "https://localhost:8080/",
          "height": 36
        }
      },
      "cell_type": "code",
      "source": [
        "x[5::-2]"
      ],
      "execution_count": 0,
      "outputs": [
        {
          "output_type": "execute_result",
          "data": {
            "text/plain": [
              "array([5, 3, 1])"
            ]
          },
          "metadata": {
            "tags": []
          },
          "execution_count": 53
        }
      ]
    },
    {
      "metadata": {
        "id": "nLcBgqlyLa9Z",
        "colab_type": "code",
        "outputId": "b414f141-a4e3-46c2-c0e6-a6a056cf9bcf",
        "colab": {
          "base_uri": "https://localhost:8080/",
          "height": 55
        }
      },
      "cell_type": "code",
      "source": [
        "x2[:2, :3]"
      ],
      "execution_count": 0,
      "outputs": [
        {
          "output_type": "execute_result",
          "data": {
            "text/plain": [
              "array([[12,  5,  2],\n",
              "       [ 7,  6,  8]])"
            ]
          },
          "metadata": {
            "tags": []
          },
          "execution_count": 54
        }
      ]
    },
    {
      "metadata": {
        "id": "MVAftiuJLfUT",
        "colab_type": "code",
        "outputId": "600e9f7c-42d7-4bf6-db23-1cae80316fc0",
        "colab": {
          "base_uri": "https://localhost:8080/",
          "height": 73
        }
      },
      "cell_type": "code",
      "source": [
        "x2[:3, ::2]"
      ],
      "execution_count": 0,
      "outputs": [
        {
          "output_type": "execute_result",
          "data": {
            "text/plain": [
              "array([[12,  2],\n",
              "       [ 7,  8],\n",
              "       [ 1,  7]])"
            ]
          },
          "metadata": {
            "tags": []
          },
          "execution_count": 55
        }
      ]
    },
    {
      "metadata": {
        "id": "2ecMoX20LjvK",
        "colab_type": "code",
        "outputId": "7d9c28f6-b749-4340-9a70-571f0f00dfd4",
        "colab": {
          "base_uri": "https://localhost:8080/",
          "height": 73
        }
      },
      "cell_type": "code",
      "source": [
        "x2[::-1, ::-1]"
      ],
      "execution_count": 0,
      "outputs": [
        {
          "output_type": "execute_result",
          "data": {
            "text/plain": [
              "array([[ 7,  7,  6,  1],\n",
              "       [ 8,  8,  6,  7],\n",
              "       [ 4,  2,  5, 12]])"
            ]
          },
          "metadata": {
            "tags": []
          },
          "execution_count": 56
        }
      ]
    },
    {
      "metadata": {
        "id": "MXtsFgQGLno3",
        "colab_type": "code",
        "outputId": "179b1382-c78b-4832-8dd1-8b71a505c69f",
        "colab": {
          "base_uri": "https://localhost:8080/",
          "height": 36
        }
      },
      "cell_type": "code",
      "source": [
        "print(x2[:,0])"
      ],
      "execution_count": 0,
      "outputs": [
        {
          "output_type": "stream",
          "text": [
            "[12  7  1]\n"
          ],
          "name": "stdout"
        }
      ]
    },
    {
      "metadata": {
        "id": "lGbEIQpwLxsb",
        "colab_type": "code",
        "outputId": "cc2d588b-d9c7-4797-de29-d313166dd9b7",
        "colab": {
          "base_uri": "https://localhost:8080/",
          "height": 36
        }
      },
      "cell_type": "code",
      "source": [
        "print(x2[0,:])"
      ],
      "execution_count": 0,
      "outputs": [
        {
          "output_type": "stream",
          "text": [
            "[12  5  2  4]\n"
          ],
          "name": "stdout"
        }
      ]
    },
    {
      "metadata": {
        "id": "VV-gua3oL4iR",
        "colab_type": "code",
        "outputId": "fded3780-e495-41b2-966b-f6adfe3c5209",
        "colab": {
          "base_uri": "https://localhost:8080/",
          "height": 36
        }
      },
      "cell_type": "code",
      "source": [
        "print(x2[0])"
      ],
      "execution_count": 0,
      "outputs": [
        {
          "output_type": "stream",
          "text": [
            "[12  5  2  4]\n"
          ],
          "name": "stdout"
        }
      ]
    },
    {
      "metadata": {
        "id": "sRBdu5XUL9ur",
        "colab_type": "code",
        "outputId": "c7f1e8f8-ee4a-4c26-e6da-46de33902849",
        "colab": {
          "base_uri": "https://localhost:8080/",
          "height": 55
        }
      },
      "cell_type": "code",
      "source": [
        "x2_sub = x2[:2, :2]\n",
        "print(x2_sub)"
      ],
      "execution_count": 0,
      "outputs": [
        {
          "output_type": "stream",
          "text": [
            "[[12  5]\n",
            " [ 7  6]]\n"
          ],
          "name": "stdout"
        }
      ]
    },
    {
      "metadata": {
        "id": "YSpbNY6WMJZs",
        "colab_type": "code",
        "outputId": "cd9b0b12-4fd2-43b2-a853-8bb4cdc2f2ea",
        "colab": {
          "base_uri": "https://localhost:8080/",
          "height": 55
        }
      },
      "cell_type": "code",
      "source": [
        "x2_sub[0,0] =99\n",
        "print(x2_sub)"
      ],
      "execution_count": 0,
      "outputs": [
        {
          "output_type": "stream",
          "text": [
            "[[99  5]\n",
            " [ 7  6]]\n"
          ],
          "name": "stdout"
        }
      ]
    },
    {
      "metadata": {
        "id": "1vf-dc_EMQn6",
        "colab_type": "code",
        "outputId": "c63f0268-a8ee-4b16-c337-b511e2ed0d34",
        "colab": {
          "base_uri": "https://localhost:8080/",
          "height": 73
        }
      },
      "cell_type": "code",
      "source": [
        "print(x2)"
      ],
      "execution_count": 0,
      "outputs": [
        {
          "output_type": "stream",
          "text": [
            "[[99  5  2  4]\n",
            " [ 7  6  8  8]\n",
            " [ 1  6  7  7]]\n"
          ],
          "name": "stdout"
        }
      ]
    },
    {
      "metadata": {
        "id": "xgH5Rk-9MR4O",
        "colab_type": "code",
        "outputId": "1c560dd1-d81e-44c4-baf5-1e352e05d6ed",
        "colab": {
          "base_uri": "https://localhost:8080/",
          "height": 55
        }
      },
      "cell_type": "code",
      "source": [
        "x2_sub_copy = x2[:2, :2].copy()\n",
        "print(x2_sub_copy)"
      ],
      "execution_count": 0,
      "outputs": [
        {
          "output_type": "stream",
          "text": [
            "[[99  5]\n",
            " [ 7  6]]\n"
          ],
          "name": "stdout"
        }
      ]
    },
    {
      "metadata": {
        "id": "5_Dd7vxgMjk3",
        "colab_type": "code",
        "outputId": "4f9397ae-6ce5-43a4-9b9f-81fbe13ff24b",
        "colab": {
          "base_uri": "https://localhost:8080/",
          "height": 55
        }
      },
      "cell_type": "code",
      "source": [
        "x2_sub_copy[0,0] = 42\n",
        "print(x2_sub_copy)"
      ],
      "execution_count": 0,
      "outputs": [
        {
          "output_type": "stream",
          "text": [
            "[[42  5]\n",
            " [ 7  6]]\n"
          ],
          "name": "stdout"
        }
      ]
    },
    {
      "metadata": {
        "id": "0Cgx7ZplMpji",
        "colab_type": "code",
        "outputId": "c872820c-ca57-4be4-eba4-5a79522edf3b",
        "colab": {
          "base_uri": "https://localhost:8080/",
          "height": 73
        }
      },
      "cell_type": "code",
      "source": [
        "print(x2)"
      ],
      "execution_count": 0,
      "outputs": [
        {
          "output_type": "stream",
          "text": [
            "[[99  5  2  4]\n",
            " [ 7  6  8  8]\n",
            " [ 1  6  7  7]]\n"
          ],
          "name": "stdout"
        }
      ]
    },
    {
      "metadata": {
        "id": "rSGwsP28Mqls",
        "colab_type": "code",
        "outputId": "a883b4cd-48c5-43c3-ea78-81c6627af309",
        "colab": {
          "base_uri": "https://localhost:8080/",
          "height": 73
        }
      },
      "cell_type": "code",
      "source": [
        "grid = np.arange(1,10).reshape((3,3))\n",
        "print(grid)"
      ],
      "execution_count": 0,
      "outputs": [
        {
          "output_type": "stream",
          "text": [
            "[[1 2 3]\n",
            " [4 5 6]\n",
            " [7 8 9]]\n"
          ],
          "name": "stdout"
        }
      ]
    },
    {
      "metadata": {
        "id": "xALHXnRwMypC",
        "colab_type": "code",
        "outputId": "b28a6985-2472-4c9f-d334-69d7294ec4f4",
        "colab": {
          "base_uri": "https://localhost:8080/",
          "height": 36
        }
      },
      "cell_type": "code",
      "source": [
        "x = np.array([1,2,3])\n",
        "\n",
        "x.reshape((1,3))"
      ],
      "execution_count": 0,
      "outputs": [
        {
          "output_type": "execute_result",
          "data": {
            "text/plain": [
              "array([[1, 2, 3]])"
            ]
          },
          "metadata": {
            "tags": []
          },
          "execution_count": 67
        }
      ]
    },
    {
      "metadata": {
        "id": "g52qztb2Nm8S",
        "colab_type": "code",
        "outputId": "b5d6028a-da07-4d55-d504-326572ddf7ca",
        "colab": {
          "base_uri": "https://localhost:8080/",
          "height": 36
        }
      },
      "cell_type": "code",
      "source": [
        "x[np.newaxis, :]"
      ],
      "execution_count": 0,
      "outputs": [
        {
          "output_type": "execute_result",
          "data": {
            "text/plain": [
              "array([[1, 2, 3]])"
            ]
          },
          "metadata": {
            "tags": []
          },
          "execution_count": 68
        }
      ]
    },
    {
      "metadata": {
        "id": "ttnGcBJNNrSL",
        "colab_type": "code",
        "outputId": "30b0959d-25e8-4e11-ccf7-90b1af033af9",
        "colab": {
          "base_uri": "https://localhost:8080/",
          "height": 73
        }
      },
      "cell_type": "code",
      "source": [
        "x.reshape((3,1))"
      ],
      "execution_count": 0,
      "outputs": [
        {
          "output_type": "execute_result",
          "data": {
            "text/plain": [
              "array([[1],\n",
              "       [2],\n",
              "       [3]])"
            ]
          },
          "metadata": {
            "tags": []
          },
          "execution_count": 69
        }
      ]
    },
    {
      "metadata": {
        "id": "xc9yBla_OPf9",
        "colab_type": "code",
        "outputId": "a14c8c9c-9b3c-4652-e3a6-2a53803b744b",
        "colab": {
          "base_uri": "https://localhost:8080/",
          "height": 73
        }
      },
      "cell_type": "code",
      "source": [
        "x[:, np.newaxis]"
      ],
      "execution_count": 0,
      "outputs": [
        {
          "output_type": "execute_result",
          "data": {
            "text/plain": [
              "array([[1],\n",
              "       [2],\n",
              "       [3]])"
            ]
          },
          "metadata": {
            "tags": []
          },
          "execution_count": 70
        }
      ]
    },
    {
      "metadata": {
        "id": "gIGR9WjzORUa",
        "colab_type": "code",
        "outputId": "f2c5629e-7f53-4099-a6bc-de92ab990f68",
        "colab": {
          "base_uri": "https://localhost:8080/",
          "height": 36
        }
      },
      "cell_type": "code",
      "source": [
        "x = np.array([1,2,3])\n",
        "y = np.array([3,2,1])\n",
        "np.concatenate([x,y])"
      ],
      "execution_count": 0,
      "outputs": [
        {
          "output_type": "execute_result",
          "data": {
            "text/plain": [
              "array([1, 2, 3, 3, 2, 1])"
            ]
          },
          "metadata": {
            "tags": []
          },
          "execution_count": 71
        }
      ]
    },
    {
      "metadata": {
        "id": "_dJgNwb1OhVF",
        "colab_type": "code",
        "outputId": "cad47d98-26ea-4bed-ec17-beb6f1667c04",
        "colab": {
          "base_uri": "https://localhost:8080/",
          "height": 36
        }
      },
      "cell_type": "code",
      "source": [
        "z = [99,99,99]\n",
        "print(np.concatenate([x,y,z]))"
      ],
      "execution_count": 0,
      "outputs": [
        {
          "output_type": "stream",
          "text": [
            "[ 1  2  3  3  2  1 99 99 99]\n"
          ],
          "name": "stdout"
        }
      ]
    },
    {
      "metadata": {
        "id": "aj6PPoxkOnT_",
        "colab_type": "code",
        "outputId": "b7f78741-71cf-4aa5-9170-c74d43d5285a",
        "colab": {
          "base_uri": "https://localhost:8080/",
          "height": 129
        }
      },
      "cell_type": "code",
      "source": [
        "np.concatenate([grid, grid])"
      ],
      "execution_count": 0,
      "outputs": [
        {
          "output_type": "execute_result",
          "data": {
            "text/plain": [
              "array([[1, 2, 3],\n",
              "       [4, 5, 6],\n",
              "       [7, 8, 9],\n",
              "       [1, 2, 3],\n",
              "       [4, 5, 6],\n",
              "       [7, 8, 9]])"
            ]
          },
          "metadata": {
            "tags": []
          },
          "execution_count": 73
        }
      ]
    },
    {
      "metadata": {
        "id": "P-FfiIIpOw2_",
        "colab_type": "code",
        "outputId": "3a19ed46-92ff-4e6a-e0d0-268e24b78995",
        "colab": {
          "base_uri": "https://localhost:8080/",
          "height": 73
        }
      },
      "cell_type": "code",
      "source": [
        "np.concatenate([grid, grid], axis=1)"
      ],
      "execution_count": 0,
      "outputs": [
        {
          "output_type": "execute_result",
          "data": {
            "text/plain": [
              "array([[1, 2, 3, 1, 2, 3],\n",
              "       [4, 5, 6, 4, 5, 6],\n",
              "       [7, 8, 9, 7, 8, 9]])"
            ]
          },
          "metadata": {
            "tags": []
          },
          "execution_count": 74
        }
      ]
    },
    {
      "metadata": {
        "id": "C1SIa7rzO0Pg",
        "colab_type": "code",
        "outputId": "cea84993-7d28-4f47-d8f8-d9d78a2aae02",
        "colab": {
          "base_uri": "https://localhost:8080/",
          "height": 73
        }
      },
      "cell_type": "code",
      "source": [
        "x = np.array([1,2,3])\n",
        "grid = np.array([[9,8,7], [6,5,4]])\n",
        "\n",
        "np.vstack([x,grid])"
      ],
      "execution_count": 0,
      "outputs": [
        {
          "output_type": "execute_result",
          "data": {
            "text/plain": [
              "array([[1, 2, 3],\n",
              "       [9, 8, 7],\n",
              "       [6, 5, 4]])"
            ]
          },
          "metadata": {
            "tags": []
          },
          "execution_count": 76
        }
      ]
    },
    {
      "metadata": {
        "id": "3FK-6_aEPGj-",
        "colab_type": "code",
        "outputId": "9169ec6c-9199-4a9d-d845-8b5616fbb5a2",
        "colab": {
          "base_uri": "https://localhost:8080/",
          "height": 55
        }
      },
      "cell_type": "code",
      "source": [
        "y = np.array([[99],[99]])\n",
        "np.hstack([grid,y])"
      ],
      "execution_count": 0,
      "outputs": [
        {
          "output_type": "execute_result",
          "data": {
            "text/plain": [
              "array([[ 9,  8,  7, 99],\n",
              "       [ 6,  5,  4, 99]])"
            ]
          },
          "metadata": {
            "tags": []
          },
          "execution_count": 77
        }
      ]
    },
    {
      "metadata": {
        "id": "qyaCLYBCPSnm",
        "colab_type": "code",
        "outputId": "1e35ee03-15c4-4207-e263-f907a4593b1f",
        "colab": {
          "base_uri": "https://localhost:8080/",
          "height": 36
        }
      },
      "cell_type": "code",
      "source": [
        "x = [1,2,3,99,99,3,2,1]\n",
        "x1, x2, x3 = np.split(x, [3,5])\n",
        "print(x1, x2, x3)"
      ],
      "execution_count": 0,
      "outputs": [
        {
          "output_type": "stream",
          "text": [
            "[1 2 3] [99 99] [3 2 1]\n"
          ],
          "name": "stdout"
        }
      ]
    },
    {
      "metadata": {
        "id": "KYPHavNCPjSX",
        "colab_type": "code",
        "outputId": "5f010463-af21-4fc7-efda-8d48703e1844",
        "colab": {
          "base_uri": "https://localhost:8080/",
          "height": 92
        }
      },
      "cell_type": "code",
      "source": [
        "grid = np.arange(16).reshape((4,4))\n",
        "grid"
      ],
      "execution_count": 0,
      "outputs": [
        {
          "output_type": "execute_result",
          "data": {
            "text/plain": [
              "array([[ 0,  1,  2,  3],\n",
              "       [ 4,  5,  6,  7],\n",
              "       [ 8,  9, 10, 11],\n",
              "       [12, 13, 14, 15]])"
            ]
          },
          "metadata": {
            "tags": []
          },
          "execution_count": 79
        }
      ]
    },
    {
      "metadata": {
        "id": "1X-aj2DdP81A",
        "colab_type": "code",
        "outputId": "bc96d5c8-b5ca-4413-f673-ca931dce27d9",
        "colab": {
          "base_uri": "https://localhost:8080/",
          "height": 92
        }
      },
      "cell_type": "code",
      "source": [
        "upper, lower = np.vsplit(grid, [2])\n",
        "print(upper)\n",
        "print(lower)"
      ],
      "execution_count": 0,
      "outputs": [
        {
          "output_type": "stream",
          "text": [
            "[[0 1 2 3]\n",
            " [4 5 6 7]]\n",
            "[[ 8  9 10 11]\n",
            " [12 13 14 15]]\n"
          ],
          "name": "stdout"
        }
      ]
    },
    {
      "metadata": {
        "id": "CrgvXdwZQDCr",
        "colab_type": "code",
        "outputId": "9ce1dceb-0e37-436d-a8d3-ad496be0fe3c",
        "colab": {
          "base_uri": "https://localhost:8080/",
          "height": 167
        }
      },
      "cell_type": "code",
      "source": [
        "left, right = np.hsplit(grid, [2])\n",
        "print(left)\n",
        "print(right)"
      ],
      "execution_count": 0,
      "outputs": [
        {
          "output_type": "stream",
          "text": [
            "[[ 0  1]\n",
            " [ 4  5]\n",
            " [ 8  9]\n",
            " [12 13]]\n",
            "[[ 2  3]\n",
            " [ 6  7]\n",
            " [10 11]\n",
            " [14 15]]\n"
          ],
          "name": "stdout"
        }
      ]
    },
    {
      "metadata": {
        "id": "MDx3jz_ZQKXb",
        "colab_type": "code",
        "outputId": "a531445d-7652-4e77-b025-a4e65e70c788",
        "colab": {
          "base_uri": "https://localhost:8080/",
          "height": 36
        }
      },
      "cell_type": "code",
      "source": [
        "np.random.seed(0) #이것의 정체가 무엇인가.. generator?\n",
        "\n",
        "def compute_reciprocals(values):\n",
        "  output = np.empty(len(values))\n",
        "  for i in range(len(values)):\n",
        "    output[i] = 1.0/values[i]\n",
        "  return output\n",
        "\n",
        "values = np.random.randint(1,10,size=5)\n",
        "compute_reciprocals(values)"
      ],
      "execution_count": 0,
      "outputs": [
        {
          "output_type": "execute_result",
          "data": {
            "text/plain": [
              "array([0.16666667, 1.        , 0.25      , 0.25      , 0.125     ])"
            ]
          },
          "metadata": {
            "tags": []
          },
          "execution_count": 82
        }
      ]
    },
    {
      "metadata": {
        "id": "M1jawXaxRphr",
        "colab_type": "code",
        "outputId": "aeda4a1a-98a3-4e98-b088-6d2aa9a8319a",
        "colab": {
          "base_uri": "https://localhost:8080/",
          "height": 36
        }
      },
      "cell_type": "code",
      "source": [
        "big_array = np.random.randint(1, 100, size=1000000)\n",
        "%timeit compute_reciprocals(big_array)"
      ],
      "execution_count": 0,
      "outputs": [
        {
          "output_type": "stream",
          "text": [
            "1 loop, best of 3: 2.05 s per loop\n"
          ],
          "name": "stdout"
        }
      ]
    },
    {
      "metadata": {
        "id": "skjgr_IBR-Hb",
        "colab_type": "code",
        "outputId": "d63742f0-a6cc-4d22-d28d-3ef4c28cc186",
        "colab": {
          "base_uri": "https://localhost:8080/",
          "height": 55
        }
      },
      "cell_type": "code",
      "source": [
        "print(compute_reciprocals(values))\n",
        "print(1.0/values)"
      ],
      "execution_count": 0,
      "outputs": [
        {
          "output_type": "stream",
          "text": [
            "[0.16666667 1.         0.25       0.25       0.125     ]\n",
            "[0.16666667 1.         0.25       0.25       0.125     ]\n"
          ],
          "name": "stdout"
        }
      ]
    },
    {
      "metadata": {
        "id": "7RL1vUI1StbW",
        "colab_type": "code",
        "outputId": "388c5029-0bb7-46c8-8ee6-24dc50a122c4",
        "colab": {
          "base_uri": "https://localhost:8080/",
          "height": 36
        }
      },
      "cell_type": "code",
      "source": [
        "%timeit (1.0/big_array)"
      ],
      "execution_count": 0,
      "outputs": [
        {
          "output_type": "stream",
          "text": [
            "100 loops, best of 3: 3.04 ms per loop\n"
          ],
          "name": "stdout"
        }
      ]
    },
    {
      "metadata": {
        "id": "CudSTiMuS1pS",
        "colab_type": "code",
        "outputId": "a0723c03-b1ce-443d-da90-bfcc10723fcd",
        "colab": {
          "base_uri": "https://localhost:8080/",
          "height": 36
        }
      },
      "cell_type": "code",
      "source": [
        "np.arange(5) / np.arange(1,6)"
      ],
      "execution_count": 0,
      "outputs": [
        {
          "output_type": "execute_result",
          "data": {
            "text/plain": [
              "array([0.        , 0.5       , 0.66666667, 0.75      , 0.8       ])"
            ]
          },
          "metadata": {
            "tags": []
          },
          "execution_count": 86
        }
      ]
    },
    {
      "metadata": {
        "id": "Pqh6eGRTTBBC",
        "colab_type": "code",
        "outputId": "21b391d4-e05e-4ff0-b6ad-c2037b86a6c4",
        "colab": {
          "base_uri": "https://localhost:8080/",
          "height": 73
        }
      },
      "cell_type": "code",
      "source": [
        "x = np.arange(9).reshape((3,3))\n",
        "2**x"
      ],
      "execution_count": 0,
      "outputs": [
        {
          "output_type": "execute_result",
          "data": {
            "text/plain": [
              "array([[  1,   2,   4],\n",
              "       [  8,  16,  32],\n",
              "       [ 64, 128, 256]])"
            ]
          },
          "metadata": {
            "tags": []
          },
          "execution_count": 87
        }
      ]
    },
    {
      "metadata": {
        "id": "xcFVsbbLTMJx",
        "colab_type": "code",
        "outputId": "67f20357-bf6a-4996-edcd-670d61fea713",
        "colab": {
          "base_uri": "https://localhost:8080/",
          "height": 129
        }
      },
      "cell_type": "code",
      "source": [
        "x = np.arange(4)\n",
        "print('x     =',x)\n",
        "print('x + 5 =',x+5)\n",
        "print('x - 5 =',x-5)\n",
        "print('x * 2 =',x*2)\n",
        "print('x / 2 =',x/2)\n",
        "print('x//2  =',x//2)"
      ],
      "execution_count": 0,
      "outputs": [
        {
          "output_type": "stream",
          "text": [
            "x     = [0 1 2 3]\n",
            "x + 5 = [5 6 7 8]\n",
            "x - 5 = [-5 -4 -3 -2]\n",
            "x * 2 = [0 2 4 6]\n",
            "x / 2 = [0.  0.5 1.  1.5]\n",
            "x//2  = [0 0 1 1]\n"
          ],
          "name": "stdout"
        }
      ]
    },
    {
      "metadata": {
        "id": "BMoWh1CSUCNY",
        "colab_type": "code",
        "outputId": "6cf7d789-b3fd-4450-e982-17627daeae92",
        "colab": {
          "base_uri": "https://localhost:8080/",
          "height": 73
        }
      },
      "cell_type": "code",
      "source": [
        "print('-x     =',-x)\n",
        "print('x ** 2 =',x**2)\n",
        "print('x % 2 =',x%2)"
      ],
      "execution_count": 0,
      "outputs": [
        {
          "output_type": "stream",
          "text": [
            "-x     = [ 0 -1 -2 -3]\n",
            "x ** 2 = [0 1 4 9]\n",
            "x % 2 = [0 1 0 1]\n"
          ],
          "name": "stdout"
        }
      ]
    },
    {
      "metadata": {
        "id": "agJ1VJQTUUwY",
        "colab_type": "code",
        "outputId": "c7730138-adae-4042-bb29-ff727c975fd5",
        "colab": {
          "base_uri": "https://localhost:8080/",
          "height": 36
        }
      },
      "cell_type": "code",
      "source": [
        "-(0.5*x+1)**2"
      ],
      "execution_count": 0,
      "outputs": [
        {
          "output_type": "execute_result",
          "data": {
            "text/plain": [
              "array([-1.  , -2.25, -4.  , -6.25])"
            ]
          },
          "metadata": {
            "tags": []
          },
          "execution_count": 90
        }
      ]
    },
    {
      "metadata": {
        "id": "xcS5s3eNUbSJ",
        "colab_type": "code",
        "outputId": "dbc64ac8-1fc7-4e45-e478-11142c76991f",
        "colab": {
          "base_uri": "https://localhost:8080/",
          "height": 36
        }
      },
      "cell_type": "code",
      "source": [
        "np.add(x,2)"
      ],
      "execution_count": 0,
      "outputs": [
        {
          "output_type": "execute_result",
          "data": {
            "text/plain": [
              "array([2, 3, 4, 5])"
            ]
          },
          "metadata": {
            "tags": []
          },
          "execution_count": 91
        }
      ]
    },
    {
      "metadata": {
        "id": "uont1OYvUfra",
        "colab_type": "code",
        "outputId": "851f2a47-90df-44ac-abe4-734e7c481bf6",
        "colab": {
          "base_uri": "https://localhost:8080/",
          "height": 36
        }
      },
      "cell_type": "code",
      "source": [
        "x = np.array([-2,-1,0,1,2])\n",
        "abs(x)"
      ],
      "execution_count": 0,
      "outputs": [
        {
          "output_type": "execute_result",
          "data": {
            "text/plain": [
              "array([2, 1, 0, 1, 2])"
            ]
          },
          "metadata": {
            "tags": []
          },
          "execution_count": 92
        }
      ]
    },
    {
      "metadata": {
        "id": "HGpXvVliUvi3",
        "colab_type": "code",
        "outputId": "fcafa3a6-8dd5-4ade-d103-8a333e25e111",
        "colab": {
          "base_uri": "https://localhost:8080/",
          "height": 36
        }
      },
      "cell_type": "code",
      "source": [
        "np.absolute(x)"
      ],
      "execution_count": 0,
      "outputs": [
        {
          "output_type": "execute_result",
          "data": {
            "text/plain": [
              "array([2, 1, 0, 1, 2])"
            ]
          },
          "metadata": {
            "tags": []
          },
          "execution_count": 93
        }
      ]
    },
    {
      "metadata": {
        "id": "8GkBnA3jUxnn",
        "colab_type": "code",
        "outputId": "47f6b467-d1b8-4784-8b79-7d434099489a",
        "colab": {
          "base_uri": "https://localhost:8080/",
          "height": 36
        }
      },
      "cell_type": "code",
      "source": [
        "np.abs(x)"
      ],
      "execution_count": 0,
      "outputs": [
        {
          "output_type": "execute_result",
          "data": {
            "text/plain": [
              "array([2, 1, 0, 1, 2])"
            ]
          },
          "metadata": {
            "tags": []
          },
          "execution_count": 94
        }
      ]
    },
    {
      "metadata": {
        "id": "N6zTssQYUzbV",
        "colab_type": "code",
        "outputId": "5e88c2b4-4ce3-4cc2-e75d-351478feb5d8",
        "colab": {
          "base_uri": "https://localhost:8080/",
          "height": 36
        }
      },
      "cell_type": "code",
      "source": [
        "x = np.array([3-4j, 4-3j, 2+0j, 0+1j])\n",
        "np.abs(x)"
      ],
      "execution_count": 0,
      "outputs": [
        {
          "output_type": "execute_result",
          "data": {
            "text/plain": [
              "array([5., 5., 2., 1.])"
            ]
          },
          "metadata": {
            "tags": []
          },
          "execution_count": 95
        }
      ]
    },
    {
      "metadata": {
        "id": "ehcd2bUcU-ge",
        "colab_type": "code",
        "colab": {}
      },
      "cell_type": "code",
      "source": [
        "theta = np.linspace(0, np.pi, 3)"
      ],
      "execution_count": 0,
      "outputs": []
    },
    {
      "metadata": {
        "id": "iuSIYpCjVFJf",
        "colab_type": "code",
        "outputId": "ffcb6053-8365-4f07-bc9c-148142dc933e",
        "colab": {
          "base_uri": "https://localhost:8080/",
          "height": 92
        }
      },
      "cell_type": "code",
      "source": [
        "print('theta =',theta)\n",
        "print('sin(theta) =',np.sin(theta))\n",
        "print('cos(theta) =',np.cos(theta))\n",
        "print('tan(theta) =',np.tan(theta))"
      ],
      "execution_count": 0,
      "outputs": [
        {
          "output_type": "stream",
          "text": [
            "theta = [0.         1.57079633 3.14159265]\n",
            "sin(theta) = [0.0000000e+00 1.0000000e+00 1.2246468e-16]\n",
            "cos(theta) = [ 1.000000e+00  6.123234e-17 -1.000000e+00]\n",
            "tan(theta) = [ 0.00000000e+00  1.63312394e+16 -1.22464680e-16]\n"
          ],
          "name": "stdout"
        }
      ]
    },
    {
      "metadata": {
        "id": "RMfaitN_VUkZ",
        "colab_type": "code",
        "outputId": "bba73696-9a2a-499a-cee7-716d222aade7",
        "colab": {
          "base_uri": "https://localhost:8080/",
          "height": 92
        }
      },
      "cell_type": "code",
      "source": [
        "x = [-1,0,1]\n",
        "print('x =',x)\n",
        "print('arcsin(x) =',np.arcsin(x))\n",
        "print('arccos(x) =',np.arccos(x))\n",
        "print('arctan(x) =',np.arctan(x))"
      ],
      "execution_count": 0,
      "outputs": [
        {
          "output_type": "stream",
          "text": [
            "x = [-1, 0, 1]\n",
            "arcsin(x) = [-1.57079633  0.          1.57079633]\n",
            "arccos(x) = [3.14159265 1.57079633 0.        ]\n",
            "arctan(x) = [-0.78539816  0.          0.78539816]\n"
          ],
          "name": "stdout"
        }
      ]
    },
    {
      "metadata": {
        "id": "mj2lssRsVr8h",
        "colab_type": "code",
        "outputId": "72488911-0a5d-45cc-c6fc-cbe6ce7d6d08",
        "colab": {
          "base_uri": "https://localhost:8080/",
          "height": 92
        }
      },
      "cell_type": "code",
      "source": [
        "x = [1,2,3]\n",
        "print('x =',x)\n",
        "print('e^x =',np.exp(x))\n",
        "print('2^x =',np.exp2(x))\n",
        "print('3^x =',np.power(3,x))"
      ],
      "execution_count": 0,
      "outputs": [
        {
          "output_type": "stream",
          "text": [
            "x = [1, 2, 3]\n",
            "e^x = [ 2.71828183  7.3890561  20.08553692]\n",
            "2^x = [2. 4. 8.]\n",
            "3^x = [ 3  9 27]\n"
          ],
          "name": "stdout"
        }
      ]
    },
    {
      "metadata": {
        "id": "nI-9a6JeWCc9",
        "colab_type": "code",
        "outputId": "b9fc8921-c329-4446-9b4b-b32e6c8ebebd",
        "colab": {
          "base_uri": "https://localhost:8080/",
          "height": 92
        }
      },
      "cell_type": "code",
      "source": [
        "x = [1,2,4,10]\n",
        "print('x =',x)\n",
        "print('ln(x) =',np.log(x))\n",
        "print('log2(x) =',np.log2(x))\n",
        "print('log10(x) =',np.log10(10))"
      ],
      "execution_count": 0,
      "outputs": [
        {
          "output_type": "stream",
          "text": [
            "x = [1, 2, 4, 10]\n",
            "ln(x) = [0.         0.69314718 1.38629436 2.30258509]\n",
            "log2(x) = [0.         1.         2.         3.32192809]\n",
            "log10(x) = 1.0\n"
          ],
          "name": "stdout"
        }
      ]
    },
    {
      "metadata": {
        "id": "eCQ3m1voWdck",
        "colab_type": "code",
        "outputId": "db9654fc-1672-41a3-b8b8-4f63833c2480",
        "colab": {
          "base_uri": "https://localhost:8080/",
          "height": 55
        }
      },
      "cell_type": "code",
      "source": [
        "x = [0,0.001,0.01,0.1]\n",
        "print('exp(x)-1 =',np.expm1(x))\n",
        "print('log(1+x) =',np.log1p(x))"
      ],
      "execution_count": 0,
      "outputs": [
        {
          "output_type": "stream",
          "text": [
            "exp(x)-1 = [0.         0.0010005  0.01005017 0.10517092]\n",
            "log(1+x) = [0.         0.0009995  0.00995033 0.09531018]\n"
          ],
          "name": "stdout"
        }
      ]
    },
    {
      "metadata": {
        "id": "dMlpUmOOWx7o",
        "colab_type": "code",
        "colab": {}
      },
      "cell_type": "code",
      "source": [
        "from scipy import special"
      ],
      "execution_count": 0,
      "outputs": []
    },
    {
      "metadata": {
        "id": "X2A1F4wsXE0k",
        "colab_type": "code",
        "outputId": "ab8dd2c2-3dfb-4a48-cfa6-46b8d041e871",
        "colab": {
          "base_uri": "https://localhost:8080/",
          "height": 73
        }
      },
      "cell_type": "code",
      "source": [
        "x = [1,5,10]\n",
        "print('gamma(x) =',special.gamma(x))\n",
        "print('ln|gamma(x) =',special.gammaln(x))\n",
        "print('beta(x,2) =',special.beta(x,2))"
      ],
      "execution_count": 0,
      "outputs": [
        {
          "output_type": "stream",
          "text": [
            "gamma(x) = [1.0000e+00 2.4000e+01 3.6288e+05]\n",
            "ln|gamma(x) = [ 0.          3.17805383 12.80182748]\n",
            "beta(x,2) = [0.5        0.03333333 0.00909091]\n"
          ],
          "name": "stdout"
        }
      ]
    },
    {
      "metadata": {
        "id": "D18pvNj5XR-z",
        "colab_type": "code",
        "outputId": "1f838b13-918f-425e-ec74-7d318859bb8c",
        "colab": {
          "base_uri": "https://localhost:8080/",
          "height": 73
        }
      },
      "cell_type": "code",
      "source": [
        "x = np.array([0,0.3,0.7,1.0])\n",
        "print('erf(x) =',special.erf(x))\n",
        "print('erf(x) =',special.erfc(x))\n",
        "print('erfinv(x) =',special.erfinv(x))"
      ],
      "execution_count": 0,
      "outputs": [
        {
          "output_type": "stream",
          "text": [
            "erf(x) = [0.         0.32862676 0.67780119 0.84270079]\n",
            "erf(x) = [1.         0.67137324 0.32219881 0.15729921]\n",
            "erfinv(x) = [0.         0.27246271 0.73286908        inf]\n"
          ],
          "name": "stdout"
        }
      ]
    },
    {
      "metadata": {
        "id": "V5fEZMnMXk2j",
        "colab_type": "code",
        "outputId": "b4c0af28-457d-4cbf-c79d-8ab3b6386056",
        "colab": {
          "base_uri": "https://localhost:8080/",
          "height": 36
        }
      },
      "cell_type": "code",
      "source": [
        "x=np.arange(5)\n",
        "y=np.empty(5)\n",
        "np.multiply(x,10,out=y)\n",
        "print(y)"
      ],
      "execution_count": 0,
      "outputs": [
        {
          "output_type": "stream",
          "text": [
            "[ 0. 10. 20. 30. 40.]\n"
          ],
          "name": "stdout"
        }
      ]
    },
    {
      "metadata": {
        "id": "WDlhX3xYYCVb",
        "colab_type": "code",
        "outputId": "6eca7df1-cde4-4433-e7ac-50c8e0477d32",
        "colab": {
          "base_uri": "https://localhost:8080/",
          "height": 36
        }
      },
      "cell_type": "code",
      "source": [
        "y = np.zeros(10)\n",
        "np.power(2,x,out=y[::2])\n",
        "print(y)"
      ],
      "execution_count": 0,
      "outputs": [
        {
          "output_type": "stream",
          "text": [
            "[ 1.  0.  2.  0.  4.  0.  8.  0. 16.  0.]\n"
          ],
          "name": "stdout"
        }
      ]
    },
    {
      "metadata": {
        "id": "9C7lG_-RYL0-",
        "colab_type": "code",
        "outputId": "aeca9202-dc50-4f76-caa7-f11d0d761d9c",
        "colab": {
          "base_uri": "https://localhost:8080/",
          "height": 36
        }
      },
      "cell_type": "code",
      "source": [
        "x = np.arange(1,6)\n",
        "np.add.reduce(x)"
      ],
      "execution_count": 0,
      "outputs": [
        {
          "output_type": "execute_result",
          "data": {
            "text/plain": [
              "15"
            ]
          },
          "metadata": {
            "tags": []
          },
          "execution_count": 108
        }
      ]
    },
    {
      "metadata": {
        "id": "oVmQSmLmZk-8",
        "colab_type": "code",
        "outputId": "a1411c5f-62c4-42b5-b670-cd652e9ac7b8",
        "colab": {
          "base_uri": "https://localhost:8080/",
          "height": 36
        }
      },
      "cell_type": "code",
      "source": [
        "np.multiply.reduce(x)"
      ],
      "execution_count": 0,
      "outputs": [
        {
          "output_type": "execute_result",
          "data": {
            "text/plain": [
              "120"
            ]
          },
          "metadata": {
            "tags": []
          },
          "execution_count": 109
        }
      ]
    },
    {
      "metadata": {
        "id": "KufUqyTOZ3su",
        "colab_type": "code",
        "outputId": "d04f4e90-f664-4531-f23d-e232cfd05a0c",
        "colab": {
          "base_uri": "https://localhost:8080/",
          "height": 36
        }
      },
      "cell_type": "code",
      "source": [
        "np.add.accumulate(x)"
      ],
      "execution_count": 0,
      "outputs": [
        {
          "output_type": "execute_result",
          "data": {
            "text/plain": [
              "array([ 1,  3,  6, 10, 15])"
            ]
          },
          "metadata": {
            "tags": []
          },
          "execution_count": 110
        }
      ]
    },
    {
      "metadata": {
        "id": "uYM1gnj0aA5g",
        "colab_type": "code",
        "outputId": "4f5b57d5-320c-4bfc-9111-a0504dc07351",
        "colab": {
          "base_uri": "https://localhost:8080/",
          "height": 36
        }
      },
      "cell_type": "code",
      "source": [
        "np.multiply.accumulate(x)"
      ],
      "execution_count": 0,
      "outputs": [
        {
          "output_type": "execute_result",
          "data": {
            "text/plain": [
              "array([  1,   2,   6,  24, 120])"
            ]
          },
          "metadata": {
            "tags": []
          },
          "execution_count": 111
        }
      ]
    },
    {
      "metadata": {
        "id": "UmMV3YeBaDXB",
        "colab_type": "code",
        "outputId": "e32339ec-54e4-4d6b-c011-267110745e6f",
        "colab": {
          "base_uri": "https://localhost:8080/",
          "height": 111
        }
      },
      "cell_type": "code",
      "source": [
        "x = np.arange(1,6)\n",
        "np.multiply.outer(x,x)"
      ],
      "execution_count": 0,
      "outputs": [
        {
          "output_type": "execute_result",
          "data": {
            "text/plain": [
              "array([[ 1,  2,  3,  4,  5],\n",
              "       [ 2,  4,  6,  8, 10],\n",
              "       [ 3,  6,  9, 12, 15],\n",
              "       [ 4,  8, 12, 16, 20],\n",
              "       [ 5, 10, 15, 20, 25]])"
            ]
          },
          "metadata": {
            "tags": []
          },
          "execution_count": 112
        }
      ]
    },
    {
      "metadata": {
        "id": "dzia2ggraOL7",
        "colab_type": "code",
        "outputId": "43e39e41-f14d-4624-f3fd-e1aa84f7ad9b",
        "colab": {
          "base_uri": "https://localhost:8080/",
          "height": 36
        }
      },
      "cell_type": "code",
      "source": [
        "L = np.random.random(100)\n",
        "sum(L)"
      ],
      "execution_count": 0,
      "outputs": [
        {
          "output_type": "execute_result",
          "data": {
            "text/plain": [
              "50.461758453195614"
            ]
          },
          "metadata": {
            "tags": []
          },
          "execution_count": 113
        }
      ]
    },
    {
      "metadata": {
        "id": "OfXUw9lgatKe",
        "colab_type": "code",
        "outputId": "b9cf7ecc-026e-4577-810c-57962be77fdf",
        "colab": {
          "base_uri": "https://localhost:8080/",
          "height": 55
        }
      },
      "cell_type": "code",
      "source": [
        "big_array = np.random.rand(1000000)\n",
        "%timeit sum(big_array)\n",
        "%timeit np.sum(big_array)"
      ],
      "execution_count": 0,
      "outputs": [
        {
          "output_type": "stream",
          "text": [
            "10 loops, best of 3: 84.6 ms per loop\n",
            "1000 loops, best of 3: 364 µs per loop\n"
          ],
          "name": "stdout"
        }
      ]
    },
    {
      "metadata": {
        "id": "Yw2s9p2Ea6I6",
        "colab_type": "code",
        "outputId": "57c00e89-e93f-43be-8a08-2ddd7b3d98a1",
        "colab": {
          "base_uri": "https://localhost:8080/",
          "height": 36
        }
      },
      "cell_type": "code",
      "source": [
        "min(big_array), max(big_array)"
      ],
      "execution_count": 0,
      "outputs": [
        {
          "output_type": "execute_result",
          "data": {
            "text/plain": [
              "(7.071203171893359e-07, 0.9999997207656334)"
            ]
          },
          "metadata": {
            "tags": []
          },
          "execution_count": 115
        }
      ]
    },
    {
      "metadata": {
        "id": "A9wd_mJnbDdg",
        "colab_type": "code",
        "outputId": "eeb96d62-5d26-49c4-c1ab-6f9833d966cd",
        "colab": {
          "base_uri": "https://localhost:8080/",
          "height": 36
        }
      },
      "cell_type": "code",
      "source": [
        "np.min(big_array), np.max(big_array)"
      ],
      "execution_count": 0,
      "outputs": [
        {
          "output_type": "execute_result",
          "data": {
            "text/plain": [
              "(7.071203171893359e-07, 0.9999997207656334)"
            ]
          },
          "metadata": {
            "tags": []
          },
          "execution_count": 116
        }
      ]
    },
    {
      "metadata": {
        "id": "0tSWd-C3bIya",
        "colab_type": "code",
        "outputId": "8de5796d-ea89-49fc-fa53-8a5e12c238b3",
        "colab": {
          "base_uri": "https://localhost:8080/",
          "height": 55
        }
      },
      "cell_type": "code",
      "source": [
        "%timeit min(big_array)\n",
        "%timeit np.min(big_array)"
      ],
      "execution_count": 0,
      "outputs": [
        {
          "output_type": "stream",
          "text": [
            "10 loops, best of 3: 60.8 ms per loop\n",
            "1000 loops, best of 3: 419 µs per loop\n"
          ],
          "name": "stdout"
        }
      ]
    },
    {
      "metadata": {
        "id": "lKE_YXeUbOjx",
        "colab_type": "code",
        "outputId": "de968806-fe84-4e59-c6f7-d012339600bd",
        "colab": {
          "base_uri": "https://localhost:8080/",
          "height": 36
        }
      },
      "cell_type": "code",
      "source": [
        "print(big_array.min(), big_array.max(), big_array.sum())"
      ],
      "execution_count": 0,
      "outputs": [
        {
          "output_type": "stream",
          "text": [
            "7.071203171893359e-07 0.9999997207656334 500216.8034810001\n"
          ],
          "name": "stdout"
        }
      ]
    },
    {
      "metadata": {
        "id": "0bUZ4Yb3baXI",
        "colab_type": "code",
        "outputId": "172ac8a9-cf02-4945-d507-1d78678ed03d",
        "colab": {
          "base_uri": "https://localhost:8080/",
          "height": 73
        }
      },
      "cell_type": "code",
      "source": [
        "M = np.random.random((3,4))\n",
        "print(M)"
      ],
      "execution_count": 0,
      "outputs": [
        {
          "output_type": "stream",
          "text": [
            "[[0.79832448 0.44923861 0.95274259 0.03193135]\n",
            " [0.18441813 0.71417358 0.76371195 0.11957117]\n",
            " [0.37578601 0.11936151 0.37497044 0.22944653]]\n"
          ],
          "name": "stdout"
        }
      ]
    },
    {
      "metadata": {
        "id": "Ld-f1TK0bnF7",
        "colab_type": "code",
        "outputId": "d646ecf3-bf3b-4509-f2b5-aa1a0e63d0b8",
        "colab": {
          "base_uri": "https://localhost:8080/",
          "height": 36
        }
      },
      "cell_type": "code",
      "source": [
        "M.sum()"
      ],
      "execution_count": 0,
      "outputs": [
        {
          "output_type": "execute_result",
          "data": {
            "text/plain": [
              "5.1136763453287335"
            ]
          },
          "metadata": {
            "tags": []
          },
          "execution_count": 120
        }
      ]
    },
    {
      "metadata": {
        "id": "Qg3J0uMCbo88",
        "colab_type": "code",
        "outputId": "06269063-74f7-4cf0-93d1-ebaa14fb95f5",
        "colab": {
          "base_uri": "https://localhost:8080/",
          "height": 36
        }
      },
      "cell_type": "code",
      "source": [
        "M.min(axis=0)"
      ],
      "execution_count": 0,
      "outputs": [
        {
          "output_type": "execute_result",
          "data": {
            "text/plain": [
              "array([0.18441813, 0.11936151, 0.37497044, 0.03193135])"
            ]
          },
          "metadata": {
            "tags": []
          },
          "execution_count": 121
        }
      ]
    },
    {
      "metadata": {
        "id": "e2BEHprIbxnO",
        "colab_type": "code",
        "outputId": "7df58b2d-77ed-4047-adce-32917723ca27",
        "colab": {
          "base_uri": "https://localhost:8080/",
          "height": 36
        }
      },
      "cell_type": "code",
      "source": [
        "M.max(axis=1)"
      ],
      "execution_count": 0,
      "outputs": [
        {
          "output_type": "execute_result",
          "data": {
            "text/plain": [
              "array([0.95274259, 0.76371195, 0.37578601])"
            ]
          },
          "metadata": {
            "tags": []
          },
          "execution_count": 122
        }
      ]
    },
    {
      "metadata": {
        "id": "FdlfFsakbz3m",
        "colab_type": "code",
        "colab": {}
      },
      "cell_type": "code",
      "source": [
        "#heights = np.array(data['height(cm)'])\n",
        "#plt.hist(heights)"
      ],
      "execution_count": 0,
      "outputs": []
    },
    {
      "metadata": {
        "id": "8AGOWxyKcpSx",
        "colab_type": "code",
        "outputId": "340835f9-427d-48b0-f48a-e470507676e9",
        "colab": {
          "base_uri": "https://localhost:8080/",
          "height": 36
        }
      },
      "cell_type": "code",
      "source": [
        "a = np.array([0,1,2])\n",
        "b = np.array([5,5,5])\n",
        "a + b"
      ],
      "execution_count": 0,
      "outputs": [
        {
          "output_type": "execute_result",
          "data": {
            "text/plain": [
              "array([5, 6, 7])"
            ]
          },
          "metadata": {
            "tags": []
          },
          "execution_count": 124
        }
      ]
    },
    {
      "metadata": {
        "id": "IcILSc-QnEkM",
        "colab_type": "code",
        "outputId": "cebba1fd-a472-4ab2-fe3d-fc312926353a",
        "colab": {
          "base_uri": "https://localhost:8080/",
          "height": 36
        }
      },
      "cell_type": "code",
      "source": [
        "a + 5"
      ],
      "execution_count": 0,
      "outputs": [
        {
          "output_type": "execute_result",
          "data": {
            "text/plain": [
              "array([5, 6, 7])"
            ]
          },
          "metadata": {
            "tags": []
          },
          "execution_count": 125
        }
      ]
    },
    {
      "metadata": {
        "id": "PwVKwElcnGrm",
        "colab_type": "code",
        "outputId": "aa6e316c-e3c3-4607-e829-90cec94642aa",
        "colab": {
          "base_uri": "https://localhost:8080/",
          "height": 73
        }
      },
      "cell_type": "code",
      "source": [
        "M = np.ones((3,3))\n",
        "M"
      ],
      "execution_count": 0,
      "outputs": [
        {
          "output_type": "execute_result",
          "data": {
            "text/plain": [
              "array([[1., 1., 1.],\n",
              "       [1., 1., 1.],\n",
              "       [1., 1., 1.]])"
            ]
          },
          "metadata": {
            "tags": []
          },
          "execution_count": 126
        }
      ]
    },
    {
      "metadata": {
        "id": "z71oHrh1nSXa",
        "colab_type": "code",
        "outputId": "0f88c1c1-5ba6-4b1d-9d6e-c2acb5a653c1",
        "colab": {
          "base_uri": "https://localhost:8080/",
          "height": 73
        }
      },
      "cell_type": "code",
      "source": [
        "M + a"
      ],
      "execution_count": 0,
      "outputs": [
        {
          "output_type": "execute_result",
          "data": {
            "text/plain": [
              "array([[1., 2., 3.],\n",
              "       [1., 2., 3.],\n",
              "       [1., 2., 3.]])"
            ]
          },
          "metadata": {
            "tags": []
          },
          "execution_count": 127
        }
      ]
    },
    {
      "metadata": {
        "id": "boGg0YrPnU5v",
        "colab_type": "code",
        "outputId": "25edb347-5752-4566-91e7-a68bd74bb037",
        "colab": {
          "base_uri": "https://localhost:8080/",
          "height": 92
        }
      },
      "cell_type": "code",
      "source": [
        "a = np.arange(3)\n",
        "b = np.arange(3)[:,np.newaxis]\n",
        "\n",
        "print(a)\n",
        "print(b)"
      ],
      "execution_count": 0,
      "outputs": [
        {
          "output_type": "stream",
          "text": [
            "[0 1 2]\n",
            "[[0]\n",
            " [1]\n",
            " [2]]\n"
          ],
          "name": "stdout"
        }
      ]
    },
    {
      "metadata": {
        "id": "u-KX9NIbnhWT",
        "colab_type": "code",
        "outputId": "5950c33a-5962-41df-d1db-e3b7cd1c7cab",
        "colab": {
          "base_uri": "https://localhost:8080/",
          "height": 73
        }
      },
      "cell_type": "code",
      "source": [
        "a + b"
      ],
      "execution_count": 0,
      "outputs": [
        {
          "output_type": "execute_result",
          "data": {
            "text/plain": [
              "array([[0, 1, 2],\n",
              "       [1, 2, 3],\n",
              "       [2, 3, 4]])"
            ]
          },
          "metadata": {
            "tags": []
          },
          "execution_count": 131
        }
      ]
    },
    {
      "metadata": {
        "id": "wVwvTWACnpdF",
        "colab_type": "code",
        "colab": {}
      },
      "cell_type": "code",
      "source": [
        "M = np.ones((2,3))\n",
        "a = np.arange(3)"
      ],
      "execution_count": 0,
      "outputs": []
    },
    {
      "metadata": {
        "id": "kyTfxwXkoeaN",
        "colab_type": "code",
        "outputId": "6f9c837b-410f-46e4-bf8c-d5ff556e144b",
        "colab": {
          "base_uri": "https://localhost:8080/",
          "height": 55
        }
      },
      "cell_type": "code",
      "source": [
        "print(M.shape)\n",
        "print(a.shape)"
      ],
      "execution_count": 0,
      "outputs": [
        {
          "output_type": "stream",
          "text": [
            "(2, 3)\n",
            "(3,)\n"
          ],
          "name": "stdout"
        }
      ]
    },
    {
      "metadata": {
        "id": "eOIIZK01othm",
        "colab_type": "code",
        "outputId": "5bbf06bb-7822-4952-c177-8a9883d5c149",
        "colab": {
          "base_uri": "https://localhost:8080/",
          "height": 55
        }
      },
      "cell_type": "code",
      "source": [
        "M + a"
      ],
      "execution_count": 0,
      "outputs": [
        {
          "output_type": "execute_result",
          "data": {
            "text/plain": [
              "array([[1., 2., 3.],\n",
              "       [1., 2., 3.]])"
            ]
          },
          "metadata": {
            "tags": []
          },
          "execution_count": 137
        }
      ]
    },
    {
      "metadata": {
        "id": "EXUXawdWo5oQ",
        "colab_type": "code",
        "colab": {}
      },
      "cell_type": "code",
      "source": [
        "a = np.arange(3).reshape((3,1))\n",
        "b = np.arange(3)"
      ],
      "execution_count": 0,
      "outputs": []
    },
    {
      "metadata": {
        "id": "FsI8LzMLpEG9",
        "colab_type": "code",
        "outputId": "e415c8cd-de77-4235-ed5b-c899ba83e149",
        "colab": {
          "base_uri": "https://localhost:8080/",
          "height": 73
        }
      },
      "cell_type": "code",
      "source": [
        "a"
      ],
      "execution_count": 0,
      "outputs": [
        {
          "output_type": "execute_result",
          "data": {
            "text/plain": [
              "array([[0],\n",
              "       [1],\n",
              "       [2]])"
            ]
          },
          "metadata": {
            "tags": []
          },
          "execution_count": 141
        }
      ]
    },
    {
      "metadata": {
        "id": "bGy5TOrUpOX0",
        "colab_type": "code",
        "outputId": "e5dd4541-2333-4ca5-c7f3-52f0bc2c523a",
        "colab": {
          "base_uri": "https://localhost:8080/",
          "height": 36
        }
      },
      "cell_type": "code",
      "source": [
        "b"
      ],
      "execution_count": 0,
      "outputs": [
        {
          "output_type": "execute_result",
          "data": {
            "text/plain": [
              "array([0, 1, 2])"
            ]
          },
          "metadata": {
            "tags": []
          },
          "execution_count": 142
        }
      ]
    },
    {
      "metadata": {
        "id": "rm5AWaVzpFLA",
        "colab_type": "code",
        "outputId": "0da42898-d393-45d1-b9dc-fbd013cae4eb",
        "colab": {
          "base_uri": "https://localhost:8080/",
          "height": 73
        }
      },
      "cell_type": "code",
      "source": [
        "a + b"
      ],
      "execution_count": 0,
      "outputs": [
        {
          "output_type": "execute_result",
          "data": {
            "text/plain": [
              "array([[0, 1, 2],\n",
              "       [1, 2, 3],\n",
              "       [2, 3, 4]])"
            ]
          },
          "metadata": {
            "tags": []
          },
          "execution_count": 140
        }
      ]
    },
    {
      "metadata": {
        "id": "0RKcq69HpICG",
        "colab_type": "code",
        "colab": {}
      },
      "cell_type": "code",
      "source": [
        "M = np.ones((3,2))\n",
        "a = np.arange(3)"
      ],
      "execution_count": 0,
      "outputs": []
    },
    {
      "metadata": {
        "id": "_uTG6yRspboG",
        "colab_type": "code",
        "outputId": "9308af25-9c66-4e72-f4e4-9e929209e8c6",
        "colab": {
          "base_uri": "https://localhost:8080/",
          "height": 73
        }
      },
      "cell_type": "code",
      "source": [
        "M"
      ],
      "execution_count": 0,
      "outputs": [
        {
          "output_type": "execute_result",
          "data": {
            "text/plain": [
              "array([[1., 1.],\n",
              "       [1., 1.],\n",
              "       [1., 1.]])"
            ]
          },
          "metadata": {
            "tags": []
          },
          "execution_count": 144
        }
      ]
    },
    {
      "metadata": {
        "id": "GYVrr-cVpcTn",
        "colab_type": "code",
        "outputId": "5b55e2ff-0e4b-46e1-a710-318a0b864347",
        "colab": {
          "base_uri": "https://localhost:8080/",
          "height": 36
        }
      },
      "cell_type": "code",
      "source": [
        "a"
      ],
      "execution_count": 0,
      "outputs": [
        {
          "output_type": "execute_result",
          "data": {
            "text/plain": [
              "array([0, 1, 2])"
            ]
          },
          "metadata": {
            "tags": []
          },
          "execution_count": 145
        }
      ]
    },
    {
      "metadata": {
        "id": "18y3-kKtpd3S",
        "colab_type": "code",
        "outputId": "27be5bcd-41bf-47e1-9635-854f0083b68c",
        "colab": {
          "base_uri": "https://localhost:8080/",
          "height": 176
        }
      },
      "cell_type": "code",
      "source": [
        "M + a"
      ],
      "execution_count": 0,
      "outputs": [
        {
          "output_type": "error",
          "ename": "ValueError",
          "evalue": "ignored",
          "traceback": [
            "\u001b[0;31m---------------------------------------------------------------------------\u001b[0m",
            "\u001b[0;31mValueError\u001b[0m                                Traceback (most recent call last)",
            "\u001b[0;32m<ipython-input-146-8cac1d547906>\u001b[0m in \u001b[0;36m<module>\u001b[0;34m()\u001b[0m\n\u001b[0;32m----> 1\u001b[0;31m \u001b[0mM\u001b[0m \u001b[0;34m+\u001b[0m \u001b[0ma\u001b[0m\u001b[0;34m\u001b[0m\u001b[0;34m\u001b[0m\u001b[0m\n\u001b[0m",
            "\u001b[0;31mValueError\u001b[0m: operands could not be broadcast together with shapes (3,2) (3,) "
          ]
        }
      ]
    },
    {
      "metadata": {
        "id": "HnXJORy2pku3",
        "colab_type": "code",
        "outputId": "da461c5c-678a-4e4e-a572-d468825240e4",
        "colab": {
          "base_uri": "https://localhost:8080/",
          "height": 36
        }
      },
      "cell_type": "code",
      "source": [
        "a[:, np.newaxis].shape"
      ],
      "execution_count": 0,
      "outputs": [
        {
          "output_type": "execute_result",
          "data": {
            "text/plain": [
              "(3, 1)"
            ]
          },
          "metadata": {
            "tags": []
          },
          "execution_count": 147
        }
      ]
    },
    {
      "metadata": {
        "id": "EU2S6Ca6pujy",
        "colab_type": "code",
        "outputId": "a3000ffb-d11f-4753-cc1b-19a78dcd9058",
        "colab": {
          "base_uri": "https://localhost:8080/",
          "height": 73
        }
      },
      "cell_type": "code",
      "source": [
        "a[:, np.newaxis]"
      ],
      "execution_count": 0,
      "outputs": [
        {
          "output_type": "execute_result",
          "data": {
            "text/plain": [
              "array([[0],\n",
              "       [1],\n",
              "       [2]])"
            ]
          },
          "metadata": {
            "tags": []
          },
          "execution_count": 149
        }
      ]
    },
    {
      "metadata": {
        "id": "cweoiZgnpwXJ",
        "colab_type": "code",
        "outputId": "245bfb8e-a15f-4e1b-8dc7-8ed80c86157c",
        "colab": {
          "base_uri": "https://localhost:8080/",
          "height": 73
        }
      },
      "cell_type": "code",
      "source": [
        "M + a[:, np.newaxis]"
      ],
      "execution_count": 0,
      "outputs": [
        {
          "output_type": "execute_result",
          "data": {
            "text/plain": [
              "array([[1., 1.],\n",
              "       [2., 2.],\n",
              "       [3., 3.]])"
            ]
          },
          "metadata": {
            "tags": []
          },
          "execution_count": 151
        }
      ]
    },
    {
      "metadata": {
        "id": "FOEcmtejp6NR",
        "colab_type": "code",
        "outputId": "9198c1ae-2126-4fc8-bb12-eb331fe305e7",
        "colab": {
          "base_uri": "https://localhost:8080/",
          "height": 73
        }
      },
      "cell_type": "code",
      "source": [
        "np.logaddexp(M, a[:, np.newaxis])"
      ],
      "execution_count": 0,
      "outputs": [
        {
          "output_type": "execute_result",
          "data": {
            "text/plain": [
              "array([[1.31326169, 1.31326169],\n",
              "       [1.69314718, 1.69314718],\n",
              "       [2.31326169, 2.31326169]])"
            ]
          },
          "metadata": {
            "tags": []
          },
          "execution_count": 152
        }
      ]
    },
    {
      "metadata": {
        "id": "iCbPXS1EqJhq",
        "colab_type": "code",
        "colab": {}
      },
      "cell_type": "code",
      "source": [
        "X = np.random.random((10,3))"
      ],
      "execution_count": 0,
      "outputs": []
    },
    {
      "metadata": {
        "id": "4EangbsdOYfH",
        "colab_type": "code",
        "outputId": "0605cf57-e760-42cd-bd10-2ad56c236a7f",
        "colab": {
          "base_uri": "https://localhost:8080/",
          "height": 36
        }
      },
      "cell_type": "code",
      "source": [
        "Xmean = X.mean(0)\n",
        "Xmean"
      ],
      "execution_count": 0,
      "outputs": [
        {
          "output_type": "execute_result",
          "data": {
            "text/plain": [
              "array([0.4755786 , 0.44637465, 0.51391447])"
            ]
          },
          "metadata": {
            "tags": []
          },
          "execution_count": 4
        }
      ]
    },
    {
      "metadata": {
        "id": "bSvtd198OeqL",
        "colab_type": "code",
        "colab": {}
      },
      "cell_type": "code",
      "source": [
        "X_centered = X - Xmean"
      ],
      "execution_count": 0,
      "outputs": []
    },
    {
      "metadata": {
        "id": "MBy-D9XROqi3",
        "colab_type": "code",
        "outputId": "a53b7f7f-0a82-4863-f63f-f4152790e3fe",
        "colab": {
          "base_uri": "https://localhost:8080/",
          "height": 36
        }
      },
      "cell_type": "code",
      "source": [
        "X_centered.mean(0)"
      ],
      "execution_count": 0,
      "outputs": [
        {
          "output_type": "execute_result",
          "data": {
            "text/plain": [
              "array([-4.44089210e-17, -1.11022302e-17,  5.55111512e-17])"
            ]
          },
          "metadata": {
            "tags": []
          },
          "execution_count": 6
        }
      ]
    },
    {
      "metadata": {
        "id": "PDZKmfSoOvcY",
        "colab_type": "code",
        "colab": {}
      },
      "cell_type": "code",
      "source": [
        "x = np.linspace(0,5,50)\n",
        "y = np.linspace(0,5,50)[:, np.newaxis]\n",
        "\n",
        "z = np.sin(x)**10 + np.cos(10 +y*x) * np.cos(x)"
      ],
      "execution_count": 0,
      "outputs": []
    },
    {
      "metadata": {
        "id": "5w_2FdNRPGcH",
        "colab_type": "code",
        "colab": {}
      },
      "cell_type": "code",
      "source": [
        "%matplotlib inline\n",
        "import matplotlib.pyplot as plt"
      ],
      "execution_count": 0,
      "outputs": []
    },
    {
      "metadata": {
        "id": "O-Hl8u5ePL80",
        "colab_type": "code",
        "outputId": "fb699b99-795c-414a-e026-7634c79809ab",
        "colab": {
          "base_uri": "https://localhost:8080/",
          "height": 288
        }
      },
      "cell_type": "code",
      "source": [
        "plt.imshow(z, origin='lower', extent=[0,5,0,5], cmap='viridis')\n",
        "plt.colorbar()"
      ],
      "execution_count": 0,
      "outputs": [
        {
          "output_type": "execute_result",
          "data": {
            "text/plain": [
              "<matplotlib.colorbar.Colorbar at 0x7fb768f36a90>"
            ]
          },
          "metadata": {
            "tags": []
          },
          "execution_count": 10
        },
        {
          "output_type": "display_data",
          "data": {
            "image/png": "[encoded data removed]",
            "text/plain": [
              "<matplotlib.figure.Figure at 0x7fb76b8368d0>"
            ]
          },
          "metadata": {
            "tags": []
          }
        }
      ]
    },
    {
      "metadata": {
        "id": "uLS8QfXFPURs",
        "colab_type": "code",
        "outputId": "dd7c5d81-f945-4283-f52f-ddc61bde0f04",
        "colab": {
          "base_uri": "https://localhost:8080/",
          "height": 36
        }
      },
      "cell_type": "code",
      "source": [
        "x = np.array([1,2,3,4,5])\n",
        "x<3"
      ],
      "execution_count": 0,
      "outputs": [
        {
          "output_type": "execute_result",
          "data": {
            "text/plain": [
              "array([ True,  True, False, False, False])"
            ]
          },
          "metadata": {
            "tags": []
          },
          "execution_count": 11
        }
      ]
    },
    {
      "metadata": {
        "id": "7CFYqO9bp16y",
        "colab_type": "code",
        "outputId": "44eddd64-9b2b-40a2-c07f-02ed54ae63f9",
        "colab": {
          "base_uri": "https://localhost:8080/",
          "height": 36
        }
      },
      "cell_type": "code",
      "source": [
        "(2*x) == (x**2)"
      ],
      "execution_count": 0,
      "outputs": [
        {
          "output_type": "execute_result",
          "data": {
            "text/plain": [
              "array([False,  True, False, False, False])"
            ]
          },
          "metadata": {
            "tags": []
          },
          "execution_count": 12
        }
      ]
    },
    {
      "metadata": {
        "id": "hsrrco91p8Oe",
        "colab_type": "code",
        "outputId": "d601da9d-9a4b-437d-bf30-1456e3228578",
        "colab": {
          "base_uri": "https://localhost:8080/",
          "height": 73
        }
      },
      "cell_type": "code",
      "source": [
        "rng = np.random.RandomState(0) #이게 seed같은 건가?\n",
        "x = rng.randint(10, size=(3,4))\n",
        "x"
      ],
      "execution_count": 0,
      "outputs": [
        {
          "output_type": "execute_result",
          "data": {
            "text/plain": [
              "array([[5, 0, 3, 3],\n",
              "       [7, 9, 3, 5],\n",
              "       [2, 4, 7, 6]])"
            ]
          },
          "metadata": {
            "tags": []
          },
          "execution_count": 13
        }
      ]
    },
    {
      "metadata": {
        "id": "35Ydzy49qGhG",
        "colab_type": "code",
        "outputId": "475f5f8e-7224-4892-beb4-8e8950e72d70",
        "colab": {
          "base_uri": "https://localhost:8080/",
          "height": 73
        }
      },
      "cell_type": "code",
      "source": [
        "x < 6"
      ],
      "execution_count": 0,
      "outputs": [
        {
          "output_type": "execute_result",
          "data": {
            "text/plain": [
              "array([[ True,  True,  True,  True],\n",
              "       [False, False,  True,  True],\n",
              "       [ True,  True, False, False]])"
            ]
          },
          "metadata": {
            "tags": []
          },
          "execution_count": 14
        }
      ]
    },
    {
      "metadata": {
        "id": "zulyS61EquPy",
        "colab_type": "code",
        "outputId": "610019da-ccfd-40b2-95c8-64c1269edee7",
        "colab": {
          "base_uri": "https://localhost:8080/",
          "height": 73
        }
      },
      "cell_type": "code",
      "source": [
        "print(x)"
      ],
      "execution_count": 0,
      "outputs": [
        {
          "output_type": "stream",
          "text": [
            "[[5 0 3 3]\n",
            " [7 9 3 5]\n",
            " [2 4 7 6]]\n"
          ],
          "name": "stdout"
        }
      ]
    },
    {
      "metadata": {
        "id": "CMpxGkypqxgm",
        "colab_type": "code",
        "outputId": "3f4ffed9-e6fe-441b-c7f1-986ce86a09f7",
        "colab": {
          "base_uri": "https://localhost:8080/",
          "height": 36
        }
      },
      "cell_type": "code",
      "source": [
        "np.count_nonzero(x<6)"
      ],
      "execution_count": 0,
      "outputs": [
        {
          "output_type": "execute_result",
          "data": {
            "text/plain": [
              "8"
            ]
          },
          "metadata": {
            "tags": []
          },
          "execution_count": 16
        }
      ]
    },
    {
      "metadata": {
        "id": "u7KHInHSq0vX",
        "colab_type": "code",
        "outputId": "760da790-773c-4584-fe3e-d4d4365113c1",
        "colab": {
          "base_uri": "https://localhost:8080/",
          "height": 36
        }
      },
      "cell_type": "code",
      "source": [
        "np.sum(x<6)"
      ],
      "execution_count": 0,
      "outputs": [
        {
          "output_type": "execute_result",
          "data": {
            "text/plain": [
              "8"
            ]
          },
          "metadata": {
            "tags": []
          },
          "execution_count": 17
        }
      ]
    },
    {
      "metadata": {
        "id": "PGNFOInGq8I6",
        "colab_type": "code",
        "outputId": "33b82351-95a6-410e-9ff8-6ae272676b55",
        "colab": {
          "base_uri": "https://localhost:8080/",
          "height": 36
        }
      },
      "cell_type": "code",
      "source": [
        "np.sum(x<6, axis=1)"
      ],
      "execution_count": 0,
      "outputs": [
        {
          "output_type": "execute_result",
          "data": {
            "text/plain": [
              "array([4, 2, 2])"
            ]
          },
          "metadata": {
            "tags": []
          },
          "execution_count": 18
        }
      ]
    },
    {
      "metadata": {
        "id": "tlSNwfEvrCGe",
        "colab_type": "code",
        "outputId": "6690e477-d935-4973-e48c-4d2cac4e4813",
        "colab": {
          "base_uri": "https://localhost:8080/",
          "height": 36
        }
      },
      "cell_type": "code",
      "source": [
        "np.any(x>8)"
      ],
      "execution_count": 0,
      "outputs": [
        {
          "output_type": "execute_result",
          "data": {
            "text/plain": [
              "True"
            ]
          },
          "metadata": {
            "tags": []
          },
          "execution_count": 19
        }
      ]
    },
    {
      "metadata": {
        "id": "O6Rne66ErF3E",
        "colab_type": "code",
        "outputId": "ceab4fdf-b756-4f21-8de8-439538a7bbfe",
        "colab": {
          "base_uri": "https://localhost:8080/",
          "height": 36
        }
      },
      "cell_type": "code",
      "source": [
        "np.any(x<0)"
      ],
      "execution_count": 0,
      "outputs": [
        {
          "output_type": "execute_result",
          "data": {
            "text/plain": [
              "False"
            ]
          },
          "metadata": {
            "tags": []
          },
          "execution_count": 20
        }
      ]
    },
    {
      "metadata": {
        "id": "dA_suZ5erICu",
        "colab_type": "code",
        "outputId": "0e95036c-97a8-4df3-c890-0369a978f9d5",
        "colab": {
          "base_uri": "https://localhost:8080/",
          "height": 36
        }
      },
      "cell_type": "code",
      "source": [
        "np.all(x<10)"
      ],
      "execution_count": 0,
      "outputs": [
        {
          "output_type": "execute_result",
          "data": {
            "text/plain": [
              "True"
            ]
          },
          "metadata": {
            "tags": []
          },
          "execution_count": 21
        }
      ]
    },
    {
      "metadata": {
        "id": "NE9InyYRrLqp",
        "colab_type": "code",
        "outputId": "09818c99-a6be-440d-854a-6a97bd7a4d26",
        "colab": {
          "base_uri": "https://localhost:8080/",
          "height": 36
        }
      },
      "cell_type": "code",
      "source": [
        "np.all(x==6)"
      ],
      "execution_count": 0,
      "outputs": [
        {
          "output_type": "execute_result",
          "data": {
            "text/plain": [
              "False"
            ]
          },
          "metadata": {
            "tags": []
          },
          "execution_count": 22
        }
      ]
    },
    {
      "metadata": {
        "id": "0WR53t5irNnB",
        "colab_type": "code",
        "outputId": "49860103-8f16-450f-ebb6-e24bba7b060d",
        "colab": {
          "base_uri": "https://localhost:8080/",
          "height": 36
        }
      },
      "cell_type": "code",
      "source": [
        "np.all(x<8, axis=1)"
      ],
      "execution_count": 0,
      "outputs": [
        {
          "output_type": "execute_result",
          "data": {
            "text/plain": [
              "array([ True, False,  True])"
            ]
          },
          "metadata": {
            "tags": []
          },
          "execution_count": 23
        }
      ]
    },
    {
      "metadata": {
        "id": "e5ZBkDaGrQms",
        "colab_type": "code",
        "outputId": "df9a4852-082a-4539-fb97-4b39ec54fad0",
        "colab": {
          "base_uri": "https://localhost:8080/",
          "height": 36
        }
      },
      "cell_type": "code",
      "source": [
        "bool(42), bool(0)"
      ],
      "execution_count": 0,
      "outputs": [
        {
          "output_type": "execute_result",
          "data": {
            "text/plain": [
              "(True, False)"
            ]
          },
          "metadata": {
            "tags": []
          },
          "execution_count": 24
        }
      ]
    },
    {
      "metadata": {
        "id": "fEIweW9Osdbf",
        "colab_type": "code",
        "outputId": "8a34641b-c1d0-4368-c465-d05b86936f51",
        "colab": {
          "base_uri": "https://localhost:8080/",
          "height": 36
        }
      },
      "cell_type": "code",
      "source": [
        "bool(42 or 0)"
      ],
      "execution_count": 0,
      "outputs": [
        {
          "output_type": "execute_result",
          "data": {
            "text/plain": [
              "True"
            ]
          },
          "metadata": {
            "tags": []
          },
          "execution_count": 25
        }
      ]
    },
    {
      "metadata": {
        "id": "Y4sNhO1isffQ",
        "colab_type": "code",
        "outputId": "d19337f7-7b1c-418b-fa43-df9f2f6a77a0",
        "colab": {
          "base_uri": "https://localhost:8080/",
          "height": 36
        }
      },
      "cell_type": "code",
      "source": [
        "bin(42 | 59) # 'applying the and or the or to the individual bits making up the number'가 무슨 뜻인지.."
      ],
      "execution_count": 0,
      "outputs": [
        {
          "output_type": "execute_result",
          "data": {
            "text/plain": [
              "'0b111011'"
            ]
          },
          "metadata": {
            "tags": []
          },
          "execution_count": 26
        }
      ]
    },
    {
      "metadata": {
        "id": "jPmoXyJVsqL5",
        "colab_type": "code",
        "outputId": "c00162da-81ec-4105-ab7b-2ea11dca2f5a",
        "colab": {
          "base_uri": "https://localhost:8080/",
          "height": 36
        }
      },
      "cell_type": "code",
      "source": [
        "A = np.array([1,0,1,0,1,0], dtype=bool)\n",
        "B = np.array([1,1,1,0,1,1], dtype=bool)\n",
        "A|B"
      ],
      "execution_count": 0,
      "outputs": [
        {
          "output_type": "execute_result",
          "data": {
            "text/plain": [
              "array([ True,  True,  True, False,  True,  True])"
            ]
          },
          "metadata": {
            "tags": []
          },
          "execution_count": 27
        }
      ]
    },
    {
      "metadata": {
        "id": "jh71km_Ts7wL",
        "colab_type": "code",
        "outputId": "8373d0bc-774c-482a-b70c-230978ed22f4",
        "colab": {
          "base_uri": "https://localhost:8080/",
          "height": 196
        }
      },
      "cell_type": "code",
      "source": [
        "A or B"
      ],
      "execution_count": 0,
      "outputs": [
        {
          "output_type": "error",
          "ename": "ValueError",
          "evalue": "ignored",
          "traceback": [
            "\u001b[0;31m---------------------------------------------------------------------------\u001b[0m",
            "\u001b[0;31mValueError\u001b[0m                                Traceback (most recent call last)",
            "\u001b[0;32m<ipython-input-28-ea2c97d9d9ee>\u001b[0m in \u001b[0;36m<module>\u001b[0;34m()\u001b[0m\n\u001b[0;32m----> 1\u001b[0;31m \u001b[0mA\u001b[0m \u001b[0;32mor\u001b[0m \u001b[0mB\u001b[0m\u001b[0;34m\u001b[0m\u001b[0;34m\u001b[0m\u001b[0m\n\u001b[0m",
            "\u001b[0;31mValueError\u001b[0m: The truth value of an array with more than one element is ambiguous. Use a.any() or a.all()"
          ]
        }
      ]
    },
    {
      "metadata": {
        "id": "JKVesgtus8pE",
        "colab_type": "code",
        "outputId": "c439ca34-0ad9-47c3-f2d2-a4af56cdb497",
        "colab": {
          "base_uri": "https://localhost:8080/",
          "height": 55
        }
      },
      "cell_type": "code",
      "source": [
        "x = np.arange(10)\n",
        "(x>4) & (x<8)"
      ],
      "execution_count": 0,
      "outputs": [
        {
          "output_type": "execute_result",
          "data": {
            "text/plain": [
              "array([False, False, False, False, False,  True,  True,  True, False,\n",
              "       False])"
            ]
          },
          "metadata": {
            "tags": []
          },
          "execution_count": 29
        }
      ]
    },
    {
      "metadata": {
        "id": "A4w6SdKytBzq",
        "colab_type": "code",
        "outputId": "3fcd6486-cabd-4913-cb1c-7510f733e2e3",
        "colab": {
          "base_uri": "https://localhost:8080/",
          "height": 196
        }
      },
      "cell_type": "code",
      "source": [
        "(x>4) and (x<8)"
      ],
      "execution_count": 0,
      "outputs": [
        {
          "output_type": "error",
          "ename": "ValueError",
          "evalue": "ignored",
          "traceback": [
            "\u001b[0;31m---------------------------------------------------------------------------\u001b[0m",
            "\u001b[0;31mValueError\u001b[0m                                Traceback (most recent call last)",
            "\u001b[0;32m<ipython-input-30-bca1e00dba76>\u001b[0m in \u001b[0;36m<module>\u001b[0;34m()\u001b[0m\n\u001b[0;32m----> 1\u001b[0;31m \u001b[0;34m(\u001b[0m\u001b[0mx\u001b[0m\u001b[0;34m>\u001b[0m\u001b[0;36m4\u001b[0m\u001b[0;34m)\u001b[0m \u001b[0;32mand\u001b[0m \u001b[0;34m(\u001b[0m\u001b[0mx\u001b[0m\u001b[0;34m<\u001b[0m\u001b[0;36m8\u001b[0m\u001b[0;34m)\u001b[0m\u001b[0;34m\u001b[0m\u001b[0;34m\u001b[0m\u001b[0m\n\u001b[0m",
            "\u001b[0;31mValueError\u001b[0m: The truth value of an array with more than one element is ambiguous. Use a.any() or a.all()"
          ]
        }
      ]
    },
    {
      "metadata": {
        "id": "FNlMbcPRtHZ3",
        "colab_type": "code",
        "colab": {
          "base_uri": "https://localhost:8080/",
          "height": 36
        },
        "outputId": "2d15cf02-ddb9-476e-8576-dbe78f574ce0"
      },
      "cell_type": "code",
      "source": [
        "import numpy as np\n",
        "rand = np.random.RandomState(42) #여기에 0이랑 42 넣는 차이가 무엇일까.. 그리고 이건 랜덤이 아닌듯? 책이랑 값이 다 같음\n",
        "\n",
        "x = rand.randint(100, size=10)\n",
        "print(x)"
      ],
      "execution_count": 1,
      "outputs": [
        {
          "output_type": "stream",
          "text": [
            "[51 92 14 71 60 20 82 86 74 74]\n"
          ],
          "name": "stdout"
        }
      ]
    },
    {
      "metadata": {
        "id": "Uy3dctyF6URf",
        "colab_type": "code",
        "colab": {
          "base_uri": "https://localhost:8080/",
          "height": 36
        },
        "outputId": "a25db224-e8bd-4ad0-b04d-de8efcddc454"
      },
      "cell_type": "code",
      "source": [
        "[x[3], x[7], x[2]]"
      ],
      "execution_count": 2,
      "outputs": [
        {
          "output_type": "execute_result",
          "data": {
            "text/plain": [
              "[71, 86, 14]"
            ]
          },
          "metadata": {
            "tags": []
          },
          "execution_count": 2
        }
      ]
    },
    {
      "metadata": {
        "id": "cVVzzvgR6aDi",
        "colab_type": "code",
        "colab": {
          "base_uri": "https://localhost:8080/",
          "height": 36
        },
        "outputId": "b6767526-f548-4668-efd1-897ac68107bb"
      },
      "cell_type": "code",
      "source": [
        "ind = [3,7,4]\n",
        "x[ind]"
      ],
      "execution_count": 3,
      "outputs": [
        {
          "output_type": "execute_result",
          "data": {
            "text/plain": [
              "array([71, 86, 60])"
            ]
          },
          "metadata": {
            "tags": []
          },
          "execution_count": 3
        }
      ]
    },
    {
      "metadata": {
        "id": "0dHO3p5R6krO",
        "colab_type": "code",
        "colab": {
          "base_uri": "https://localhost:8080/",
          "height": 55
        },
        "outputId": "205d2d60-c7b8-4ba6-96b6-e4a301ad33d5"
      },
      "cell_type": "code",
      "source": [
        "ind = np.array([[3,7],[4,5]])\n",
        "x[ind]"
      ],
      "execution_count": 4,
      "outputs": [
        {
          "output_type": "execute_result",
          "data": {
            "text/plain": [
              "array([[71, 86],\n",
              "       [60, 20]])"
            ]
          },
          "metadata": {
            "tags": []
          },
          "execution_count": 4
        }
      ]
    },
    {
      "metadata": {
        "id": "p4vhnGfF6sVj",
        "colab_type": "code",
        "colab": {
          "base_uri": "https://localhost:8080/",
          "height": 73
        },
        "outputId": "78c70143-c533-4866-be7b-f6be77181e8c"
      },
      "cell_type": "code",
      "source": [
        "X = np.arange(12).reshape((3,4))\n",
        "X"
      ],
      "execution_count": 5,
      "outputs": [
        {
          "output_type": "execute_result",
          "data": {
            "text/plain": [
              "array([[ 0,  1,  2,  3],\n",
              "       [ 4,  5,  6,  7],\n",
              "       [ 8,  9, 10, 11]])"
            ]
          },
          "metadata": {
            "tags": []
          },
          "execution_count": 5
        }
      ]
    },
    {
      "metadata": {
        "id": "XBMilCs87GjT",
        "colab_type": "code",
        "colab": {
          "base_uri": "https://localhost:8080/",
          "height": 36
        },
        "outputId": "55f6a7b0-e113-441b-bd51-ca75e9601bde"
      },
      "cell_type": "code",
      "source": [
        "row = np.array([0,1,2])\n",
        "col = np.array([2,1,3])\n",
        "X[row, col]"
      ],
      "execution_count": 6,
      "outputs": [
        {
          "output_type": "execute_result",
          "data": {
            "text/plain": [
              "array([ 2,  5, 11])"
            ]
          },
          "metadata": {
            "tags": []
          },
          "execution_count": 6
        }
      ]
    },
    {
      "metadata": {
        "id": "srJF8gLz7PUB",
        "colab_type": "code",
        "colab": {
          "base_uri": "https://localhost:8080/",
          "height": 73
        },
        "outputId": "0d7e31df-7364-4049-9c5b-954e1da76c90"
      },
      "cell_type": "code",
      "source": [
        "X[row[:, np.newaxis], col]"
      ],
      "execution_count": 7,
      "outputs": [
        {
          "output_type": "execute_result",
          "data": {
            "text/plain": [
              "array([[ 2,  1,  3],\n",
              "       [ 6,  5,  7],\n",
              "       [10,  9, 11]])"
            ]
          },
          "metadata": {
            "tags": []
          },
          "execution_count": 7
        }
      ]
    },
    {
      "metadata": {
        "id": "RcWybh8V9H_Q",
        "colab_type": "code",
        "colab": {
          "base_uri": "https://localhost:8080/",
          "height": 73
        },
        "outputId": "dd907d02-f969-4d68-aac8-69d7cd53efdb"
      },
      "cell_type": "code",
      "source": [
        "row[:, np.newaxis]*col"
      ],
      "execution_count": 8,
      "outputs": [
        {
          "output_type": "execute_result",
          "data": {
            "text/plain": [
              "array([[0, 0, 0],\n",
              "       [2, 1, 3],\n",
              "       [4, 2, 6]])"
            ]
          },
          "metadata": {
            "tags": []
          },
          "execution_count": 8
        }
      ]
    },
    {
      "metadata": {
        "id": "4fsOkhyY9QVO",
        "colab_type": "code",
        "colab": {
          "base_uri": "https://localhost:8080/",
          "height": 73
        },
        "outputId": "4edb31c6-4deb-4f98-8cc1-e0d4934c2ce9"
      },
      "cell_type": "code",
      "source": [
        "print(X)"
      ],
      "execution_count": 9,
      "outputs": [
        {
          "output_type": "stream",
          "text": [
            "[[ 0  1  2  3]\n",
            " [ 4  5  6  7]\n",
            " [ 8  9 10 11]]\n"
          ],
          "name": "stdout"
        }
      ]
    },
    {
      "metadata": {
        "id": "bYaD5RWOB4iv",
        "colab_type": "code",
        "colab": {
          "base_uri": "https://localhost:8080/",
          "height": 36
        },
        "outputId": "9f822a11-3909-439d-c594-28f265577450"
      },
      "cell_type": "code",
      "source": [
        "X[2,[2,0,1]]"
      ],
      "execution_count": 10,
      "outputs": [
        {
          "output_type": "execute_result",
          "data": {
            "text/plain": [
              "array([10,  8,  9])"
            ]
          },
          "metadata": {
            "tags": []
          },
          "execution_count": 10
        }
      ]
    },
    {
      "metadata": {
        "id": "ZpSbIITbB7gG",
        "colab_type": "code",
        "colab": {
          "base_uri": "https://localhost:8080/",
          "height": 55
        },
        "outputId": "f89359f2-544c-408a-86f7-291aee07aff2"
      },
      "cell_type": "code",
      "source": [
        "X[1:, [2,0,1]]"
      ],
      "execution_count": 11,
      "outputs": [
        {
          "output_type": "execute_result",
          "data": {
            "text/plain": [
              "array([[ 6,  4,  5],\n",
              "       [10,  8,  9]])"
            ]
          },
          "metadata": {
            "tags": []
          },
          "execution_count": 11
        }
      ]
    },
    {
      "metadata": {
        "id": "MT_iS3ZeCvAS",
        "colab_type": "code",
        "colab": {
          "base_uri": "https://localhost:8080/",
          "height": 73
        },
        "outputId": "84367521-3ebb-4e6c-bcb0-d6ceab02260a"
      },
      "cell_type": "code",
      "source": [
        "mask = np.array([1,0,1,0], dtype=bool)\n",
        "X[row[:, np.newaxis], mask]"
      ],
      "execution_count": 12,
      "outputs": [
        {
          "output_type": "execute_result",
          "data": {
            "text/plain": [
              "array([[ 0,  2],\n",
              "       [ 4,  6],\n",
              "       [ 8, 10]])"
            ]
          },
          "metadata": {
            "tags": []
          },
          "execution_count": 12
        }
      ]
    },
    {
      "metadata": {
        "id": "SByv-iSpC6JF",
        "colab_type": "code",
        "colab": {
          "base_uri": "https://localhost:8080/",
          "height": 36
        },
        "outputId": "5ab1312a-e362-406d-e133-885242905fcd"
      },
      "cell_type": "code",
      "source": [
        "mean = [0,0]\n",
        "cov = [[1,2], [2,5]]\n",
        "X = rand.multivariate_normal(mean, cov, 100)\n",
        "X.shape"
      ],
      "execution_count": 13,
      "outputs": [
        {
          "output_type": "execute_result",
          "data": {
            "text/plain": [
              "(100, 2)"
            ]
          },
          "metadata": {
            "tags": []
          },
          "execution_count": 13
        }
      ]
    },
    {
      "metadata": {
        "id": "NUNBDiHNDNXC",
        "colab_type": "code",
        "colab": {
          "base_uri": "https://localhost:8080/",
          "height": 366
        },
        "outputId": "bc7de7f2-65f4-46fc-d3e9-152c4ecb46c7"
      },
      "cell_type": "code",
      "source": [
        "%matplotlib inline\n",
        "import matplotlib.pyplot as plt\n",
        "import seaborn; seaborn.set() #?\n",
        "\n",
        "plt.scatter(X[:, 0], X[:, 1])"
      ],
      "execution_count": 14,
      "outputs": [
        {
          "output_type": "execute_result",
          "data": {
            "text/plain": [
              "<matplotlib.collections.PathCollection at 0x7f8910615ac8>"
            ]
          },
          "metadata": {
            "tags": []
          },
          "execution_count": 14
        },
        {
          "output_type": "display_data",
          "data": {
            "image/png": "[encoded data removed]",
            "text/plain": [
              "<matplotlib.figure.Figure at 0x7f892250fba8>"
            ]
          },
          "metadata": {
            "tags": []
          }
        }
      ]
    },
    {
      "metadata": {
        "id": "3V67IF-2Eb5k",
        "colab_type": "code",
        "colab": {
          "base_uri": "https://localhost:8080/",
          "height": 55
        },
        "outputId": "3e22bded-caa4-4b10-8c84-0403a3717428"
      },
      "cell_type": "code",
      "source": [
        "indices = np.random.choice(X.shape[0], 20, replace=False)\n",
        "indices"
      ],
      "execution_count": 15,
      "outputs": [
        {
          "output_type": "execute_result",
          "data": {
            "text/plain": [
              "array([10, 39, 80, 76, 84,  5, 95, 48, 41, 17, 29, 11, 62, 20, 69, 83, 53,\n",
              "       19, 21,  3])"
            ]
          },
          "metadata": {
            "tags": []
          },
          "execution_count": 15
        }
      ]
    },
    {
      "metadata": {
        "id": "23zphhhOE7N5",
        "colab_type": "code",
        "colab": {
          "base_uri": "https://localhost:8080/",
          "height": 36
        },
        "outputId": "57f6b305-a520-49c3-fb55-b133f26384c3"
      },
      "cell_type": "code",
      "source": [
        "selection = X[indices]\n",
        "selection.shape"
      ],
      "execution_count": 16,
      "outputs": [
        {
          "output_type": "execute_result",
          "data": {
            "text/plain": [
              "(20, 2)"
            ]
          },
          "metadata": {
            "tags": []
          },
          "execution_count": 16
        }
      ]
    },
    {
      "metadata": {
        "id": "zpMskSopE_tZ",
        "colab_type": "code",
        "colab": {
          "base_uri": "https://localhost:8080/",
          "height": 366
        },
        "outputId": "ec52bfa2-fb60-4180-bad7-baa4ee3e6f07"
      },
      "cell_type": "code",
      "source": [
        "plt.scatter(X[:, 0], X[:, 1], alpha=0.3)\n",
        "plt.scatter(selection[:, 0], selection[:, 1], facecolor='none', s=200)"
      ],
      "execution_count": 18,
      "outputs": [
        {
          "output_type": "execute_result",
          "data": {
            "text/plain": [
              "<matplotlib.collections.PathCollection at 0x7f890dd3c550>"
            ]
          },
          "metadata": {
            "tags": []
          },
          "execution_count": 18
        },
        {
          "output_type": "display_data",
          "data": {
            "image/png": "[encoded data removed]",
            "text/plain": [
              "<matplotlib.figure.Figure at 0x7f89106217b8>"
            ]
          },
          "metadata": {
            "tags": []
          }
        }
      ]
    },
    {
      "metadata": {
        "id": "KrgqkGYJFooR",
        "colab_type": "code",
        "colab": {
          "base_uri": "https://localhost:8080/",
          "height": 36
        },
        "outputId": "96fd5980-ccfd-42b0-bb54-1f6213616c39"
      },
      "cell_type": "code",
      "source": [
        "x = np.arange(10)\n",
        "i = np.array([2,1,8,4])\n",
        "x[i] = 99\n",
        "print(x)"
      ],
      "execution_count": 19,
      "outputs": [
        {
          "output_type": "stream",
          "text": [
            "[ 0 99 99  3 99  5  6  7 99  9]\n"
          ],
          "name": "stdout"
        }
      ]
    },
    {
      "metadata": {
        "id": "6aHd-UtoGF_F",
        "colab_type": "code",
        "colab": {
          "base_uri": "https://localhost:8080/",
          "height": 36
        },
        "outputId": "a652c4ff-3d83-4957-c9d3-220ac62bd93e"
      },
      "cell_type": "code",
      "source": [
        "x[i] -= 10\n",
        "print(x)"
      ],
      "execution_count": 20,
      "outputs": [
        {
          "output_type": "stream",
          "text": [
            "[ 0 89 89  3 89  5  6  7 89  9]\n"
          ],
          "name": "stdout"
        }
      ]
    },
    {
      "metadata": {
        "id": "I95-L3KfGUWg",
        "colab_type": "code",
        "colab": {
          "base_uri": "https://localhost:8080/",
          "height": 36
        },
        "outputId": "266f2e02-a52b-41b7-dc59-af2b9120a7ee"
      },
      "cell_type": "code",
      "source": [
        "x = np.zeros(10)\n",
        "x[[0,0]] = [4,6]\n",
        "print(x)"
      ],
      "execution_count": 21,
      "outputs": [
        {
          "output_type": "stream",
          "text": [
            "[6. 0. 0. 0. 0. 0. 0. 0. 0. 0.]\n"
          ],
          "name": "stdout"
        }
      ]
    },
    {
      "metadata": {
        "id": "m50SZVYhG52B",
        "colab_type": "code",
        "colab": {
          "base_uri": "https://localhost:8080/",
          "height": 36
        },
        "outputId": "b5591316-1393-44dd-9e4f-536dec37b2cd"
      },
      "cell_type": "code",
      "source": [
        "i = [2,3,3,4,4,4]\n",
        "x[i] += 1\n",
        "x"
      ],
      "execution_count": 22,
      "outputs": [
        {
          "output_type": "execute_result",
          "data": {
            "text/plain": [
              "array([6., 0., 1., 1., 1., 0., 0., 0., 0., 0.])"
            ]
          },
          "metadata": {
            "tags": []
          },
          "execution_count": 22
        }
      ]
    },
    {
      "metadata": {
        "id": "a8kMzEhWHhYn",
        "colab_type": "code",
        "colab": {
          "base_uri": "https://localhost:8080/",
          "height": 36
        },
        "outputId": "d0447e4d-f577-4c7e-d53c-4668e4d03543"
      },
      "cell_type": "code",
      "source": [
        "x = np.zeros(10)\n",
        "np.add.at(x,i,1)\n",
        "print(x)"
      ],
      "execution_count": 23,
      "outputs": [
        {
          "output_type": "stream",
          "text": [
            "[0. 0. 1. 2. 3. 0. 0. 0. 0. 0.]\n"
          ],
          "name": "stdout"
        }
      ]
    },
    {
      "metadata": {
        "id": "CUyYU1FuSuMU",
        "colab_type": "code",
        "colab": {}
      },
      "cell_type": "code",
      "source": [
        "np.random.seed(42)\n",
        "x = np.random.randn(100)\n",
        "\n",
        "bins = np.linspace(-5,5,20)\n",
        "counts = np.zeros_like(bins)\n",
        "\n",
        "i = np.searchsorted(bins, x)\n",
        "\n",
        "np.add.at(counts, i, 1)"
      ],
      "execution_count": 0,
      "outputs": []
    },
    {
      "metadata": {
        "id": "b4F1tOJUS_Ic",
        "colab_type": "code",
        "colab": {
          "base_uri": "https://localhost:8080/",
          "height": 366
        },
        "outputId": "79b7ad47-1bf6-46b5-adca-4ec1a8b3f232"
      },
      "cell_type": "code",
      "source": [
        "plt.plot(bins, counts, linestyle='steps')"
      ],
      "execution_count": 25,
      "outputs": [
        {
          "output_type": "execute_result",
          "data": {
            "text/plain": [
              "[<matplotlib.lines.Line2D at 0x7f890dd1ee80>]"
            ]
          },
          "metadata": {
            "tags": []
          },
          "execution_count": 25
        },
        {
          "output_type": "display_data",
          "data": {
            "image/png": "[encoded data removed]",
            "text/plain": [
              "<matplotlib.figure.Figure at 0x7f89106ccdd8>"
            ]
          },
          "metadata": {
            "tags": []
          }
        }
      ]
    },
    {
      "metadata": {
        "id": "niZaJoIpTFRQ",
        "colab_type": "code",
        "colab": {
          "base_uri": "https://localhost:8080/",
          "height": 149
        },
        "outputId": "3a62cfed-742b-45ea-9279-7cae090e272e"
      },
      "cell_type": "code",
      "source": [
        "print('NumPy routine:')\n",
        "%timeit counts, edges = np.histogram(x, bins)\n",
        "\n",
        "print('Custom routine:')\n",
        "%timeit np.add.at(counts, np.searchsorted(bins, x), 1)"
      ],
      "execution_count": 26,
      "outputs": [
        {
          "output_type": "stream",
          "text": [
            "NumPy routine:\n",
            "The slowest run took 7.58 times longer than the fastest. This could mean that an intermediate result is being cached.\n",
            "10000 loops, best of 3: 60.1 µs per loop\n",
            "Custom routine:\n",
            "The slowest run took 13.71 times longer than the fastest. This could mean that an intermediate result is being cached.\n",
            "100000 loops, best of 3: 15.1 µs per loop\n"
          ],
          "name": "stdout"
        }
      ]
    },
    {
      "metadata": {
        "id": "C0WiJ8VZUC08",
        "colab_type": "code",
        "colab": {}
      },
      "cell_type": "code",
      "source": [
        "def selection_sort(x):\n",
        "  for i in range(len(x)):\n",
        "    swap = i + np.argmin(x[i:])\n",
        "    (x[i], x[swap]) = (x[swap], x[i])\n",
        "  return x"
      ],
      "execution_count": 0,
      "outputs": []
    },
    {
      "metadata": {
        "id": "Qv1aaSH0UcBz",
        "colab_type": "code",
        "colab": {
          "base_uri": "https://localhost:8080/",
          "height": 36
        },
        "outputId": "3feee71f-e499-49e6-eaeb-3e1cbe9e35d3"
      },
      "cell_type": "code",
      "source": [
        "x = np.array([2,1,4,3,5])\n",
        "selection_sort(x)"
      ],
      "execution_count": 28,
      "outputs": [
        {
          "output_type": "execute_result",
          "data": {
            "text/plain": [
              "array([1, 2, 3, 4, 5])"
            ]
          },
          "metadata": {
            "tags": []
          },
          "execution_count": 28
        }
      ]
    },
    {
      "metadata": {
        "id": "V8wWQxaeUgz3",
        "colab_type": "code",
        "colab": {}
      },
      "cell_type": "code",
      "source": [
        "def bogosort(x):\n",
        "  while np.any(x[:-1]>x[1:]):\n",
        "    np.random.shuffle(x)\n",
        "  return x"
      ],
      "execution_count": 0,
      "outputs": []
    },
    {
      "metadata": {
        "id": "M1yWK-KLVdM-",
        "colab_type": "code",
        "colab": {
          "base_uri": "https://localhost:8080/",
          "height": 36
        },
        "outputId": "9cb82813-9725-406e-aea0-15d1cdae0624"
      },
      "cell_type": "code",
      "source": [
        "x = np.array([2,1,4,3,5])\n",
        "bogosort(x)"
      ],
      "execution_count": 30,
      "outputs": [
        {
          "output_type": "execute_result",
          "data": {
            "text/plain": [
              "array([1, 2, 3, 4, 5])"
            ]
          },
          "metadata": {
            "tags": []
          },
          "execution_count": 30
        }
      ]
    },
    {
      "metadata": {
        "id": "7tUuZh18Vhg-",
        "colab_type": "code",
        "colab": {
          "base_uri": "https://localhost:8080/",
          "height": 36
        },
        "outputId": "06d11ada-e8c7-463c-a237-15921274a8fa"
      },
      "cell_type": "code",
      "source": [
        "x = np.array([2,1,4,3,5])\n",
        "np.sort(x)"
      ],
      "execution_count": 31,
      "outputs": [
        {
          "output_type": "execute_result",
          "data": {
            "text/plain": [
              "array([1, 2, 3, 4, 5])"
            ]
          },
          "metadata": {
            "tags": []
          },
          "execution_count": 31
        }
      ]
    },
    {
      "metadata": {
        "id": "JJlAcdjlVvzQ",
        "colab_type": "code",
        "colab": {
          "base_uri": "https://localhost:8080/",
          "height": 36
        },
        "outputId": "3a22966a-817c-4d71-c527-228093d13519"
      },
      "cell_type": "code",
      "source": [
        "x.sort()\n",
        "print(x)"
      ],
      "execution_count": 32,
      "outputs": [
        {
          "output_type": "stream",
          "text": [
            "[1 2 3 4 5]\n"
          ],
          "name": "stdout"
        }
      ]
    },
    {
      "metadata": {
        "id": "BuTOu9qGVzJa",
        "colab_type": "code",
        "colab": {
          "base_uri": "https://localhost:8080/",
          "height": 36
        },
        "outputId": "068b749d-c632-42f8-ce5e-31ea32f1134d"
      },
      "cell_type": "code",
      "source": [
        "x = np.array([2,1,4,3,5])\n",
        "i = np.argsort(x)\n",
        "print(i)"
      ],
      "execution_count": 33,
      "outputs": [
        {
          "output_type": "stream",
          "text": [
            "[1 0 3 2 4]\n"
          ],
          "name": "stdout"
        }
      ]
    },
    {
      "metadata": {
        "id": "YZ7Htjo6V532",
        "colab_type": "code",
        "colab": {
          "base_uri": "https://localhost:8080/",
          "height": 36
        },
        "outputId": "fdc669a3-6ab5-45a8-9edc-f1318c6e816a"
      },
      "cell_type": "code",
      "source": [
        "x[i]"
      ],
      "execution_count": 34,
      "outputs": [
        {
          "output_type": "execute_result",
          "data": {
            "text/plain": [
              "array([1, 2, 3, 4, 5])"
            ]
          },
          "metadata": {
            "tags": []
          },
          "execution_count": 34
        }
      ]
    },
    {
      "metadata": {
        "id": "owAOSOgnWATD",
        "colab_type": "code",
        "colab": {
          "base_uri": "https://localhost:8080/",
          "height": 92
        },
        "outputId": "a6af367c-e843-4000-cc87-6adb4859ec2a"
      },
      "cell_type": "code",
      "source": [
        "rand = np.random.RandomState(42)\n",
        "X = rand.randint(0,10,(4,6))\n",
        "print(X)"
      ],
      "execution_count": 35,
      "outputs": [
        {
          "output_type": "stream",
          "text": [
            "[[6 3 7 4 6 9]\n",
            " [2 6 7 4 3 7]\n",
            " [7 2 5 4 1 7]\n",
            " [5 1 4 0 9 5]]\n"
          ],
          "name": "stdout"
        }
      ]
    },
    {
      "metadata": {
        "id": "9jq53xoWWGsl",
        "colab_type": "code",
        "colab": {
          "base_uri": "https://localhost:8080/",
          "height": 92
        },
        "outputId": "6316f992-12a2-409f-cbdc-def3b13c79a6"
      },
      "cell_type": "code",
      "source": [
        "np.sort(X, axis=0) #평균 기준으로 sort되는 건가"
      ],
      "execution_count": 36,
      "outputs": [
        {
          "output_type": "execute_result",
          "data": {
            "text/plain": [
              "array([[2, 1, 4, 0, 1, 5],\n",
              "       [5, 2, 5, 4, 3, 7],\n",
              "       [6, 3, 7, 4, 6, 7],\n",
              "       [7, 6, 7, 4, 9, 9]])"
            ]
          },
          "metadata": {
            "tags": []
          },
          "execution_count": 36
        }
      ]
    },
    {
      "metadata": {
        "id": "p3QSbk0kWJMn",
        "colab_type": "code",
        "colab": {
          "base_uri": "https://localhost:8080/",
          "height": 92
        },
        "outputId": "857936b7-0aef-4ced-e35a-99cce293f26d"
      },
      "cell_type": "code",
      "source": [
        "np.sort(X, axis=1)"
      ],
      "execution_count": 37,
      "outputs": [
        {
          "output_type": "execute_result",
          "data": {
            "text/plain": [
              "array([[3, 4, 6, 6, 7, 9],\n",
              "       [2, 3, 4, 6, 7, 7],\n",
              "       [1, 2, 4, 5, 7, 7],\n",
              "       [0, 1, 4, 5, 5, 9]])"
            ]
          },
          "metadata": {
            "tags": []
          },
          "execution_count": 37
        }
      ]
    },
    {
      "metadata": {
        "id": "evqpmM51WUI0",
        "colab_type": "code",
        "colab": {
          "base_uri": "https://localhost:8080/",
          "height": 36
        },
        "outputId": "4d5cfd28-498c-4cea-d352-6b1454d08bd2"
      },
      "cell_type": "code",
      "source": [
        "x = np.array([7,2,3,1,6,5,4])\n",
        "np.partition(x,3) #근데 이것도 순서가 책의 것과 똑같은데.."
      ],
      "execution_count": 38,
      "outputs": [
        {
          "output_type": "execute_result",
          "data": {
            "text/plain": [
              "array([2, 1, 3, 4, 6, 5, 7])"
            ]
          },
          "metadata": {
            "tags": []
          },
          "execution_count": 38
        }
      ]
    },
    {
      "metadata": {
        "id": "N7ClTku9WnKW",
        "colab_type": "code",
        "colab": {
          "base_uri": "https://localhost:8080/",
          "height": 92
        },
        "outputId": "2e542728-e46b-41f7-e15e-a76e10238366"
      },
      "cell_type": "code",
      "source": [
        "np.partition(X, 2, axis=1)"
      ],
      "execution_count": 39,
      "outputs": [
        {
          "output_type": "execute_result",
          "data": {
            "text/plain": [
              "array([[3, 4, 6, 7, 6, 9],\n",
              "       [2, 3, 4, 7, 6, 7],\n",
              "       [1, 2, 4, 5, 7, 7],\n",
              "       [0, 1, 4, 5, 9, 5]])"
            ]
          },
          "metadata": {
            "tags": []
          },
          "execution_count": 39
        }
      ]
    },
    {
      "metadata": {
        "id": "FH7Hqqf1WxWL",
        "colab_type": "code",
        "colab": {}
      },
      "cell_type": "code",
      "source": [
        "X = rand.rand(10,2)"
      ],
      "execution_count": 0,
      "outputs": []
    },
    {
      "metadata": {
        "id": "s4JOpC6HW6LP",
        "colab_type": "code",
        "colab": {
          "base_uri": "https://localhost:8080/",
          "height": 366
        },
        "outputId": "a503a576-0c46-4fd2-bd42-139fbcb2ae43"
      },
      "cell_type": "code",
      "source": [
        "%matplotlib inline\n",
        "import matplotlib.pyplot as plt\n",
        "import seaborn; seaborn.set() #코드에 ;가 쓰이나?\n",
        "plt.scatter(X[:, 0], X[:, 1], s=100)"
      ],
      "execution_count": 42,
      "outputs": [
        {
          "output_type": "execute_result",
          "data": {
            "text/plain": [
              "<matplotlib.collections.PathCollection at 0x7f890dc5e828>"
            ]
          },
          "metadata": {
            "tags": []
          },
          "execution_count": 42
        },
        {
          "output_type": "display_data",
          "data": {
            "image/png": "[encoded data removed]",
            "text/plain": [
              "<matplotlib.figure.Figure at 0x7f890dd6bb38>"
            ]
          },
          "metadata": {
            "tags": []
          }
        }
      ]
    },
    {
      "metadata": {
        "id": "FWs09bfxXG4E",
        "colab_type": "code",
        "colab": {}
      },
      "cell_type": "code",
      "source": [
        "dist_sq = np.sum((X[:, np.newaxis, :] - X[np.newaxis, :, :])**2, axis=-1)"
      ],
      "execution_count": 0,
      "outputs": []
    },
    {
      "metadata": {
        "id": "rdEnpn0xXZP_",
        "colab_type": "code",
        "colab": {
          "base_uri": "https://localhost:8080/",
          "height": 36
        },
        "outputId": "cc579a7c-f429-4c4b-9f29-a8a427a19350"
      },
      "cell_type": "code",
      "source": [
        "differences = X[:, np.newaxis, :] - X[np.newaxis, :, :]\n",
        "differences.shape"
      ],
      "execution_count": 44,
      "outputs": [
        {
          "output_type": "execute_result",
          "data": {
            "text/plain": [
              "(10, 10, 2)"
            ]
          },
          "metadata": {
            "tags": []
          },
          "execution_count": 44
        }
      ]
    },
    {
      "metadata": {
        "id": "b-KMONm7Xgsd",
        "colab_type": "code",
        "colab": {
          "base_uri": "https://localhost:8080/",
          "height": 36
        },
        "outputId": "2760d9ea-d3a2-4075-9b46-a9ee2800003c"
      },
      "cell_type": "code",
      "source": [
        "sq_differences = differences ** 2\n",
        "sq_differences.shape"
      ],
      "execution_count": 45,
      "outputs": [
        {
          "output_type": "execute_result",
          "data": {
            "text/plain": [
              "(10, 10, 2)"
            ]
          },
          "metadata": {
            "tags": []
          },
          "execution_count": 45
        }
      ]
    },
    {
      "metadata": {
        "id": "FukuPCQHX0XW",
        "colab_type": "code",
        "colab": {
          "base_uri": "https://localhost:8080/",
          "height": 36
        },
        "outputId": "f19c5f93-ac96-4b85-ce9d-0098533d6820"
      },
      "cell_type": "code",
      "source": [
        "dist_sq = sq_differences.sum(-1)\n",
        "dist_sq.shape"
      ],
      "execution_count": 46,
      "outputs": [
        {
          "output_type": "execute_result",
          "data": {
            "text/plain": [
              "(10, 10)"
            ]
          },
          "metadata": {
            "tags": []
          },
          "execution_count": 46
        }
      ]
    },
    {
      "metadata": {
        "id": "FVaeO1cdX50S",
        "colab_type": "code",
        "colab": {
          "base_uri": "https://localhost:8080/",
          "height": 36
        },
        "outputId": "f3ebc4ca-8eaf-4681-8ed6-574b09b00725"
      },
      "cell_type": "code",
      "source": [
        "dist_sq.diagonal()"
      ],
      "execution_count": 47,
      "outputs": [
        {
          "output_type": "execute_result",
          "data": {
            "text/plain": [
              "array([0., 0., 0., 0., 0., 0., 0., 0., 0., 0.])"
            ]
          },
          "metadata": {
            "tags": []
          },
          "execution_count": 47
        }
      ]
    },
    {
      "metadata": {
        "id": "C3J5BHtZX8Jt",
        "colab_type": "code",
        "colab": {
          "base_uri": "https://localhost:8080/",
          "height": 204
        },
        "outputId": "2c49ef60-a0d5-42f0-998a-c8b758606236"
      },
      "cell_type": "code",
      "source": [
        "nearest = np.argsort(dist_sq, axis=1)\n",
        "print(nearest)"
      ],
      "execution_count": 48,
      "outputs": [
        {
          "output_type": "stream",
          "text": [
            "[[0 3 9 7 1 4 2 5 6 8]\n",
            " [1 4 7 9 3 6 8 5 0 2]\n",
            " [2 1 4 6 3 0 8 9 7 5]\n",
            " [3 9 7 0 1 4 5 8 6 2]\n",
            " [4 1 8 5 6 7 9 3 0 2]\n",
            " [5 8 6 4 1 7 9 3 2 0]\n",
            " [6 8 5 4 1 7 9 3 2 0]\n",
            " [7 9 3 1 4 0 5 8 6 2]\n",
            " [8 5 6 4 1 7 9 3 2 0]\n",
            " [9 7 3 0 1 4 5 8 6 2]]\n"
          ],
          "name": "stdout"
        }
      ]
    },
    {
      "metadata": {
        "id": "X3ndK4AdYIgP",
        "colab_type": "code",
        "colab": {}
      },
      "cell_type": "code",
      "source": [
        "K = 2\n",
        "nearest_partition = np.argpartition(dist_sq, K + 1, axis=1)"
      ],
      "execution_count": 0,
      "outputs": []
    },
    {
      "metadata": {
        "id": "oFnVW_daYOVj",
        "colab_type": "code",
        "colab": {
          "base_uri": "https://localhost:8080/",
          "height": 347
        },
        "outputId": "855c713f-e00e-4dc2-c7e6-fb10d9c6e4a4"
      },
      "cell_type": "code",
      "source": [
        "plt.scatter(X[:, 0], X[:, 1], s=100)\n",
        "\n",
        "K = 2\n",
        "\n",
        "for i in range(X.shape[0]):\n",
        "  for j in nearest_partition[i, :K+1]:\n",
        "    plt.plot(*zip(X[j],X[i]), color='black')"
      ],
      "execution_count": 50,
      "outputs": [
        {
          "output_type": "display_data",
          "data": {
            "image/png": "[encoded data removed]",
            "text/plain": [
              "<matplotlib.figure.Figure at 0x7f890dc5e898>"
            ]
          },
          "metadata": {
            "tags": []
          }
        }
      ]
    },
    {
      "metadata": {
        "id": "KMlygKHnYiEh",
        "colab_type": "code",
        "colab": {}
      },
      "cell_type": "code",
      "source": [
        ""
      ],
      "execution_count": 0,
      "outputs": []
    }
  ]
}